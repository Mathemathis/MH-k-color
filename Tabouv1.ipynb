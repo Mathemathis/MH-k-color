{
 "cells": [
  {
   "cell_type": "markdown",
   "metadata": {},
   "source": [
    "# The knapsack problem example"
   ]
  },
  {
   "cell_type": "markdown",
   "metadata": {},
   "source": [
    "The purpose of this tutorial is to demonstrate how to formulate and solve a\n",
    "simple optimization problem."
   ]
  },
  {
   "cell_type": "markdown",
   "metadata": {},
   "source": [
    "## Required packages"
   ]
  },
  {
   "cell_type": "markdown",
   "metadata": {},
   "source": [
    "This tutorial requires the following packages:"
   ]
  },
  {
   "cell_type": "code",
   "execution_count": 1,
   "metadata": {},
   "outputs": [],
   "source": [
    "import Pkg\n",
    "using LinearAlgebra\n",
    "using Random\n",
    "using Plots"
   ]
  },
  {
   "cell_type": "code",
   "execution_count": 2,
   "metadata": {},
   "outputs": [
    {
     "data": {
      "text/plain": [
       "\"dsjc250.1.col.txt\""
      ]
     },
     "metadata": {},
     "output_type": "display_data"
    }
   ],
   "source": [
    "const n = 250\n",
    "const k =8\n",
    "file = \"dsjc250.1.col.txt\""
   ]
  },
  {
   "cell_type": "code",
   "execution_count": 3,
   "metadata": {},
   "outputs": [
    {
     "ename": "KeyError",
     "evalue": "KeyError: key 7 not found",
     "output_type": "error",
     "traceback": [
      "KeyError: key 7 not found\n",
      "\n",
      "Stacktrace:\n",
      " [1] getindex(h::Dict{Int64, Vector{Int64}}, key::Int64)\n",
      "   @ Base .\\dict.jl:484\n",
      " [2] top-level scope\n",
      "   @ c:\\Users\\Mathis\\Documents\\Etudes\\4A\\Cours-MPRO\\MH\\Projet copy.ipynb:15"
     ]
    }
   ],
   "source": [
    "adjacence_list=Dict{Int, Vector{Int}}()\n",
    "adjacence_list[1]=[2, 3, 4,5,6]\n",
    "adjacence_list[2]=[1, 3, 4, 5]\n",
    "adjacence_list[3]=[1, 2, 4]\n",
    "adjacence_list[4]=[1, 2, 3]\n",
    "adjacence_list[5]=[1, 2]\n",
    "adjacence_list[6]=[1]\n",
    "adjacence_list\n",
    "\n",
    "\"\"\"\n",
    "Calcul des degrés et l'ordre décroissant\n",
    "\"\"\"\n",
    "degree=zeros(Int, n)\n",
    "for i in 1:n\n",
    "    degree[i]=size(adjacence_list[i])[1]\n",
    "end\n",
    "\n",
    "indice_degree = sortperm(degree, rev=true)"
   ]
  },
  {
   "cell_type": "code",
   "execution_count": 3,
   "metadata": {},
   "outputs": [
    {
     "data": {
      "text/plain": [
       "250-element Vector{Int64}:\n",
       " 238\n",
       "   1\n",
       " 154\n",
       "  69\n",
       " 117\n",
       " 241\n",
       "   5\n",
       "  35\n",
       "  65\n",
       "  87\n",
       "   ⋮\n",
       " 170\n",
       " 184\n",
       " 216\n",
       " 239\n",
       "  78\n",
       " 178\n",
       " 246\n",
       " 142\n",
       " 185"
      ]
     },
     "metadata": {},
     "output_type": "display_data"
    }
   ],
   "source": [
    "function define_adjacence_list(file, n)\n",
    "    \"\"\"\n",
    "    Lecture du fichier et Création liste d'adjacence\n",
    "    \"\"\"\n",
    "    file_read = open(file,\"r\");\n",
    "    lines = readlines(file_read)\n",
    "    adjacence_list = Dict{Int, Vector{Int}}()\n",
    "    for line in lines\n",
    "        st=split(line, \" \")\n",
    "        if st[1]==\"e\"\n",
    "            u=parse(Int, st[2])\n",
    "            v=parse(Int, st[3])\n",
    "            if haskey(adjacence_list, u)\n",
    "                push!(adjacence_list[u], v)\n",
    "            else\n",
    "                adjacence_list[u] = [v]\n",
    "            end\n",
    "        \n",
    "            if haskey(adjacence_list, v)\n",
    "                push!(adjacence_list[v], u)\n",
    "            else\n",
    "                adjacence_list[v] = [u]\n",
    "            end\n",
    "        end\n",
    "    end\n",
    "    return adjacence_list\n",
    "end\n",
    "\n",
    "adjacence_list=define_adjacence_list(file, n)\n",
    "\n",
    "\"\"\"\n",
    "Calcul des degrés et l'ordre décroissant\n",
    "\"\"\"\n",
    "degree=zeros(Int, n)\n",
    "for i in 1:n\n",
    "    degree[i]=size(adjacence_list[i])[1]\n",
    "end\n",
    "\n",
    "indice_degree = sortperm(degree, rev=true)"
   ]
  },
  {
   "cell_type": "code",
   "execution_count": 4,
   "metadata": {},
   "outputs": [
    {
     "data": {
      "text/plain": [
       "random_coloring (generic function with 2 methods)"
      ]
     },
     "metadata": {},
     "output_type": "display_data"
    }
   ],
   "source": [
    "function random_coloring(n, k, seed=0)\n",
    "    \"\"\"\n",
    "    Coloriage aléatoire\n",
    "    \"\"\"\n",
    "    Random.seed!(seed)\n",
    "    return rand(1:k, n)\n",
    "end"
   ]
  },
  {
   "cell_type": "code",
   "execution_count": 4,
   "metadata": {},
   "outputs": [
    {
     "data": {
      "text/plain": [
       "glouton (generic function with 1 method)"
      ]
     },
     "metadata": {},
     "output_type": "display_data"
    }
   ],
   "source": [
    "\"\"\"\n",
    "Algo glouton qui parcourt les sommets selon la degré\n",
    "\"\"\"\n",
    "\n",
    "function min_color_glouton(adjacence_list, Color, k, i)\n",
    "    color_used=zeros(Int, k)\n",
    "    for j in adjacence_list[i]\n",
    "        if Color[j]!=0\n",
    "            color_used[Color[j]]+=1\n",
    "        end\n",
    "    end\n",
    "    for index_color in 1:k\n",
    "        if color_used[index_color]==0\n",
    "            return index_color\n",
    "        end\n",
    "    end\n",
    "    return argmin(color_used)\n",
    "end\n",
    "\n",
    "\n",
    "\n",
    "\n",
    "function glouton(adjacence_list, indice_degree, n, k)\n",
    "    Color =zeros(Int, n)\n",
    "    for i in indice_degree\n",
    "        Color[i]=min_color_glouton(adjacence_list, Color, k, i)\n",
    "    end\n",
    "    return Color\n",
    "end"
   ]
  },
  {
   "cell_type": "code",
   "execution_count": 5,
   "metadata": {},
   "outputs": [
    {
     "data": {
      "text/plain": [
       "count_conflict (generic function with 1 method)"
      ]
     },
     "metadata": {},
     "output_type": "display_data"
    }
   ],
   "source": [
    "function count_conflict(adjacence_list, Color, n)\n",
    "    \"\"\"\n",
    "    Compte le nombre de conflits dans une solution\n",
    "    \"\"\"\n",
    "    Count=0\n",
    "    list_conflit=[] #Liste des sommets en conflit\n",
    "    bool_list_conflit=[0 for i in 1:n] # 1 si le sommet est en conflit, 0 sinon \n",
    "    for i in 1:n\n",
    "        for j in adjacence_list[i]\n",
    "            if Color[i]==Color[j] && j>i\n",
    "                Count+=1\n",
    "                if bool_list_conflit[i]==0\n",
    "                    bool_list_conflit[i]=1\n",
    "                    push!(list_conflit,i)\n",
    "                end\n",
    "                if bool_list_conflit[j]==0\n",
    "                    bool_list_conflit[j]=1\n",
    "                    push!(list_conflit,j)\n",
    "                end\n",
    "            end\n",
    "        end\n",
    "    end\n",
    "    return Count, list_conflit\n",
    "end"
   ]
  },
  {
   "cell_type": "code",
   "execution_count": 6,
   "metadata": {},
   "outputs": [
    {
     "data": {
      "text/plain": [
       "(44, Any[2, 61, 5, 112, 11, 28, 12, 24, 14, 151  …  190, 176, 238, 181, 237, 184, 185, 188, 233, 241])"
      ]
     },
     "metadata": {},
     "output_type": "display_data"
    }
   ],
   "source": [
    "sol_glouton=glouton(adjacence_list, indice_degree, n, k)\n",
    "count, list_conflit=count_conflict(adjacence_list, sol_glouton, n)"
   ]
  },
  {
   "cell_type": "code",
   "execution_count": 7,
   "metadata": {},
   "outputs": [
    {
     "data": {
      "text/plain": [
       "amelioration_locale (generic function with 1 method)"
      ]
     },
     "metadata": {},
     "output_type": "display_data"
    }
   ],
   "source": [
    "function initialize_T_conf(adjacence_list, sol, n, k)\n",
    "    T_conf=zeros(Int, n, k)\n",
    "    for i in 1:n\n",
    "        for j in adjacence_list[i]\n",
    "            T_conf[j, sol[i]]+=1\n",
    "        end\n",
    "    end\n",
    "    return T_conf\n",
    "end\n",
    "\n",
    "function best_voisinbis(adjacence_list, sol, T_conf, indice_degree, n, k)\n",
    "    index=0\n",
    "    c_index=0\n",
    "    c_index_1=0\n",
    "    max=-n\n",
    "    for i in indice_degree\n",
    "        for c in 1:k\n",
    "            if T_conf[i, sol[i]]-T_conf[i, c]>max && c!=sol[i]\n",
    "                index=i\n",
    "                c_index_1=sol[i]\n",
    "                c_index=c\n",
    "                max = T_conf[i, sol[i]]-T_conf[i, c]\n",
    "            end\n",
    "        end\n",
    "    end\n",
    "    for j in adjacence_list[index]\n",
    "        T_conf[j, c_index_1]-=1\n",
    "        T_conf[j, c_index]+=1\n",
    "    end\n",
    "    return index, c_index, max\n",
    "end\n",
    "\n",
    "\n",
    "function amelioration_locale(sol, adjacence_list, indice_degree, degree, n, k)\n",
    "    best_sol=deepcopy(sol)\n",
    "    flag=true\n",
    "    step=0\n",
    "    T_conf=initialize_T_conf(adjacence_list, best_sol, n, k)\n",
    "    while flag && step < 200\n",
    "        index, c_index, diff = best_voisinbis(adjacence_list, best_sol, T_conf, indice_degree, n, k)\n",
    "        if diff >= 1 \n",
    "            best_sol[index]=c_index\n",
    "            # print(diff, ' ', count_conflict(adjacence_list, best_sol, n), '\\n')\n",
    "        else\n",
    "            flag = false\n",
    "        end\n",
    "        step+=1\n",
    "    end\n",
    "    return best_sol\n",
    "end"
   ]
  },
  {
   "cell_type": "code",
   "execution_count": 8,
   "metadata": {},
   "outputs": [
    {
     "data": {
      "text/plain": [
       "(35, Any[2, 61, 5, 112, 11, 28, 12, 24, 14, 151  …  227, 176, 238, 181, 237, 184, 185, 188, 233, 241])"
      ]
     },
     "metadata": {},
     "output_type": "display_data"
    }
   ],
   "source": [
    "count_conflict(adjacence_list, amelioration_locale(sol_glouton, adjacence_list, indice_degree, degree, n, k), n)"
   ]
  },
  {
   "cell_type": "code",
   "execution_count": 9,
   "metadata": {},
   "outputs": [
    {
     "data": {
      "text/plain": [
       "best_voisin_tabou (generic function with 1 method)"
      ]
     },
     "metadata": {},
     "output_type": "display_data"
    }
   ],
   "source": [
    "function best_voisin_tabou(adjacence_list, sol, T_conf, tabou_matrix, indice_degree, step, n, k, val_act, val_min)\n",
    "    index=0\n",
    "    c_index=0\n",
    "    c_index_1=0\n",
    "    max=-n\n",
    "    for i in indice_degree\n",
    "        for c in 1:k\n",
    "            if tabou_matrix[i, c]<=step || T_conf[i, sol[i]]-T_conf[i, c]>=(val_act-val_min)/2+1\n",
    "                if T_conf[i, sol[i]]-T_conf[i, c]>max && c!=sol[i]\n",
    "                    index=i\n",
    "                    c_index_1=sol[i]\n",
    "                    c_index=c\n",
    "                    max = T_conf[i, sol[i]]-T_conf[i, c]\n",
    "                end\n",
    "            end\n",
    "        end\n",
    "    end\n",
    "    if index==0\n",
    "        print(step, \"ERROR\")\n",
    "    end\n",
    "    for j in adjacence_list[index]\n",
    "        T_conf[j, c_index_1]-=1\n",
    "        T_conf[j, c_index]+=1\n",
    "    end\n",
    "    return index, c_index, max\n",
    "end"
   ]
  },
  {
   "cell_type": "code",
   "execution_count": 31,
   "metadata": {},
   "outputs": [
    {
     "data": {
      "text/plain": [
       "tabou (generic function with 1 method)"
      ]
     },
     "metadata": {},
     "output_type": "display_data"
    }
   ],
   "source": [
    "function tabou(adjacence_list, indice_degree, degree, n, k)\n",
    "    sol=glouton(adjacence_list, indice_degree, n, k)\n",
    "    best_sol=deepcopy(sol)\n",
    "    Count_init, list_conflit=count_conflict(adjacence_list, sol,n)\n",
    "    Count=[Count_init]\n",
    "    min_count=Count_init\n",
    "    step=0\n",
    "    T_conf=initialize_T_conf(adjacence_list, best_sol, n, k)\n",
    "    length_tabou=1\n",
    "    tabou_matrix=zeros(Int, n,k)\n",
    "    cycle=Dict{Tuple, Tuple}()\n",
    "    for i in 1:n\n",
    "        for c in 1:k\n",
    "            cycle[i,c]=(i,c)\n",
    "        end\n",
    "    end\n",
    "    last_change=(1,1)\n",
    "    last_change_tabou=0\n",
    "    while step < 5000000\n",
    "        if Random.rand(1:500)==1\n",
    "            tabou_matrix=zeros(Int, n,k)\n",
    "            length_tabou=1\n",
    "        end\n",
    "        index, c_index, diff = best_voisin_tabou(adjacence_list, sol, T_conf, tabou_matrix, indice_degree, step, n, k, last(count), min_count)\n",
    "        sol[index]=c_index\n",
    "        if cycle[last_change]==(index, c_index)\n",
    "            if length_tabou <n*k/6 && step > last_change_tabou+length_tabou\n",
    "                length_tabou+=k\n",
    "                last_change_tabou=step\n",
    "            end\n",
    "        end\n",
    "        tabou_matrix[index, c_index]=step+length_tabou\n",
    "        Count_step=last(Count)-diff\n",
    "        push!(Count, Count_step)\n",
    "        if Count_step < min_count\n",
    "            min_count=Count_step\n",
    "            best_sol=deepcopy(sol)\n",
    "            length_tabou=1\n",
    "            tabou_matrix=zeros(Int, n,k)\n",
    "            last_change_tabou=step\n",
    "            if min_count==0\n",
    "                return best_sol, Count\n",
    "            end\n",
    "        end\n",
    "        cycle[last_change]=(index, c_index)\n",
    "        last_change=(index,c_index)\n",
    "        step+=1\n",
    "    end\n",
    "    return best_sol, Count\n",
    "end"
   ]
  },
  {
   "cell_type": "code",
   "execution_count": 32,
   "metadata": {},
   "outputs": [
    {
     "data": {
      "text/plain": [
       "(0, Any[])"
      ]
     },
     "metadata": {},
     "output_type": "display_data"
    }
   ],
   "source": [
    "sol_tabou, Count_tabou=tabou(adjacence_list, indice_degree, degree, n, k)\n",
    "# minimum(Count_tabou)\n",
    "# plot(Count_tabou)\n",
    "count_conflict(adjacence_list, sol_tabou, n)"
   ]
  },
  {
   "cell_type": "code",
   "execution_count": 23,
   "metadata": {},
   "outputs": [],
   "source": [
    "# plot(Count_tabou)"
   ]
  }
 ],
 "metadata": {
  "kernelspec": {
   "display_name": "Julia 1.9.3",
   "language": "julia",
   "name": "julia-1.9"
  },
  "language_info": {
   "file_extension": ".jl",
   "mimetype": "application/julia",
   "name": "julia",
   "version": "1.9.3"
  }
 },
 "nbformat": 4,
 "nbformat_minor": 4
}
