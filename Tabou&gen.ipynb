{
 "cells": [
  {
   "cell_type": "markdown",
   "metadata": {},
   "source": [
    "# K coloration d'un graphe"
   ]
  },
  {
   "cell_type": "code",
   "execution_count": 1,
   "metadata": {},
   "outputs": [],
   "source": [
    "import Pkg\n",
    "using LinearAlgebra\n",
    "using Random\n",
    "using Plots\n",
    "using XLSX"
   ]
  },
  {
   "cell_type": "markdown",
   "metadata": {},
   "source": [
    "## Lecture des fichiers txt"
   ]
  },
  {
   "cell_type": "code",
   "execution_count": 2,
   "metadata": {},
   "outputs": [
    {
     "data": {
      "text/plain": [
       "\"dsjc125.1.col.txt\""
      ]
     },
     "execution_count": 2,
     "metadata": {},
     "output_type": "execute_result"
    }
   ],
   "source": [
    "const n = 125\n",
    "const k =5\n",
    "file = \"dsjc125.1.col.txt\""
   ]
  },
  {
   "cell_type": "code",
   "execution_count": 3,
   "metadata": {},
   "outputs": [
    {
     "data": {
      "text/plain": [
       "125-element Vector{Int64}:\n",
       "  84\n",
       "  62\n",
       "  77\n",
       " 110\n",
       "  51\n",
       "  69\n",
       "  91\n",
       " 122\n",
       "  35\n",
       "   9\n",
       "  17\n",
       "  42\n",
       "  52\n",
       "   ⋮\n",
       "  90\n",
       " 100\n",
       " 121\n",
       "  20\n",
       "  21\n",
       "  33\n",
       "  39\n",
       "  87\n",
       "  34\n",
       "  60\n",
       "  95\n",
       " 109"
      ]
     },
     "execution_count": 3,
     "metadata": {},
     "output_type": "execute_result"
    }
   ],
   "source": [
    "function define_adjacence_list(file, n)\n",
    "    \"\"\"\n",
    "    Lecture du fichier et Création liste d'adjacence\n",
    "    \"\"\"\n",
    "    file_read = open(file,\"r\");\n",
    "    lines = readlines(file_read)\n",
    "    adjacence_list = Dict{Int, Vector{Int}}()\n",
    "    for line in lines\n",
    "        st=split(line, \" \")\n",
    "        if st[1]==\"e\"\n",
    "            u=parse(Int, st[2])\n",
    "            v=parse(Int, st[3])\n",
    "            if haskey(adjacence_list, u)\n",
    "                push!(adjacence_list[u], v)\n",
    "            else\n",
    "                adjacence_list[u] = [v]\n",
    "            end\n",
    "        \n",
    "            if haskey(adjacence_list, v)\n",
    "                push!(adjacence_list[v], u)\n",
    "            else\n",
    "                adjacence_list[v] = [u]\n",
    "            end\n",
    "        end\n",
    "    end\n",
    "    return adjacence_list\n",
    "end\n",
    "\n",
    "adjacence_list=define_adjacence_list(file, n)\n",
    "\n",
    "\"\"\"\n",
    "Calcul des degrés et l'ordre décroissant\n",
    "\"\"\"\n",
    "degree=zeros(Int, n)\n",
    "for i in 1:n\n",
    "    degree[i]=size(adjacence_list[i])[1]\n",
    "end\n",
    "\n",
    "adjacence_list=define_adjacence_list(file, n)\n",
    "\n",
    "indice_degree = sortperm(degree, rev=true)"
   ]
  },
  {
   "cell_type": "markdown",
   "metadata": {},
   "source": [
    "## Heuristique gloutonne"
   ]
  },
  {
   "cell_type": "code",
   "execution_count": 4,
   "metadata": {},
   "outputs": [
    {
     "data": {
      "text/plain": [
       "random_coloring (generic function with 1 method)"
      ]
     },
     "execution_count": 4,
     "metadata": {},
     "output_type": "execute_result"
    }
   ],
   "source": [
    "function random_coloring(n, k)\n",
    "    \"\"\"\n",
    "    Coloriage aléatoire\n",
    "    \"\"\"\n",
    "    return rand(1:k, n)\n",
    "end"
   ]
  },
  {
   "cell_type": "code",
   "execution_count": 5,
   "metadata": {},
   "outputs": [
    {
     "data": {
      "text/plain": [
       "glouton (generic function with 1 method)"
      ]
     },
     "execution_count": 5,
     "metadata": {},
     "output_type": "execute_result"
    }
   ],
   "source": [
    "\"\"\"\n",
    "Algo glouton qui parcourt les sommets selon la degré\n",
    "\"\"\"\n",
    "\n",
    "function min_color_glouton(adjacence_list, Color, k, i)\n",
    "    #Renvoie une des couleurs les moins utilisées dans la liste d'adjacence\n",
    "    color_used=zeros(Int, k)\n",
    "    for j in adjacence_list[i]\n",
    "        if Color[j]!=0\n",
    "            color_used[Color[j]]+=1\n",
    "        end\n",
    "    end\n",
    "    for index_color in 1:k\n",
    "        if color_used[index_color]==0\n",
    "            return index_color\n",
    "        end\n",
    "    end\n",
    "    return argmin(color_used)\n",
    "end\n",
    "\n",
    "\n",
    "\n",
    "function glouton(adjacence_list, indice_degree, n, k)\n",
    "    Color =zeros(Int, n)\n",
    "    for i in indice_degree\n",
    "        Color[i]=min_color_glouton(adjacence_list, Color, k, i)\n",
    "    end\n",
    "    return Color\n",
    "end"
   ]
  },
  {
   "cell_type": "code",
   "execution_count": 6,
   "metadata": {},
   "outputs": [
    {
     "data": {
      "text/plain": [
       "count_conflict (generic function with 1 method)"
      ]
     },
     "execution_count": 6,
     "metadata": {},
     "output_type": "execute_result"
    }
   ],
   "source": [
    "function count_conflict(adjacence_list, Color, n)\n",
    "    \"\"\"\n",
    "    Compte le nombre de conflits dans une solution\n",
    "    \"\"\"\n",
    "    Count=0\n",
    "    list_conflit=[] #Liste des sommets en conflit\n",
    "    bool_list_conflit=[0 for i in 1:n] # 1 si le sommet est en conflit, 0 sinon \n",
    "    for i in 1:n\n",
    "        for j in adjacence_list[i]\n",
    "            if Color[i]==Color[j] && j>i\n",
    "                Count+=1\n",
    "                if bool_list_conflit[i]==0\n",
    "                    bool_list_conflit[i]=1\n",
    "                    push!(list_conflit,i)\n",
    "                end\n",
    "                if bool_list_conflit[j]==0\n",
    "                    bool_list_conflit[j]=1\n",
    "                    push!(list_conflit,j)\n",
    "                end\n",
    "            end\n",
    "        end\n",
    "    end\n",
    "    return Count, list_conflit\n",
    "end"
   ]
  },
  {
   "cell_type": "code",
   "execution_count": 7,
   "metadata": {},
   "outputs": [
    {
     "data": {
      "text/plain": [
       "(19, Any[8, 19, 13, 14, 24, 120, 25, 106, 29, 69  …  73, 84, 101, 100, 115, 108, 122, 112, 113, 119])"
      ]
     },
     "execution_count": 7,
     "metadata": {},
     "output_type": "execute_result"
    }
   ],
   "source": [
    "sol_glouton=glouton(adjacence_list, indice_degree, n, k)\n",
    "count, list_conflit=count_conflict(adjacence_list, sol_glouton, n)"
   ]
  },
  {
   "cell_type": "markdown",
   "metadata": {},
   "source": [
    "## Heuristique d'amélioration locale"
   ]
  },
  {
   "cell_type": "code",
   "execution_count": 8,
   "metadata": {},
   "outputs": [
    {
     "data": {
      "text/plain": [
       "amelioration_locale (generic function with 1 method)"
      ]
     },
     "execution_count": 8,
     "metadata": {},
     "output_type": "execute_result"
    }
   ],
   "source": [
    "function initialize_T_conf(adjacence_list, sol, n, k)\n",
    "    \"\"\"\n",
    "    Renvoie la matrice T des conflits d'une solution\n",
    "    \"\"\"\n",
    "    T_conf=zeros(Float64, n, k)\n",
    "    for i in 1:n\n",
    "        for j in adjacence_list[i]\n",
    "            T_conf[j, sol[i]]+=1\n",
    "        end\n",
    "    end\n",
    "    return T_conf\n",
    "end\n",
    "\n",
    "function best_voisin(adjacence_list, sol, T_conf, indice_degree, n, k)\n",
    "    \"\"\"\n",
    "    Renvoie le meilleur mouvement/voisin d'une solution et le coût associé au mouvement\n",
    "    \"\"\"\n",
    "    index=0\n",
    "    c_index=0\n",
    "    c_index_1=0\n",
    "    max=-n\n",
    "    for i in indice_degree\n",
    "        for c in 1:k\n",
    "            if T_conf[i, sol[i]]-T_conf[i, c]>max && c!=sol[i]\n",
    "                index=i\n",
    "                c_index_1=sol[i]\n",
    "                c_index=c\n",
    "                max = T_conf[i, sol[i]]-T_conf[i, c]\n",
    "            end\n",
    "        end\n",
    "    end\n",
    "    for j in adjacence_list[index]\n",
    "        T_conf[j, c_index_1]-=1\n",
    "        T_conf[j, c_index]+=1\n",
    "    end\n",
    "    return index, c_index, max\n",
    "end\n",
    "\n",
    "\n",
    "function amelioration_locale(sol, adjacence_list, indice_degree, degree, n, k)\n",
    "    \"\"\"\n",
    "    Renvoie le premier optimum local rencontré\n",
    "    \"\"\"\n",
    "    best_sol=deepcopy(sol)\n",
    "    flag=true\n",
    "    step=0\n",
    "    T_conf=initialize_T_conf(adjacence_list, best_sol, n, k)\n",
    "    while flag && step < 200\n",
    "        index, c_index, diff = best_voisin(adjacence_list, best_sol, T_conf, indice_degree, n, k)\n",
    "        if diff >= 1 \n",
    "            best_sol[index]=c_index\n",
    "        else\n",
    "            flag = false\n",
    "        end\n",
    "        step+=1\n",
    "    end\n",
    "    return best_sol\n",
    "end"
   ]
  },
  {
   "cell_type": "code",
   "execution_count": 9,
   "metadata": {},
   "outputs": [
    {
     "data": {
      "text/plain": [
       "(12, Any[8, 19, 13, 14, 24, 120, 25, 106, 30, 76  …  69, 77, 84, 101, 100, 115, 108, 122, 117, 119])"
      ]
     },
     "execution_count": 9,
     "metadata": {},
     "output_type": "execute_result"
    }
   ],
   "source": [
    "count_conflict(adjacence_list, amelioration_locale(sol_glouton, adjacence_list, indice_degree, degree, n, k), n)"
   ]
  },
  {
   "cell_type": "markdown",
   "metadata": {},
   "source": [
    "## Heuristique Tabou"
   ]
  },
  {
   "cell_type": "code",
   "execution_count": 10,
   "metadata": {},
   "outputs": [
    {
     "data": {
      "text/plain": [
       "best_voisin_tabou (generic function with 1 method)"
      ]
     },
     "execution_count": 10,
     "metadata": {},
     "output_type": "execute_result"
    }
   ],
   "source": [
    "function best_voisin_tabou(adjacence_list, sol, T_conf, tabou_matrix, step, n, k, val_act, val_min)\n",
    "    \"\"\"\n",
    "    Renvoie le meilleur voisin non tabou\n",
    "    \"\"\"\n",
    "    index=0\n",
    "    c_index=0\n",
    "    c_index_1=0\n",
    "    diff=-n\n",
    "    for i in shuffle(1:n)[1:100]\n",
    "        explo=0\n",
    "        for c in 1:k\n",
    "            if tabou_matrix[i, c]<=step || T_conf[i, sol[i]]-T_conf[i, c]>= 0.8*(val_act-val_min)+1 #Critère d'aspiration oublié dans le rapport\n",
    "                if T_conf[i, sol[i]]-T_conf[i, c]>diff && c!=sol[i]\n",
    "                    index=i\n",
    "                    c_index_1=sol[i]\n",
    "                    c_index=c\n",
    "                    diff = T_conf[i, sol[i]]-T_conf[i, c]\n",
    "                end\n",
    "            end\n",
    "        end\n",
    "    end\n",
    "    if index==0\n",
    "        print(step, \"ERROR\")\n",
    "    end\n",
    "    for j in adjacence_list[index]\n",
    "        T_conf[j, c_index_1]-= 1\n",
    "        T_conf[j, c_index]+=1\n",
    "    end\n",
    "    return index, c_index, diff\n",
    "end"
   ]
  },
  {
   "cell_type": "code",
   "execution_count": 12,
   "metadata": {},
   "outputs": [
    {
     "data": {
      "text/plain": [
       "tabou (generic function with 1 method)"
      ]
     },
     "execution_count": 12,
     "metadata": {},
     "output_type": "execute_result"
    }
   ],
   "source": [
    "function tabou(adjacence_list, n, k, sol_init, limit_time)\n",
    "    \"\"\"\n",
    "    Heuristique Tabou avec mémoire adaptative\n",
    "    \"\"\"\n",
    "    #Initialisation des paramètres\n",
    "    sol= deepcopy(sol_init)\n",
    "    best_sol=deepcopy(sol_init)\n",
    "    step=0\n",
    "    T_conf=initialize_T_conf(adjacence_list, best_sol, n, k)\n",
    "    Count_init = sum([T_conf[i, sol[i]] for i in 1:n])/2\n",
    "    Count=[Count_init] #Historique des valeurs des solutions courantes\n",
    "    min_count=Count_init\n",
    "    length_tabou=1.0\n",
    "    tabou_matrix=zeros(Float64, n,k)\n",
    "    cycle=Dict{Tuple, Tuple}()\n",
    "    for i in 1:n\n",
    "        for c in 1:k\n",
    "            cycle[i,c]=(i,c)\n",
    "        end\n",
    "    end\n",
    "    last_change=(1,1)\n",
    "    last_change_tabou=0\n",
    "    Tabou_length=[1.0] #Historique des longueurs tabou\n",
    "    time_limit = limit_time\n",
    "    start_time = time()\n",
    "    best_sol_time=-1\n",
    "    while time() - start_time < time_limit\n",
    "        if Random.rand(1:500)==1 #Intensification aléatoire\n",
    "            tabou_matrix=zeros(Int, n,k)\n",
    "            length_tabou=1\n",
    "        end\n",
    "        index, c_index, diff = best_voisin_tabou(adjacence_list, sol, T_conf, tabou_matrix, step, n, k, last(Count), min_count)\n",
    "        tabou_matrix[index, c_index]=step+length_tabou #Mise à jour de la liste tabou\n",
    "        sol[index]=c_index\n",
    "        if cycle[last_change]==(index, c_index) #Impression de cyclage détecté\n",
    "            if length_tabou <n*k/6 && step > last_change_tabou+length_tabou\n",
    "                length_tabou+=k\n",
    "                last_change_tabou=step\n",
    "            end\n",
    "        end\n",
    "        Count_step=last(Count)-diff\n",
    "        if Count_step < 0\n",
    "            print(\"Négatif\",diff)\n",
    "            return sol, Count, Tabou_length\n",
    "        end\n",
    "        push!(Count, Count_step)\n",
    "        if Count_step < min_count # Mise à jour de la meilleure solution courante\n",
    "            min_count=Count_step\n",
    "            best_sol=deepcopy(sol)\n",
    "            length_tabou=1\n",
    "            tabou_matrix=zeros(Float64, n,k)\n",
    "            last_change_tabou=step\n",
    "            best_sol_time=time()-start_time\n",
    "            if min_count==0\n",
    "                return best_sol, Count, Tabou_length, T_conf, best_sol_time, time()-start_time\n",
    "            end\n",
    "        end\n",
    "        cycle[last_change]=(index, c_index)\n",
    "        last_change=(index,c_index)\n",
    "        step+=1\n",
    "        push!(Tabou_length, length_tabou)\n",
    "    end\n",
    "    return best_sol, Count, Tabou_length, T_conf, best_sol_time, time()-start_time\n",
    "end"
   ]
  },
  {
   "cell_type": "code",
   "execution_count": 13,
   "metadata": {},
   "outputs": [
    {
     "data": {
      "text/plain": [
       "(0, Any[])"
      ]
     },
     "execution_count": 13,
     "metadata": {},
     "output_type": "execute_result"
    }
   ],
   "source": [
    "sol_tabou, Count_tabou, Tabou_length, T_conf1, best_sol_time, end_time=tabou(adjacence_list, n, k, sol_glouton, 5)\n",
    "count_conflict(adjacence_list, sol_tabou, n)"
   ]
  },
  {
   "cell_type": "markdown",
   "metadata": {},
   "source": [
    "## Heuristique Hybride"
   ]
  },
  {
   "cell_type": "code",
   "execution_count": 17,
   "metadata": {},
   "outputs": [
    {
     "data": {
      "text/plain": [
       "fusion (generic function with 1 method)"
      ]
     },
     "metadata": {},
     "output_type": "display_data"
    }
   ],
   "source": [
    "function fusion(parents, list_in_conflict, n, k)\n",
    "    \"\"\"\n",
    "    Renvoie l'enfant issu du croisement des parents \n",
    "    \"\"\"\n",
    "    enfant=zeros(Int, n)\n",
    "    color=0\n",
    "    nodes_used=zeros(Int,n)\n",
    "    parent_color_used=zeros(Float64, size(parents)[1], k)\n",
    "    while color < k #coloriage itératif des classes de sommets les plus grandes\n",
    "        color+=1\n",
    "        which_parent_color=deepcopy(parent_color_used)\n",
    "        for (index_sol,sol) in enumerate(parents)\n",
    "            for c in 1:k\n",
    "                for i in 1:n\n",
    "                    if nodes_used[i]==0 && sol[i]==c\n",
    "                        if sol[i]==c\n",
    "                            which_parent_color[index_sol, c]+=1\n",
    "                        end\n",
    "                        which_parent_color[index_sol, c]-=list_in_conflict[index_sol][i, sol[i]] #retrait du nombre de conflits associée à la classe c dans la solution index_sol\n",
    "                    end\n",
    "                end\n",
    "            end\n",
    "        end\n",
    "        AM=argmax(which_parent_color) #Détermine la classe de sommets à colorier\n",
    "        for i in 1:n\n",
    "            if parents[AM[1]][i]==AM[2] && nodes_used[i]==0\n",
    "                enfant[i]=color\n",
    "                nodes_used[i]+=1\n",
    "            end\n",
    "        end\n",
    "        parent_color_used[AM[1], AM[2]]=-n\n",
    "    end\n",
    "    for i in 1:n #coloriage des sommets non coloriés\n",
    "        if nodes_used[i]==0\n",
    "            enfant[i] = k\n",
    "        end\n",
    "    end\n",
    "    return enfant\n",
    "end"
   ]
  },
  {
   "cell_type": "code",
   "execution_count": 18,
   "metadata": {},
   "outputs": [
    {
     "data": {
      "text/plain": [
       "destruction_pour_diversite (generic function with 1 method)"
      ]
     },
     "metadata": {},
     "output_type": "display_data"
    }
   ],
   "source": [
    "function distancebis(sol1,sol2, n, k)\n",
    "    \"\"\"\n",
    "    Distance entre deux solutions à partir du calcul des valeurs propres\n",
    "    \"\"\"\n",
    "    X=zeros(Int, n, k)\n",
    "    Y=zeros(Int, n, k)\n",
    "    for i in 1:n\n",
    "        X[i, sol1[i]]=1\n",
    "        Y[i, sol2[i]]=1\n",
    "    end\n",
    "    A=svd(transpose(X)*Y)\n",
    "    return 100*(1-sum(A.S)/n)\n",
    "end \n",
    "\n",
    "function distance(sol1,sol2, n, k)\n",
    "    \"\"\"\n",
    "    Distance entropique\n",
    "    \"\"\"\n",
    "    X=zeros(Int, n, k)\n",
    "    Y=zeros(Int, n, k)\n",
    "    for i in 1:n\n",
    "        X[i, sol1[i]]=1\n",
    "        Y[i, sol2[i]]=1\n",
    "    end\n",
    "    M=transpose(X)*Y\n",
    "    M2=transpose(M)*M\n",
    "    T= [sum([M2[c1, c2] for c2 in 1:k]) for c1 in 1:k]\n",
    "    res=0\n",
    "    for c1 in 1:k\n",
    "        for c2 in 1:k\n",
    "            if M2[c1, c2]!=0\n",
    "                m1=M2[c1, c2]/T[c1]\n",
    "                res-=m1*log(m1)\n",
    "            end\n",
    "        end\n",
    "    end\n",
    "    return 100*res/(k*log(k))\n",
    "end\n",
    "\n",
    "function mutation(sol,number_mutations, n, k)\n",
    "    \"\"\"\n",
    "    effectue number_mutations sur la solution courante sol\n",
    "    \"\"\"\n",
    "    for i in Random.rand(1:n, number_mutations)\n",
    "        for c in Random.rand(1:k)\n",
    "            sol[i]=c\n",
    "        end\n",
    "    end\n",
    "    return sol\n",
    "end \n",
    "\n",
    "function destruction_pour_diversite(parent, Count, n, distance_min, pop_size_min, min_nb_a_supp)\n",
    "    \"\"\"\n",
    "    Fonction d'actualisation de la population en fonction du nouveau seuil distance_min\n",
    "    min_nb_a_supp: nombre minimal d'individus à supprimer \n",
    "    pop_size_min: Taille minimal de la solution finale\n",
    "    \"\"\"\n",
    "    size_pop=size(parent)[1]\n",
    "    D_matrix=zeros(Float64, size_pop, size_pop) #Matrice des distances\n",
    "    for (index_sol1,sol1) in enumerate(parent)\n",
    "        for (index_sol2,sol2) in enumerate(parent)\n",
    "            if index_sol1==index_sol2\n",
    "                D_matrix[index_sol1, index_sol2]=n\n",
    "            else\n",
    "                D_matrix[index_sol1, index_sol2]=distance(sol1, sol2, n, k)\n",
    "            end\n",
    "        end\n",
    "    end\n",
    "    flag=true\n",
    "    nb_individus_supp=0\n",
    "    last_d_min=0\n",
    "    if minimum(D_matrix)>=70 #Si les distances sont suffisamment éloignées, on ne supprime personne\n",
    "        min_nb_a_supp=0\n",
    "    end\n",
    "    while flag || nb_individus_supp < min_nb_a_supp\n",
    "        index_min=argmin(D_matrix) #Récupération des deux individus les plus proches\n",
    "        last_d_min=D_matrix[index_min]\n",
    "        if D_matrix[index_min]>distance_min || size_pop<=pop_size_min\n",
    "            flag=false\n",
    "            if nb_individus_supp < min_nb_a_supp #Suppresion alors quela distance minimale est suffisante mais on a pas encore ait assez de suppressions\n",
    "                sol1, sol2=index_min[1], index_min[2]\n",
    "                if Count[sol1]>Count[sol2] #Suppression du pire des deux individus\n",
    "                    index_pop=sol1\n",
    "                else\n",
    "                    index_pop=sol2\n",
    "                end\n",
    "                D_matrix = D_matrix[setdiff(1:end, index_pop), setdiff(1:end, index_pop)]\n",
    "                Count=Count[setdiff(1:end, index_pop)]\n",
    "                parent=parent[setdiff(1:end, index_pop)]\n",
    "                size_pop-=1\n",
    "                nb_individus_supp+=1\n",
    "            end\n",
    "        else #Distance minimale non respectée\n",
    "            sol1, sol2=index_min[1], index_min[2]\n",
    "            if Count[sol1]>Count[sol2]\n",
    "                index_pop=sol1\n",
    "            else\n",
    "                index_pop=sol2\n",
    "            end\n",
    "            D_matrix = D_matrix[setdiff(1:end, index_pop), setdiff(1:end, index_pop)]\n",
    "            Count=Count[setdiff(1:end, index_pop)]\n",
    "            parent=parent[setdiff(1:end, index_pop)]\n",
    "            size_pop-=1\n",
    "            nb_individus_supp+=1\n",
    "        end\n",
    "    end\n",
    "    if nb_individus_supp== min_nb_a_supp #Réévaluation du seuil en fonction de la distance minimal de notre famille de solutions.\n",
    "        return [maximum([last_d_min, distance_min]), Count, parent]\n",
    "    else\n",
    "        return [distance_min, Count, parent]\n",
    "    end\n",
    "end"
   ]
  },
  {
   "cell_type": "code",
   "execution_count": 19,
   "metadata": {},
   "outputs": [
    {
     "data": {
      "text/plain": [
       "genetic (generic function with 1 method)"
      ]
     },
     "metadata": {},
     "output_type": "display_data"
    }
   ],
   "source": [
    "function genetic(adjacence_list, popsize, nbGenerationMax, time_limit, n, k)\n",
    "    \"\"\"\n",
    "    Heuristique génétique avec recherche locale tabou\n",
    "    \"\"\"\n",
    "    #Initialisation de tous les paramètres\n",
    "    Parents=[random_coloring(n,k) for i in 1:10]\n",
    "    list_T= [initialize_T_conf(adjacence_list, Parents[i], n, k) for i in 1:popsize]\n",
    "    generation=0\n",
    "    Count= [count_conflict(adjacence_list, Parents[i], n)[1] for i in 1:popsize]\n",
    "    best= argmin(Count)\n",
    "    min_count = Count[best]\n",
    "    best_sol=deepcopy(Parents[best])\n",
    "    start_time = time()\n",
    "    distance_min = 20 #Seuil minimal\n",
    "    min_mutations=floor(Int, 0.1*n) #Nombre de mutations minimal à chaque génération\n",
    "    max_mutations=floor(Int, 0.5*n) #Nombre de mutations maximal à chaque génération\n",
    "    increment_mutations = floor(Int, 0.1*n) #augmentation du nombre de mutations si nécessaire\n",
    "    nb_solutions_evaluees=0\n",
    "    best_sol_time=-1\n",
    "    while generation<nbGenerationMax\n",
    "        number_mutations=min_mutations\n",
    "        generation+=1\n",
    "        is_enfant_not_ok=true\n",
    "        time_tabou=1\n",
    "        rejet_bad_enfant=0\n",
    "        iter=0 #Compte le nombre d'itérations à l'intérieur d'une génération\n",
    "        while is_enfant_not_ok #Tant que nous n'avons pas trouvé d'enfant que l'on intègre dans la population\n",
    "            iter+=1\n",
    "            number_mutations=minimum([number_mutations, max_mutations])\n",
    "            if iter>=6 #Si pas d'amélioration\n",
    "                if distance_min <=65 #On augmente le seuil\n",
    "                    iter=0\n",
    "                    distance_min+=10\n",
    "                    pop_size_min=maximum([floor(Int, 0.5*popsize), 6])\n",
    "                    min_nb_a_supp=floor(Int, 0.2*popsize)\n",
    "                    if pop_size_min==6\n",
    "                        min_nb_a_supp=0\n",
    "                    end\n",
    "                    distance_min, Count, Parents = destruction_pour_diversite(Parents, Count, n, distance_min, pop_size_min, min_nb_a_supp)[1:3]\n",
    "                    distance_min=minimum([distance_min, 70])\n",
    "                    popsize=size(Parents)[1]\n",
    "                    number_mutations+=increment_mutations\n",
    "                else #On diminue le seuilet on augmente le nombre de mutations pour diversifier\n",
    "                    distance_min-=50\n",
    "                    iter=0\n",
    "                    number_mutations+=increment_mutations\n",
    "                end\n",
    "            end\n",
    "            if time() - start_time > time_limit\n",
    "                return best_sol, best_sol_time, time() - start_time, nb_solutions_evaluees\n",
    "            end\n",
    "            #Phase de reproduction/ mutations\n",
    "            select_parent=randperm(popsize)[1:2]\n",
    "            enfant= fusion([Parents[i] for i in select_parent], [list_T[i] for i in select_parent], n, k)\n",
    "            mutation(enfant, number_mutations, n, k)\n",
    "            enfant, Counttabou=tabou(adjacence_list, n, k, enfant, time_tabou)[1:2]\n",
    "            nb_solutions_evaluees+=size(Counttabou)[1]\n",
    "            count_enfant=count_conflict(adjacence_list, enfant, n)[1]\n",
    "            worst_parent=argmax(Count)\n",
    "            distance_parents=[distance(sol, enfant, n, k) for sol in Parents]\n",
    "            min1=sort(distance_parents)[1]\n",
    "            min2=sort(distance_parents)[2]\n",
    "            #Intégration ou non de l'enfant dans la population\n",
    "            if Count[worst_parent]>count_enfant\n",
    "                if min1 >=distance_min #L'enfant est suffisamment diversifié\n",
    "                    is_enfant_not_ok=false\n",
    "                    Parents[worst_parent]=enfant\n",
    "                    list_T[worst_parent]=initialize_T_conf(adjacence_list, enfant, n, k)\n",
    "                    Count[worst_parent]=count_enfant\n",
    "                elseif min2>=distance_min #L'enfant est proche d'un seul individu\n",
    "                    parent_proche = argmin(distance_parents)\n",
    "                    if Count[parent_proche]>count_enfant\n",
    "                        is_enfant_not_ok=false\n",
    "                        Parents[parent_proche]=enfant\n",
    "                        list_T[parent_proche]=initialize_T_conf(adjacence_list, enfant, n, k)\n",
    "                        Count[parent_proche]=count_enfant\n",
    "                    end\n",
    "                else #Si pas suffisamment diversifié\n",
    "                    number_mutations+=increment_mutations\n",
    "                end\n",
    "                if count_enfant < min_count\n",
    "                    is_enfant_not_ok=false\n",
    "                    parent_proche = argmin(distance_parents)\n",
    "                    if min2<distance_min\n",
    "                        Parents[parent_proche]=enfant\n",
    "                        list_T[parent_proche]=initialize_T_conf(adjacence_list, enfant, n, k)\n",
    "                        Count[parent_proche]=count_enfant\n",
    "                    end\n",
    "                    min_count=count_enfant\n",
    "                    best_sol=deepcopy(enfant)\n",
    "                    best_sol_time=time()-start_time\n",
    "                    if count_enfant==0\n",
    "                        return best_sol, best_sol_time, time() - start_time, nb_solutions_evaluees\n",
    "                    end\n",
    "                end\n",
    "            elseif popsize<=10 && min1 >=distance_min #Après la phase de destruction, on reconstruit la population avec des individus éloignés génétiquement\n",
    "                push!(Parents, enfant)\n",
    "                push!(list_T, initialize_T_conf(adjacence_list, enfant, n, k))\n",
    "                push!(Count, count_enfant)\n",
    "                popsize+=1\n",
    "            elseif rejet_bad_enfant<=4\n",
    "                rejet_bad_enfant+=1\n",
    "                time_tabou+=2\n",
    "            end\n",
    "        end\n",
    "    end\n",
    "    return best_sol, best_sol_time, time() - start_time, nb_solutions_evaluees\n",
    "end"
   ]
  },
  {
   "cell_type": "markdown",
   "metadata": {},
   "source": [
    "## Résolution parallélisée des instances et écriture des excels"
   ]
  },
  {
   "cell_type": "code",
   "execution_count": 22,
   "metadata": {},
   "outputs": [
    {
     "data": {
      "text/plain": [
       "(93, Any[8, 344, 12, 564, 17, 311, 34, 229, 39, 993  …  966, 677, 960, 740, 793, 843, 910, 869, 955, 957])"
      ]
     },
     "metadata": {},
     "output_type": "display_data"
    }
   ],
   "source": [
    "end_time=5\n",
    "\n",
    "solgen= genetic(adjacence_list, 10, 10000, end_time, n, k)[1]\n",
    "count_conflict(adjacence_list, solgen, n)"
   ]
  },
  {
   "cell_type": "code",
   "execution_count": 21,
   "metadata": {},
   "outputs": [
    {
     "data": {
      "image/png": "[encoded data removed]",
      "image/svg+xml": [
       "<?xml version=\"1.0\" encoding=\"utf-8\"?>\n",
       "<svg xmlns=\"http://www.w3.org/2000/svg\" xmlns:xlink=\"http://www.w3.org/1999/xlink\" width=\"600\" height=\"400\" viewBox=\"0 0 2400 1600\">\n",
       "<defs>\n",
       "  <clipPath id=\"clip710\">\n",
       "    <rect x=\"0\" y=\"0\" width=\"2400\" height=\"1600\"/>\n",
       "  </clipPath>\n",
       "</defs>\n",
       "<path clip-path=\"url(#clip710)\" d=\"M0 1600 L2400 1600 L2400 0 L0 0  Z\" fill=\"#ffffff\" fill-rule=\"evenodd\" fill-opacity=\"1\"/>\n",
       "<defs>\n",
       "  <clipPath id=\"clip711\">\n",
       "    <rect x=\"480\" y=\"0\" width=\"1681\" height=\"1600\"/>\n",
       "  </clipPath>\n",
       "</defs>\n",
       "<path clip-path=\"url(#clip710)\" d=\"M219.866 1423.18 L2352.76 1423.18 L2352.76 47.2441 L219.866 47.2441  Z\" fill=\"#ffffff\" fill-rule=\"evenodd\" fill-opacity=\"1\"/>\n",
       "<defs>\n",
       "  <clipPath id=\"clip712\">\n",
       "    <rect x=\"219\" y=\"47\" width=\"2134\" height=\"1377\"/>\n",
       "  </clipPath>\n",
       "</defs>\n",
       "<polyline clip-path=\"url(#clip712)\" style=\"stroke:#000000; stroke-linecap:round; stroke-linejoin:round; stroke-width:2; stroke-opacity:0.1; fill:none\" points=\"279.224,1423.18 279.224,47.2441 \"/>\n",
       "<polyline clip-path=\"url(#clip712)\" style=\"stroke:#000000; stroke-linecap:round; stroke-linejoin:round; stroke-width:2; stroke-opacity:0.1; fill:none\" points=\"782.516,1423.18 782.516,47.2441 \"/>\n",
       "<polyline clip-path=\"url(#clip712)\" style=\"stroke:#000000; stroke-linecap:round; stroke-linejoin:round; stroke-width:2; stroke-opacity:0.1; fill:none\" points=\"1285.81,1423.18 1285.81,47.2441 \"/>\n",
       "<polyline clip-path=\"url(#clip712)\" style=\"stroke:#000000; stroke-linecap:round; stroke-linejoin:round; stroke-width:2; stroke-opacity:0.1; fill:none\" points=\"1789.1,1423.18 1789.1,47.2441 \"/>\n",
       "<polyline clip-path=\"url(#clip712)\" style=\"stroke:#000000; stroke-linecap:round; stroke-linejoin:round; stroke-width:2; stroke-opacity:0.1; fill:none\" points=\"2292.39,1423.18 2292.39,47.2441 \"/>\n",
       "<polyline clip-path=\"url(#clip710)\" style=\"stroke:#000000; stroke-linecap:round; stroke-linejoin:round; stroke-width:4; stroke-opacity:1; fill:none\" points=\"219.866,1423.18 2352.76,1423.18 \"/>\n",
       "<polyline clip-path=\"url(#clip710)\" style=\"stroke:#000000; stroke-linecap:round; stroke-linejoin:round; stroke-width:4; stroke-opacity:1; fill:none\" points=\"279.224,1423.18 279.224,1404.28 \"/>\n",
       "<polyline clip-path=\"url(#clip710)\" style=\"stroke:#000000; stroke-linecap:round; stroke-linejoin:round; stroke-width:4; stroke-opacity:1; fill:none\" points=\"782.516,1423.18 782.516,1404.28 \"/>\n",
       "<polyline clip-path=\"url(#clip710)\" style=\"stroke:#000000; stroke-linecap:round; stroke-linejoin:round; stroke-width:4; stroke-opacity:1; fill:none\" points=\"1285.81,1423.18 1285.81,1404.28 \"/>\n",
       "<polyline clip-path=\"url(#clip710)\" style=\"stroke:#000000; stroke-linecap:round; stroke-linejoin:round; stroke-width:4; stroke-opacity:1; fill:none\" points=\"1789.1,1423.18 1789.1,1404.28 \"/>\n",
       "<polyline clip-path=\"url(#clip710)\" style=\"stroke:#000000; stroke-linecap:round; stroke-linejoin:round; stroke-width:4; stroke-opacity:1; fill:none\" points=\"2292.39,1423.18 2292.39,1404.28 \"/>\n",
       "<path clip-path=\"url(#clip710)\" d=\"M279.224 1454.1 Q275.613 1454.1 273.785 1457.66 Q271.979 1461.2 271.979 1468.33 Q271.979 1475.44 273.785 1479.01 Q275.613 1482.55 279.224 1482.55 Q282.859 1482.55 284.664 1479.01 Q286.493 1475.44 286.493 1468.33 Q286.493 1461.2 284.664 1457.66 Q282.859 1454.1 279.224 1454.1 M279.224 1450.39 Q285.035 1450.39 288.09 1455 Q291.169 1459.58 291.169 1468.33 Q291.169 1477.06 288.09 1481.67 Q285.035 1486.25 279.224 1486.25 Q273.414 1486.25 270.336 1481.67 Q267.28 1477.06 267.28 1468.33 Q267.28 1459.58 270.336 1455 Q273.414 1450.39 279.224 1450.39 Z\" fill=\"#000000\" fill-rule=\"nonzero\" fill-opacity=\"1\" /><path clip-path=\"url(#clip710)\" d=\"M742.134 1451.02 L760.491 1451.02 L760.491 1454.96 L746.417 1454.96 L746.417 1463.43 Q747.435 1463.08 748.454 1462.92 Q749.472 1462.73 750.491 1462.73 Q756.278 1462.73 759.657 1465.9 Q763.037 1469.08 763.037 1474.49 Q763.037 1480.07 759.565 1483.17 Q756.093 1486.25 749.773 1486.25 Q747.597 1486.25 745.329 1485.88 Q743.083 1485.51 740.676 1484.77 L740.676 1480.07 Q742.759 1481.2 744.982 1481.76 Q747.204 1482.32 749.681 1482.32 Q753.685 1482.32 756.023 1480.21 Q758.361 1478.1 758.361 1474.49 Q758.361 1470.88 756.023 1468.77 Q753.685 1466.67 749.681 1466.67 Q747.806 1466.67 745.931 1467.08 Q744.079 1467.5 742.134 1468.38 L742.134 1451.02 Z\" fill=\"#000000\" fill-rule=\"nonzero\" fill-opacity=\"1\" /><path clip-path=\"url(#clip710)\" d=\"M782.25 1454.1 Q778.639 1454.1 776.81 1457.66 Q775.005 1461.2 775.005 1468.33 Q775.005 1475.44 776.81 1479.01 Q778.639 1482.55 782.25 1482.55 Q785.884 1482.55 787.69 1479.01 Q789.518 1475.44 789.518 1468.33 Q789.518 1461.2 787.69 1457.66 Q785.884 1454.1 782.25 1454.1 M782.25 1450.39 Q788.06 1450.39 791.116 1455 Q794.194 1459.58 794.194 1468.33 Q794.194 1477.06 791.116 1481.67 Q788.06 1486.25 782.25 1486.25 Q776.44 1486.25 773.361 1481.67 Q770.306 1477.06 770.306 1468.33 Q770.306 1459.58 773.361 1455 Q776.44 1450.39 782.25 1450.39 Z\" fill=\"#000000\" fill-rule=\"nonzero\" fill-opacity=\"1\" /><path clip-path=\"url(#clip710)\" d=\"M812.412 1454.1 Q808.801 1454.1 806.972 1457.66 Q805.166 1461.2 805.166 1468.33 Q805.166 1475.44 806.972 1479.01 Q808.801 1482.55 812.412 1482.55 Q816.046 1482.55 817.852 1479.01 Q819.68 1475.44 819.68 1468.33 Q819.68 1461.2 817.852 1457.66 Q816.046 1454.1 812.412 1454.1 M812.412 1450.39 Q818.222 1450.39 821.278 1455 Q824.356 1459.58 824.356 1468.33 Q824.356 1477.06 821.278 1481.67 Q818.222 1486.25 812.412 1486.25 Q806.602 1486.25 803.523 1481.67 Q800.467 1477.06 800.467 1468.33 Q800.467 1459.58 803.523 1455 Q806.602 1450.39 812.412 1450.39 Z\" fill=\"#000000\" fill-rule=\"nonzero\" fill-opacity=\"1\" /><path clip-path=\"url(#clip710)\" d=\"M1230.33 1481.64 L1237.97 1481.64 L1237.97 1455.28 L1229.66 1456.95 L1229.66 1452.69 L1237.93 1451.02 L1242.6 1451.02 L1242.6 1481.64 L1250.24 1481.64 L1250.24 1485.58 L1230.33 1485.58 L1230.33 1481.64 Z\" fill=\"#000000\" fill-rule=\"nonzero\" fill-opacity=\"1\" /><path clip-path=\"url(#clip710)\" d=\"M1269.69 1454.1 Q1266.07 1454.1 1264.25 1457.66 Q1262.44 1461.2 1262.44 1468.33 Q1262.44 1475.44 1264.25 1479.01 Q1266.07 1482.55 1269.69 1482.55 Q1273.32 1482.55 1275.12 1479.01 Q1276.95 1475.44 1276.95 1468.33 Q1276.95 1461.2 1275.12 1457.66 Q1273.32 1454.1 1269.69 1454.1 M1269.69 1450.39 Q1275.5 1450.39 1278.55 1455 Q1281.63 1459.58 1281.63 1468.33 Q1281.63 1477.06 1278.55 1481.67 Q1275.5 1486.25 1269.69 1486.25 Q1263.88 1486.25 1260.8 1481.67 Q1257.74 1477.06 1257.74 1468.33 Q1257.74 1459.58 1260.8 1455 Q1263.88 1450.39 1269.69 1450.39 Z\" fill=\"#000000\" fill-rule=\"nonzero\" fill-opacity=\"1\" /><path clip-path=\"url(#clip710)\" d=\"M1299.85 1454.1 Q1296.24 1454.1 1294.41 1457.66 Q1292.6 1461.2 1292.6 1468.33 Q1292.6 1475.44 1294.41 1479.01 Q1296.24 1482.55 1299.85 1482.55 Q1303.48 1482.55 1305.29 1479.01 Q1307.12 1475.44 1307.12 1468.33 Q1307.12 1461.2 1305.29 1457.66 Q1303.48 1454.1 1299.85 1454.1 M1299.85 1450.39 Q1305.66 1450.39 1308.71 1455 Q1311.79 1459.58 1311.79 1468.33 Q1311.79 1477.06 1308.71 1481.67 Q1305.66 1486.25 1299.85 1486.25 Q1294.04 1486.25 1290.96 1481.67 Q1287.9 1477.06 1287.9 1468.33 Q1287.9 1459.58 1290.96 1455 Q1294.04 1450.39 1299.85 1450.39 Z\" fill=\"#000000\" fill-rule=\"nonzero\" fill-opacity=\"1\" /><path clip-path=\"url(#clip710)\" d=\"M1330.01 1454.1 Q1326.4 1454.1 1324.57 1457.66 Q1322.76 1461.2 1322.76 1468.33 Q1322.76 1475.44 1324.57 1479.01 Q1326.4 1482.55 1330.01 1482.55 Q1333.64 1482.55 1335.45 1479.01 Q1337.28 1475.44 1337.28 1468.33 Q1337.28 1461.2 1335.45 1457.66 Q1333.64 1454.1 1330.01 1454.1 M1330.01 1450.39 Q1335.82 1450.39 1338.87 1455 Q1341.95 1459.58 1341.95 1468.33 Q1341.95 1477.06 1338.87 1481.67 Q1335.82 1486.25 1330.01 1486.25 Q1324.2 1486.25 1321.12 1481.67 Q1318.06 1477.06 1318.06 1468.33 Q1318.06 1459.58 1321.12 1455 Q1324.2 1450.39 1330.01 1450.39 Z\" fill=\"#000000\" fill-rule=\"nonzero\" fill-opacity=\"1\" /><path clip-path=\"url(#clip710)\" d=\"M1733.63 1481.64 L1741.26 1481.64 L1741.26 1455.28 L1732.95 1456.95 L1732.95 1452.69 L1741.22 1451.02 L1745.89 1451.02 L1745.89 1481.64 L1753.53 1481.64 L1753.53 1485.58 L1733.63 1485.58 L1733.63 1481.64 Z\" fill=\"#000000\" fill-rule=\"nonzero\" fill-opacity=\"1\" /><path clip-path=\"url(#clip710)\" d=\"M1763.02 1451.02 L1781.38 1451.02 L1781.38 1454.96 L1767.31 1454.96 L1767.31 1463.43 Q1768.32 1463.08 1769.34 1462.92 Q1770.36 1462.73 1771.38 1462.73 Q1777.17 1462.73 1780.55 1465.9 Q1783.93 1469.08 1783.93 1474.49 Q1783.93 1480.07 1780.45 1483.17 Q1776.98 1486.25 1770.66 1486.25 Q1768.49 1486.25 1766.22 1485.88 Q1763.97 1485.51 1761.56 1484.77 L1761.56 1480.07 Q1763.65 1481.2 1765.87 1481.76 Q1768.09 1482.32 1770.57 1482.32 Q1774.57 1482.32 1776.91 1480.21 Q1779.25 1478.1 1779.25 1474.49 Q1779.25 1470.88 1776.91 1468.77 Q1774.57 1466.67 1770.57 1466.67 Q1768.69 1466.67 1766.82 1467.08 Q1764.97 1467.5 1763.02 1468.38 L1763.02 1451.02 Z\" fill=\"#000000\" fill-rule=\"nonzero\" fill-opacity=\"1\" /><path clip-path=\"url(#clip710)\" d=\"M1803.14 1454.1 Q1799.53 1454.1 1797.7 1457.66 Q1795.89 1461.2 1795.89 1468.33 Q1795.89 1475.44 1797.7 1479.01 Q1799.53 1482.55 1803.14 1482.55 Q1806.77 1482.55 1808.58 1479.01 Q1810.41 1475.44 1810.41 1468.33 Q1810.41 1461.2 1808.58 1457.66 Q1806.77 1454.1 1803.14 1454.1 M1803.14 1450.39 Q1808.95 1450.39 1812 1455 Q1815.08 1459.58 1815.08 1468.33 Q1815.08 1477.06 1812 1481.67 Q1808.95 1486.25 1803.14 1486.25 Q1797.33 1486.25 1794.25 1481.67 Q1791.19 1477.06 1791.19 1468.33 Q1791.19 1459.58 1794.25 1455 Q1797.33 1450.39 1803.14 1450.39 Z\" fill=\"#000000\" fill-rule=\"nonzero\" fill-opacity=\"1\" /><path clip-path=\"url(#clip710)\" d=\"M1833.3 1454.1 Q1829.69 1454.1 1827.86 1457.66 Q1826.06 1461.2 1826.06 1468.33 Q1826.06 1475.44 1827.86 1479.01 Q1829.69 1482.55 1833.3 1482.55 Q1836.93 1482.55 1838.74 1479.01 Q1840.57 1475.44 1840.57 1468.33 Q1840.57 1461.2 1838.74 1457.66 Q1836.93 1454.1 1833.3 1454.1 M1833.3 1450.39 Q1839.11 1450.39 1842.17 1455 Q1845.24 1459.58 1845.24 1468.33 Q1845.24 1477.06 1842.17 1481.67 Q1839.11 1486.25 1833.3 1486.25 Q1827.49 1486.25 1824.41 1481.67 Q1821.36 1477.06 1821.36 1468.33 Q1821.36 1459.58 1824.41 1455 Q1827.49 1450.39 1833.3 1450.39 Z\" fill=\"#000000\" fill-rule=\"nonzero\" fill-opacity=\"1\" /><path clip-path=\"url(#clip710)\" d=\"M2241 1481.64 L2257.32 1481.64 L2257.32 1485.58 L2235.38 1485.58 L2235.38 1481.64 Q2238.04 1478.89 2242.62 1474.26 Q2247.23 1469.61 2248.41 1468.27 Q2250.66 1465.74 2251.53 1464.01 Q2252.44 1462.25 2252.44 1460.56 Q2252.44 1457.8 2250.49 1456.07 Q2248.57 1454.33 2245.47 1454.33 Q2243.27 1454.33 2240.82 1455.09 Q2238.39 1455.86 2235.61 1457.41 L2235.61 1452.69 Q2238.43 1451.55 2240.89 1450.97 Q2243.34 1450.39 2245.38 1450.39 Q2250.75 1450.39 2253.94 1453.08 Q2257.14 1455.77 2257.14 1460.26 Q2257.14 1462.39 2256.33 1464.31 Q2255.54 1466.2 2253.43 1468.8 Q2252.85 1469.47 2249.75 1472.69 Q2246.65 1475.88 2241 1481.64 Z\" fill=\"#000000\" fill-rule=\"nonzero\" fill-opacity=\"1\" /><path clip-path=\"url(#clip710)\" d=\"M2277.14 1454.1 Q2273.53 1454.1 2271.7 1457.66 Q2269.89 1461.2 2269.89 1468.33 Q2269.89 1475.44 2271.7 1479.01 Q2273.53 1482.55 2277.14 1482.55 Q2280.77 1482.55 2282.58 1479.01 Q2284.41 1475.44 2284.41 1468.33 Q2284.41 1461.2 2282.58 1457.66 Q2280.77 1454.1 2277.14 1454.1 M2277.14 1450.39 Q2282.95 1450.39 2286 1455 Q2289.08 1459.58 2289.08 1468.33 Q2289.08 1477.06 2286 1481.67 Q2282.95 1486.25 2277.14 1486.25 Q2271.33 1486.25 2268.25 1481.67 Q2265.19 1477.06 2265.19 1468.33 Q2265.19 1459.58 2268.25 1455 Q2271.33 1450.39 2277.14 1450.39 Z\" fill=\"#000000\" fill-rule=\"nonzero\" fill-opacity=\"1\" /><path clip-path=\"url(#clip710)\" d=\"M2307.3 1454.1 Q2303.69 1454.1 2301.86 1457.66 Q2300.05 1461.2 2300.05 1468.33 Q2300.05 1475.44 2301.86 1479.01 Q2303.69 1482.55 2307.3 1482.55 Q2310.93 1482.55 2312.74 1479.01 Q2314.57 1475.44 2314.57 1468.33 Q2314.57 1461.2 2312.74 1457.66 Q2310.93 1454.1 2307.3 1454.1 M2307.3 1450.39 Q2313.11 1450.39 2316.16 1455 Q2319.24 1459.58 2319.24 1468.33 Q2319.24 1477.06 2316.16 1481.67 Q2313.11 1486.25 2307.3 1486.25 Q2301.49 1486.25 2298.41 1481.67 Q2295.35 1477.06 2295.35 1468.33 Q2295.35 1459.58 2298.41 1455 Q2301.49 1450.39 2307.3 1450.39 Z\" fill=\"#000000\" fill-rule=\"nonzero\" fill-opacity=\"1\" /><path clip-path=\"url(#clip710)\" d=\"M2337.46 1454.1 Q2333.85 1454.1 2332.02 1457.66 Q2330.21 1461.2 2330.21 1468.33 Q2330.21 1475.44 2332.02 1479.01 Q2333.85 1482.55 2337.46 1482.55 Q2341.09 1482.55 2342.9 1479.01 Q2344.73 1475.44 2344.73 1468.33 Q2344.73 1461.2 2342.9 1457.66 Q2341.09 1454.1 2337.46 1454.1 M2337.46 1450.39 Q2343.27 1450.39 2346.33 1455 Q2349.4 1459.58 2349.4 1468.33 Q2349.4 1477.06 2346.33 1481.67 Q2343.27 1486.25 2337.46 1486.25 Q2331.65 1486.25 2328.57 1481.67 Q2325.52 1477.06 2325.52 1468.33 Q2325.52 1459.58 2328.57 1455 Q2331.65 1450.39 2337.46 1450.39 Z\" fill=\"#000000\" fill-rule=\"nonzero\" fill-opacity=\"1\" /><path clip-path=\"url(#clip710)\" d=\"M935.577 1520.52 L944.234 1520.52 L965.304 1560.28 L965.304 1520.52 L971.543 1520.52 L971.543 1568.04 L962.885 1568.04 L941.815 1528.29 L941.815 1568.04 L935.577 1568.04 L935.577 1520.52 Z\" fill=\"#000000\" fill-rule=\"nonzero\" fill-opacity=\"1\" /><path clip-path=\"url(#clip710)\" d=\"M997.897 1536.5 Q993.186 1536.5 990.449 1540.19 Q987.712 1543.85 987.712 1550.25 Q987.712 1556.65 990.417 1560.34 Q993.154 1564 997.897 1564 Q1002.58 1564 1005.31 1560.31 Q1008.05 1556.62 1008.05 1550.25 Q1008.05 1543.92 1005.31 1540.23 Q1002.58 1536.5 997.897 1536.5 M997.897 1531.54 Q1005.54 1531.54 1009.9 1536.5 Q1014.26 1541.47 1014.26 1550.25 Q1014.26 1559 1009.9 1564 Q1005.54 1568.97 997.897 1568.97 Q990.226 1568.97 985.866 1564 Q981.537 1559 981.537 1550.25 Q981.537 1541.47 985.866 1536.5 Q990.226 1531.54 997.897 1531.54 Z\" fill=\"#000000\" fill-rule=\"nonzero\" fill-opacity=\"1\" /><path clip-path=\"url(#clip710)\" d=\"M1051.72 1539.24 Q1053.92 1535.29 1056.97 1533.41 Q1060.03 1531.54 1064.16 1531.54 Q1069.73 1531.54 1072.76 1535.45 Q1075.78 1539.33 1075.78 1546.53 L1075.78 1568.04 L1069.89 1568.04 L1069.89 1546.72 Q1069.89 1541.59 1068.08 1539.11 Q1066.26 1536.63 1062.54 1536.63 Q1057.99 1536.63 1055.35 1539.65 Q1052.71 1542.68 1052.71 1547.9 L1052.71 1568.04 L1046.82 1568.04 L1046.82 1546.72 Q1046.82 1541.56 1045 1539.11 Q1043.19 1536.63 1039.4 1536.63 Q1034.91 1536.63 1032.27 1539.68 Q1029.63 1542.71 1029.63 1547.9 L1029.63 1568.04 L1023.74 1568.04 L1023.74 1532.4 L1029.63 1532.4 L1029.63 1537.93 Q1031.64 1534.66 1034.44 1533.1 Q1037.24 1531.54 1041.09 1531.54 Q1044.97 1531.54 1047.68 1533.51 Q1050.41 1535.48 1051.72 1539.24 Z\" fill=\"#000000\" fill-rule=\"nonzero\" fill-opacity=\"1\" /><path clip-path=\"url(#clip710)\" d=\"M1113.05 1550.25 Q1113.05 1543.79 1110.38 1540.13 Q1107.74 1536.44 1103.09 1536.44 Q1098.44 1536.44 1095.77 1540.13 Q1093.13 1543.79 1093.13 1550.25 Q1093.13 1556.71 1095.77 1560.4 Q1098.44 1564.07 1103.09 1564.07 Q1107.74 1564.07 1110.38 1560.4 Q1113.05 1556.71 1113.05 1550.25 M1093.13 1537.81 Q1094.97 1534.62 1097.77 1533.1 Q1100.61 1531.54 1104.52 1531.54 Q1111.02 1531.54 1115.06 1536.69 Q1119.13 1541.85 1119.13 1550.25 Q1119.13 1558.65 1115.06 1563.81 Q1111.02 1568.97 1104.52 1568.97 Q1100.61 1568.97 1097.77 1567.44 Q1094.97 1565.88 1093.13 1562.7 L1093.13 1568.04 L1087.24 1568.04 L1087.24 1518.52 L1093.13 1518.52 L1093.13 1537.81 Z\" fill=\"#000000\" fill-rule=\"nonzero\" fill-opacity=\"1\" /><path clip-path=\"url(#clip710)\" d=\"M1149.5 1537.87 Q1148.51 1537.3 1147.33 1537.04 Q1146.19 1536.76 1144.79 1536.76 Q1139.82 1536.76 1137.15 1540 Q1134.5 1543.22 1134.5 1549.27 L1134.5 1568.04 L1128.62 1568.04 L1128.62 1532.4 L1134.5 1532.4 L1134.5 1537.93 Q1136.35 1534.69 1139.31 1533.13 Q1142.27 1531.54 1146.5 1531.54 Q1147.11 1531.54 1147.84 1531.63 Q1148.57 1531.7 1149.46 1531.85 L1149.5 1537.87 Z\" fill=\"#000000\" fill-rule=\"nonzero\" fill-opacity=\"1\" /><path clip-path=\"url(#clip710)\" d=\"M1184.7 1548.76 L1184.7 1551.62 L1157.77 1551.62 Q1158.15 1557.67 1161.4 1560.85 Q1164.68 1564 1170.5 1564 Q1173.88 1564 1177.03 1563.17 Q1180.21 1562.35 1183.33 1560.69 L1183.33 1566.23 Q1180.18 1567.57 1176.87 1568.27 Q1173.56 1568.97 1170.15 1568.97 Q1161.62 1568.97 1156.63 1564 Q1151.66 1559.04 1151.66 1550.57 Q1151.66 1541.82 1156.37 1536.69 Q1161.11 1531.54 1169.13 1531.54 Q1176.33 1531.54 1180.5 1536.18 Q1184.7 1540.8 1184.7 1548.76 M1178.84 1547.04 Q1178.78 1542.23 1176.14 1539.37 Q1173.53 1536.5 1169.2 1536.5 Q1164.3 1536.5 1161.34 1539.27 Q1158.41 1542.04 1157.96 1547.07 L1178.84 1547.04 Z\" fill=\"#000000\" fill-rule=\"nonzero\" fill-opacity=\"1\" /><path clip-path=\"url(#clip710)\" d=\"M1238.49 1537.81 L1238.49 1518.52 L1244.35 1518.52 L1244.35 1568.04 L1238.49 1568.04 L1238.49 1562.7 Q1236.64 1565.88 1233.81 1567.44 Q1231.01 1568.97 1227.06 1568.97 Q1220.6 1568.97 1216.53 1563.81 Q1212.48 1558.65 1212.48 1550.25 Q1212.48 1541.85 1216.53 1536.69 Q1220.6 1531.54 1227.06 1531.54 Q1231.01 1531.54 1233.81 1533.1 Q1236.64 1534.62 1238.49 1537.81 M1218.53 1550.25 Q1218.53 1556.71 1221.17 1560.4 Q1223.85 1564.07 1228.49 1564.07 Q1233.14 1564.07 1235.82 1560.4 Q1238.49 1556.71 1238.49 1550.25 Q1238.49 1543.79 1235.82 1540.13 Q1233.14 1536.44 1228.49 1536.44 Q1223.85 1536.44 1221.17 1540.13 Q1218.53 1543.79 1218.53 1550.25 Z\" fill=\"#000000\" fill-rule=\"nonzero\" fill-opacity=\"1\" /><path clip-path=\"url(#clip710)\" d=\"M1286.9 1548.76 L1286.9 1551.62 L1259.97 1551.62 Q1260.35 1557.67 1263.6 1560.85 Q1266.88 1564 1272.7 1564 Q1276.08 1564 1279.23 1563.17 Q1282.41 1562.35 1285.53 1560.69 L1285.53 1566.23 Q1282.38 1567.57 1279.07 1568.27 Q1275.76 1568.97 1272.35 1568.97 Q1263.82 1568.97 1258.83 1564 Q1253.86 1559.04 1253.86 1550.57 Q1253.86 1541.82 1258.57 1536.69 Q1263.31 1531.54 1271.34 1531.54 Q1278.53 1531.54 1282.7 1536.18 Q1286.9 1540.8 1286.9 1548.76 M1281.04 1547.04 Q1280.98 1542.23 1278.34 1539.37 Q1275.73 1536.5 1271.4 1536.5 Q1266.5 1536.5 1263.54 1539.27 Q1260.61 1542.04 1260.16 1547.07 L1281.04 1547.04 Z\" fill=\"#000000\" fill-rule=\"nonzero\" fill-opacity=\"1\" /><path clip-path=\"url(#clip710)\" d=\"M1344.99 1539.24 Q1347.18 1535.29 1350.24 1533.41 Q1353.29 1531.54 1357.43 1531.54 Q1363 1531.54 1366.03 1535.45 Q1369.05 1539.33 1369.05 1546.53 L1369.05 1568.04 L1363.16 1568.04 L1363.16 1546.72 Q1363.16 1541.59 1361.35 1539.11 Q1359.53 1536.63 1355.81 1536.63 Q1351.26 1536.63 1348.62 1539.65 Q1345.97 1542.68 1345.97 1547.9 L1345.97 1568.04 L1340.09 1568.04 L1340.09 1546.72 Q1340.09 1541.56 1338.27 1539.11 Q1336.46 1536.63 1332.67 1536.63 Q1328.18 1536.63 1325.54 1539.68 Q1322.9 1542.71 1322.9 1547.9 L1322.9 1568.04 L1317.01 1568.04 L1317.01 1532.4 L1322.9 1532.4 L1322.9 1537.93 Q1324.9 1534.66 1327.7 1533.1 Q1330.51 1531.54 1334.36 1531.54 Q1338.24 1531.54 1340.94 1533.51 Q1343.68 1535.48 1344.99 1539.24 Z\" fill=\"#000000\" fill-rule=\"nonzero\" fill-opacity=\"1\" /><path clip-path=\"url(#clip710)\" d=\"M1380.13 1553.98 L1380.13 1532.4 L1385.98 1532.4 L1385.98 1553.75 Q1385.98 1558.81 1387.96 1561.36 Q1389.93 1563.87 1393.88 1563.87 Q1398.62 1563.87 1401.36 1560.85 Q1404.12 1557.83 1404.12 1552.61 L1404.12 1532.4 L1409.98 1532.4 L1409.98 1568.04 L1404.12 1568.04 L1404.12 1562.57 Q1401.99 1565.82 1399.16 1567.41 Q1396.36 1568.97 1392.63 1568.97 Q1386.49 1568.97 1383.31 1565.15 Q1380.13 1561.33 1380.13 1553.98 M1394.86 1531.54 L1394.86 1531.54 Z\" fill=\"#000000\" fill-rule=\"nonzero\" fill-opacity=\"1\" /><path clip-path=\"url(#clip710)\" d=\"M1427.84 1522.27 L1427.84 1532.4 L1439.9 1532.4 L1439.9 1536.95 L1427.84 1536.95 L1427.84 1556.3 Q1427.84 1560.66 1429.01 1561.9 Q1430.22 1563.14 1433.88 1563.14 L1439.9 1563.14 L1439.9 1568.04 L1433.88 1568.04 Q1427.1 1568.04 1424.53 1565.53 Q1421.95 1562.98 1421.95 1556.3 L1421.95 1536.95 L1417.65 1536.95 L1417.65 1532.4 L1421.95 1532.4 L1421.95 1522.27 L1427.84 1522.27 Z\" fill=\"#000000\" fill-rule=\"nonzero\" fill-opacity=\"1\" /><path clip-path=\"url(#clip710)\" d=\"M1463.8 1550.12 Q1456.71 1550.12 1453.97 1551.75 Q1451.23 1553.37 1451.23 1557.29 Q1451.23 1560.4 1453.27 1562.25 Q1455.34 1564.07 1458.87 1564.07 Q1463.74 1564.07 1466.67 1560.63 Q1469.63 1557.16 1469.63 1551.43 L1469.63 1550.12 L1463.8 1550.12 M1475.48 1547.71 L1475.48 1568.04 L1469.63 1568.04 L1469.63 1562.63 Q1467.62 1565.88 1464.63 1567.44 Q1461.64 1568.97 1457.31 1568.97 Q1451.84 1568.97 1448.59 1565.91 Q1445.37 1562.82 1445.37 1557.67 Q1445.37 1551.65 1449.38 1548.6 Q1453.43 1545.54 1461.42 1545.54 L1469.63 1545.54 L1469.63 1544.97 Q1469.63 1540.93 1466.95 1538.73 Q1464.31 1536.5 1459.51 1536.5 Q1456.45 1536.5 1453.55 1537.23 Q1450.66 1537.97 1447.98 1539.43 L1447.98 1534.02 Q1451.2 1532.78 1454.22 1532.17 Q1457.25 1531.54 1460.11 1531.54 Q1467.85 1531.54 1471.66 1535.55 Q1475.48 1539.56 1475.48 1547.71 Z\" fill=\"#000000\" fill-rule=\"nonzero\" fill-opacity=\"1\" /><path clip-path=\"url(#clip710)\" d=\"M1493.34 1522.27 L1493.34 1532.4 L1505.4 1532.4 L1505.4 1536.95 L1493.34 1536.95 L1493.34 1556.3 Q1493.34 1560.66 1494.52 1561.9 Q1495.73 1563.14 1499.39 1563.14 L1505.4 1563.14 L1505.4 1568.04 L1499.39 1568.04 Q1492.61 1568.04 1490.03 1565.53 Q1487.45 1562.98 1487.45 1556.3 L1487.45 1536.95 L1483.15 1536.95 L1483.15 1532.4 L1487.45 1532.4 L1487.45 1522.27 L1493.34 1522.27 Z\" fill=\"#000000\" fill-rule=\"nonzero\" fill-opacity=\"1\" /><path clip-path=\"url(#clip710)\" d=\"M1513.11 1532.4 L1518.96 1532.4 L1518.96 1568.04 L1513.11 1568.04 L1513.11 1532.4 M1513.11 1518.52 L1518.96 1518.52 L1518.96 1525.93 L1513.11 1525.93 L1513.11 1518.52 Z\" fill=\"#000000\" fill-rule=\"nonzero\" fill-opacity=\"1\" /><path clip-path=\"url(#clip710)\" d=\"M1545.03 1536.5 Q1540.32 1536.5 1537.58 1540.19 Q1534.84 1543.85 1534.84 1550.25 Q1534.84 1556.65 1537.55 1560.34 Q1540.29 1564 1545.03 1564 Q1549.71 1564 1552.45 1560.31 Q1555.18 1556.62 1555.18 1550.25 Q1555.18 1543.92 1552.45 1540.23 Q1549.71 1536.5 1545.03 1536.5 M1545.03 1531.54 Q1552.67 1531.54 1557.03 1536.5 Q1561.39 1541.47 1561.39 1550.25 Q1561.39 1559 1557.03 1564 Q1552.67 1568.97 1545.03 1568.97 Q1537.36 1568.97 1533 1564 Q1528.67 1559 1528.67 1550.25 Q1528.67 1541.47 1533 1536.5 Q1537.36 1531.54 1545.03 1531.54 Z\" fill=\"#000000\" fill-rule=\"nonzero\" fill-opacity=\"1\" /><path clip-path=\"url(#clip710)\" d=\"M1600.73 1546.53 L1600.73 1568.04 L1594.87 1568.04 L1594.87 1546.72 Q1594.87 1541.66 1592.9 1539.14 Q1590.93 1536.63 1586.98 1536.63 Q1582.24 1536.63 1579.5 1539.65 Q1576.76 1542.68 1576.76 1547.9 L1576.76 1568.04 L1570.87 1568.04 L1570.87 1532.4 L1576.76 1532.4 L1576.76 1537.93 Q1578.86 1534.72 1581.7 1533.13 Q1584.56 1531.54 1588.28 1531.54 Q1594.43 1531.54 1597.58 1535.36 Q1600.73 1539.14 1600.73 1546.53 Z\" fill=\"#000000\" fill-rule=\"nonzero\" fill-opacity=\"1\" /><path clip-path=\"url(#clip710)\" d=\"M1635.14 1533.45 L1635.14 1538.98 Q1632.65 1537.71 1629.98 1537.07 Q1627.31 1536.44 1624.44 1536.44 Q1620.08 1536.44 1617.88 1537.77 Q1615.72 1539.11 1615.72 1541.79 Q1615.72 1543.82 1617.28 1545 Q1618.84 1546.15 1623.55 1547.2 L1625.56 1547.64 Q1631.79 1548.98 1634.4 1551.43 Q1637.05 1553.85 1637.05 1558.21 Q1637.05 1563.17 1633.1 1566.07 Q1629.18 1568.97 1622.31 1568.97 Q1619.44 1568.97 1616.33 1568.39 Q1613.24 1567.85 1609.8 1566.74 L1609.8 1560.69 Q1613.05 1562.38 1616.2 1563.24 Q1619.35 1564.07 1622.44 1564.07 Q1626.57 1564.07 1628.8 1562.66 Q1631.03 1561.23 1631.03 1558.65 Q1631.03 1556.27 1629.41 1554.99 Q1627.82 1553.72 1622.37 1552.54 L1620.34 1552.07 Q1614.89 1550.92 1612.47 1548.56 Q1610.06 1546.18 1610.06 1542.04 Q1610.06 1537.01 1613.62 1534.27 Q1617.18 1531.54 1623.74 1531.54 Q1626.99 1531.54 1629.85 1532.01 Q1632.72 1532.49 1635.14 1533.45 Z\" fill=\"#000000\" fill-rule=\"nonzero\" fill-opacity=\"1\" /><polyline clip-path=\"url(#clip712)\" style=\"stroke:#000000; stroke-linecap:round; stroke-linejoin:round; stroke-width:2; stroke-opacity:0.1; fill:none\" points=\"219.866,1239.44 2352.76,1239.44 \"/>\n",
       "<polyline clip-path=\"url(#clip712)\" style=\"stroke:#000000; stroke-linecap:round; stroke-linejoin:round; stroke-width:2; stroke-opacity:0.1; fill:none\" points=\"219.866,1048.09 2352.76,1048.09 \"/>\n",
       "<polyline clip-path=\"url(#clip712)\" style=\"stroke:#000000; stroke-linecap:round; stroke-linejoin:round; stroke-width:2; stroke-opacity:0.1; fill:none\" points=\"219.866,856.753 2352.76,856.753 \"/>\n",
       "<polyline clip-path=\"url(#clip712)\" style=\"stroke:#000000; stroke-linecap:round; stroke-linejoin:round; stroke-width:2; stroke-opacity:0.1; fill:none\" points=\"219.866,665.412 2352.76,665.412 \"/>\n",
       "<polyline clip-path=\"url(#clip712)\" style=\"stroke:#000000; stroke-linecap:round; stroke-linejoin:round; stroke-width:2; stroke-opacity:0.1; fill:none\" points=\"219.866,474.071 2352.76,474.071 \"/>\n",
       "<polyline clip-path=\"url(#clip712)\" style=\"stroke:#000000; stroke-linecap:round; stroke-linejoin:round; stroke-width:2; stroke-opacity:0.1; fill:none\" points=\"219.866,282.729 2352.76,282.729 \"/>\n",
       "<polyline clip-path=\"url(#clip712)\" style=\"stroke:#000000; stroke-linecap:round; stroke-linejoin:round; stroke-width:2; stroke-opacity:0.1; fill:none\" points=\"219.866,91.388 2352.76,91.388 \"/>\n",
       "<polyline clip-path=\"url(#clip710)\" style=\"stroke:#000000; stroke-linecap:round; stroke-linejoin:round; stroke-width:4; stroke-opacity:1; fill:none\" points=\"219.866,1423.18 219.866,47.2441 \"/>\n",
       "<polyline clip-path=\"url(#clip710)\" style=\"stroke:#000000; stroke-linecap:round; stroke-linejoin:round; stroke-width:4; stroke-opacity:1; fill:none\" points=\"219.866,1239.44 238.764,1239.44 \"/>\n",
       "<polyline clip-path=\"url(#clip710)\" style=\"stroke:#000000; stroke-linecap:round; stroke-linejoin:round; stroke-width:4; stroke-opacity:1; fill:none\" points=\"219.866,1048.09 238.764,1048.09 \"/>\n",
       "<polyline clip-path=\"url(#clip710)\" style=\"stroke:#000000; stroke-linecap:round; stroke-linejoin:round; stroke-width:4; stroke-opacity:1; fill:none\" points=\"219.866,856.753 238.764,856.753 \"/>\n",
       "<polyline clip-path=\"url(#clip710)\" style=\"stroke:#000000; stroke-linecap:round; stroke-linejoin:round; stroke-width:4; stroke-opacity:1; fill:none\" points=\"219.866,665.412 238.764,665.412 \"/>\n",
       "<polyline clip-path=\"url(#clip710)\" style=\"stroke:#000000; stroke-linecap:round; stroke-linejoin:round; stroke-width:4; stroke-opacity:1; fill:none\" points=\"219.866,474.071 238.764,474.071 \"/>\n",
       "<polyline clip-path=\"url(#clip710)\" style=\"stroke:#000000; stroke-linecap:round; stroke-linejoin:round; stroke-width:4; stroke-opacity:1; fill:none\" points=\"219.866,282.729 238.764,282.729 \"/>\n",
       "<polyline clip-path=\"url(#clip710)\" style=\"stroke:#000000; stroke-linecap:round; stroke-linejoin:round; stroke-width:4; stroke-opacity:1; fill:none\" points=\"219.866,91.388 238.764,91.388 \"/>\n",
       "<path clip-path=\"url(#clip710)\" d=\"M127.917 1225.23 Q124.306 1225.23 122.478 1228.8 Q120.672 1232.34 120.672 1239.47 Q120.672 1246.58 122.478 1250.14 Q124.306 1253.68 127.917 1253.68 Q131.552 1253.68 133.357 1250.14 Q135.186 1246.58 135.186 1239.47 Q135.186 1232.34 133.357 1228.8 Q131.552 1225.23 127.917 1225.23 M127.917 1221.53 Q133.728 1221.53 136.783 1226.14 Q139.862 1230.72 139.862 1239.47 Q139.862 1248.2 136.783 1252.8 Q133.728 1257.39 127.917 1257.39 Q122.107 1257.39 119.029 1252.8 Q115.973 1248.2 115.973 1239.47 Q115.973 1230.72 119.029 1226.14 Q122.107 1221.53 127.917 1221.53 Z\" fill=\"#000000\" fill-rule=\"nonzero\" fill-opacity=\"1\" /><path clip-path=\"url(#clip710)\" d=\"M148.079 1250.84 L152.964 1250.84 L152.964 1256.72 L148.079 1256.72 L148.079 1250.84 Z\" fill=\"#000000\" fill-rule=\"nonzero\" fill-opacity=\"1\" /><path clip-path=\"url(#clip710)\" d=\"M163.959 1252.78 L171.598 1252.78 L171.598 1226.42 L163.288 1228.08 L163.288 1223.82 L171.552 1222.16 L176.227 1222.16 L176.227 1252.78 L183.866 1252.78 L183.866 1256.72 L163.959 1256.72 L163.959 1252.78 Z\" fill=\"#000000\" fill-rule=\"nonzero\" fill-opacity=\"1\" /><path clip-path=\"url(#clip710)\" d=\"M128.288 1033.89 Q124.677 1033.89 122.848 1037.46 Q121.043 1041 121.043 1048.13 Q121.043 1055.24 122.848 1058.8 Q124.677 1062.34 128.288 1062.34 Q131.922 1062.34 133.728 1058.8 Q135.556 1055.24 135.556 1048.13 Q135.556 1041 133.728 1037.46 Q131.922 1033.89 128.288 1033.89 M128.288 1030.19 Q134.098 1030.19 137.154 1034.8 Q140.232 1039.38 140.232 1048.13 Q140.232 1056.86 137.154 1061.46 Q134.098 1066.05 128.288 1066.05 Q122.478 1066.05 119.399 1061.46 Q116.343 1056.86 116.343 1048.13 Q116.343 1039.38 119.399 1034.8 Q122.478 1030.19 128.288 1030.19 Z\" fill=\"#000000\" fill-rule=\"nonzero\" fill-opacity=\"1\" /><path clip-path=\"url(#clip710)\" d=\"M148.45 1059.5 L153.334 1059.5 L153.334 1065.37 L148.45 1065.37 L148.45 1059.5 Z\" fill=\"#000000\" fill-rule=\"nonzero\" fill-opacity=\"1\" /><path clip-path=\"url(#clip710)\" d=\"M167.547 1061.44 L183.866 1061.44 L183.866 1065.37 L161.922 1065.37 L161.922 1061.44 Q164.584 1058.68 169.167 1054.06 Q173.774 1049.4 174.954 1048.06 Q177.2 1045.54 178.079 1043.8 Q178.982 1042.04 178.982 1040.35 Q178.982 1037.6 177.038 1035.86 Q175.116 1034.12 172.014 1034.12 Q169.815 1034.12 167.362 1034.89 Q164.931 1035.65 162.153 1037.2 L162.153 1032.48 Q164.977 1031.35 167.431 1030.77 Q169.885 1030.19 171.922 1030.19 Q177.292 1030.19 180.487 1032.87 Q183.681 1035.56 183.681 1040.05 Q183.681 1042.18 182.871 1044.1 Q182.084 1046 179.977 1048.59 Q179.399 1049.26 176.297 1052.48 Q173.195 1055.68 167.547 1061.44 Z\" fill=\"#000000\" fill-rule=\"nonzero\" fill-opacity=\"1\" /><path clip-path=\"url(#clip710)\" d=\"M127.339 842.552 Q123.728 842.552 121.899 846.117 Q120.093 849.658 120.093 856.788 Q120.093 863.894 121.899 867.459 Q123.728 871.001 127.339 871.001 Q130.973 871.001 132.779 867.459 Q134.607 863.894 134.607 856.788 Q134.607 849.658 132.779 846.117 Q130.973 842.552 127.339 842.552 M127.339 838.848 Q133.149 838.848 136.204 843.455 Q139.283 848.038 139.283 856.788 Q139.283 865.515 136.204 870.121 Q133.149 874.705 127.339 874.705 Q121.529 874.705 118.45 870.121 Q115.394 865.515 115.394 856.788 Q115.394 848.038 118.45 843.455 Q121.529 838.848 127.339 838.848 Z\" fill=\"#000000\" fill-rule=\"nonzero\" fill-opacity=\"1\" /><path clip-path=\"url(#clip710)\" d=\"M147.501 868.154 L152.385 868.154 L152.385 874.033 L147.501 874.033 L147.501 868.154 Z\" fill=\"#000000\" fill-rule=\"nonzero\" fill-opacity=\"1\" /><path clip-path=\"url(#clip710)\" d=\"M176.737 855.399 Q180.093 856.117 181.968 858.385 Q183.866 860.654 183.866 863.987 Q183.866 869.103 180.348 871.904 Q176.829 874.705 170.348 874.705 Q168.172 874.705 165.857 874.265 Q163.565 873.848 161.112 872.992 L161.112 868.478 Q163.056 869.612 165.371 870.191 Q167.686 870.769 170.209 870.769 Q174.607 870.769 176.899 869.033 Q179.214 867.297 179.214 863.987 Q179.214 860.932 177.061 859.219 Q174.931 857.482 171.112 857.482 L167.084 857.482 L167.084 853.64 L171.297 853.64 Q174.746 853.64 176.575 852.274 Q178.403 850.885 178.403 848.293 Q178.403 845.631 176.505 844.219 Q174.63 842.783 171.112 842.783 Q169.19 842.783 166.991 843.2 Q164.792 843.617 162.153 844.496 L162.153 840.33 Q164.815 839.589 167.13 839.219 Q169.468 838.848 171.528 838.848 Q176.852 838.848 179.954 841.279 Q183.056 843.686 183.056 847.807 Q183.056 850.677 181.413 852.668 Q179.769 854.635 176.737 855.399 Z\" fill=\"#000000\" fill-rule=\"nonzero\" fill-opacity=\"1\" /><path clip-path=\"url(#clip710)\" d=\"M126.205 651.211 Q122.593 651.211 120.765 654.775 Q118.959 658.317 118.959 665.447 Q118.959 672.553 120.765 676.118 Q122.593 679.66 126.205 679.66 Q129.839 679.66 131.644 676.118 Q133.473 672.553 133.473 665.447 Q133.473 658.317 131.644 654.775 Q129.839 651.211 126.205 651.211 M126.205 647.507 Q132.015 647.507 135.07 652.113 Q138.149 656.697 138.149 665.447 Q138.149 674.174 135.07 678.78 Q132.015 683.363 126.205 683.363 Q120.394 683.363 117.316 678.78 Q114.26 674.174 114.26 665.447 Q114.26 656.697 117.316 652.113 Q120.394 647.507 126.205 647.507 Z\" fill=\"#000000\" fill-rule=\"nonzero\" fill-opacity=\"1\" /><path clip-path=\"url(#clip710)\" d=\"M146.366 676.812 L151.251 676.812 L151.251 682.692 L146.366 682.692 L146.366 676.812 Z\" fill=\"#000000\" fill-rule=\"nonzero\" fill-opacity=\"1\" /><path clip-path=\"url(#clip710)\" d=\"M174.283 652.206 L162.477 670.655 L174.283 670.655 L174.283 652.206 M173.056 648.132 L178.936 648.132 L178.936 670.655 L183.866 670.655 L183.866 674.544 L178.936 674.544 L178.936 682.692 L174.283 682.692 L174.283 674.544 L158.681 674.544 L158.681 670.03 L173.056 648.132 Z\" fill=\"#000000\" fill-rule=\"nonzero\" fill-opacity=\"1\" /><path clip-path=\"url(#clip710)\" d=\"M127.686 459.869 Q124.075 459.869 122.246 463.434 Q120.441 466.976 120.441 474.105 Q120.441 481.212 122.246 484.777 Q124.075 488.318 127.686 488.318 Q131.32 488.318 133.126 484.777 Q134.954 481.212 134.954 474.105 Q134.954 466.976 133.126 463.434 Q131.32 459.869 127.686 459.869 M127.686 456.166 Q133.496 456.166 136.552 460.772 Q139.63 465.355 139.63 474.105 Q139.63 482.832 136.552 487.439 Q133.496 492.022 127.686 492.022 Q121.876 492.022 118.797 487.439 Q115.742 482.832 115.742 474.105 Q115.742 465.355 118.797 460.772 Q121.876 456.166 127.686 456.166 Z\" fill=\"#000000\" fill-rule=\"nonzero\" fill-opacity=\"1\" /><path clip-path=\"url(#clip710)\" d=\"M147.848 485.471 L152.732 485.471 L152.732 491.351 L147.848 491.351 L147.848 485.471 Z\" fill=\"#000000\" fill-rule=\"nonzero\" fill-opacity=\"1\" /><path clip-path=\"url(#clip710)\" d=\"M162.964 456.791 L181.32 456.791 L181.32 460.726 L167.246 460.726 L167.246 469.198 Q168.264 468.851 169.283 468.689 Q170.302 468.504 171.32 468.504 Q177.107 468.504 180.487 471.675 Q183.866 474.846 183.866 480.263 Q183.866 485.841 180.394 488.943 Q176.922 492.022 170.602 492.022 Q168.427 492.022 166.158 491.652 Q163.913 491.281 161.505 490.54 L161.505 485.841 Q163.589 486.976 165.811 487.531 Q168.033 488.087 170.51 488.087 Q174.514 488.087 176.852 485.98 Q179.19 483.874 179.19 480.263 Q179.19 476.652 176.852 474.545 Q174.514 472.439 170.51 472.439 Q168.635 472.439 166.76 472.855 Q164.908 473.272 162.964 474.152 L162.964 456.791 Z\" fill=\"#000000\" fill-rule=\"nonzero\" fill-opacity=\"1\" /><path clip-path=\"url(#clip710)\" d=\"M126.529 268.528 Q122.918 268.528 121.089 272.093 Q119.283 275.634 119.283 282.764 Q119.283 289.87 121.089 293.435 Q122.918 296.977 126.529 296.977 Q130.163 296.977 131.968 293.435 Q133.797 289.87 133.797 282.764 Q133.797 275.634 131.968 272.093 Q130.163 268.528 126.529 268.528 M126.529 264.824 Q132.339 264.824 135.394 269.431 Q138.473 274.014 138.473 282.764 Q138.473 291.491 135.394 296.097 Q132.339 300.681 126.529 300.681 Q120.718 300.681 117.64 296.097 Q114.584 291.491 114.584 282.764 Q114.584 274.014 117.64 269.431 Q120.718 264.824 126.529 264.824 Z\" fill=\"#000000\" fill-rule=\"nonzero\" fill-opacity=\"1\" /><path clip-path=\"url(#clip710)\" d=\"M146.691 294.13 L151.575 294.13 L151.575 300.009 L146.691 300.009 L146.691 294.13 Z\" fill=\"#000000\" fill-rule=\"nonzero\" fill-opacity=\"1\" /><path clip-path=\"url(#clip710)\" d=\"M172.339 280.866 Q169.19 280.866 167.339 283.019 Q165.51 285.171 165.51 288.921 Q165.51 292.648 167.339 294.824 Q169.19 296.977 172.339 296.977 Q175.487 296.977 177.315 294.824 Q179.167 292.648 179.167 288.921 Q179.167 285.171 177.315 283.019 Q175.487 280.866 172.339 280.866 M181.621 266.213 L181.621 270.472 Q179.862 269.639 178.056 269.199 Q176.274 268.759 174.514 268.759 Q169.885 268.759 167.431 271.884 Q165.001 275.009 164.653 281.329 Q166.019 279.315 168.079 278.25 Q170.139 277.162 172.616 277.162 Q177.825 277.162 180.834 280.333 Q183.866 283.482 183.866 288.921 Q183.866 294.245 180.718 297.463 Q177.57 300.681 172.339 300.681 Q166.343 300.681 163.172 296.097 Q160.001 291.491 160.001 282.764 Q160.001 274.57 163.89 269.709 Q167.778 264.824 174.329 264.824 Q176.089 264.824 177.871 265.172 Q179.676 265.519 181.621 266.213 Z\" fill=\"#000000\" fill-rule=\"nonzero\" fill-opacity=\"1\" /><path clip-path=\"url(#clip710)\" d=\"M127.593 77.1866 Q123.982 77.1866 122.154 80.7514 Q120.348 84.2931 120.348 91.4227 Q120.348 98.5291 122.154 102.094 Q123.982 105.636 127.593 105.636 Q131.228 105.636 133.033 102.094 Q134.862 98.5291 134.862 91.4227 Q134.862 84.2931 133.033 80.7514 Q131.228 77.1866 127.593 77.1866 M127.593 73.483 Q133.404 73.483 136.459 78.0894 Q139.538 82.6727 139.538 91.4227 Q139.538 100.149 136.459 104.756 Q133.404 109.339 127.593 109.339 Q121.783 109.339 118.705 104.756 Q115.649 100.149 115.649 91.4227 Q115.649 82.6727 118.705 78.0894 Q121.783 73.483 127.593 73.483 Z\" fill=\"#000000\" fill-rule=\"nonzero\" fill-opacity=\"1\" /><path clip-path=\"url(#clip710)\" d=\"M147.755 102.788 L152.64 102.788 L152.64 108.668 L147.755 108.668 L147.755 102.788 Z\" fill=\"#000000\" fill-rule=\"nonzero\" fill-opacity=\"1\" /><path clip-path=\"url(#clip710)\" d=\"M161.644 74.108 L183.866 74.108 L183.866 76.0987 L171.32 108.668 L166.436 108.668 L178.241 78.0431 L161.644 78.0431 L161.644 74.108 Z\" fill=\"#000000\" fill-rule=\"nonzero\" fill-opacity=\"1\" /><path clip-path=\"url(#clip710)\" d=\"M33.7671 843.779 L14.479 843.779 L14.479 837.923 L64.0042 837.923 L64.0042 843.779 L58.657 843.779 Q61.8398 845.625 63.3994 848.458 Q64.9272 851.259 64.9272 855.206 Q64.9272 861.667 59.771 865.741 Q54.6147 869.783 46.212 869.783 Q37.8093 869.783 32.6531 865.741 Q27.4968 861.667 27.4968 855.206 Q27.4968 851.259 29.0564 848.458 Q30.5842 845.625 33.7671 843.779 M46.212 863.736 Q52.6732 863.736 56.3653 861.094 Q60.0256 858.42 60.0256 853.773 Q60.0256 849.126 56.3653 846.453 Q52.6732 843.779 46.212 843.779 Q39.7508 843.779 36.0905 846.453 Q32.3984 849.126 32.3984 853.773 Q32.3984 858.42 36.0905 861.094 Q39.7508 863.736 46.212 863.736 Z\" fill=\"#000000\" fill-rule=\"nonzero\" fill-opacity=\"1\" /><path clip-path=\"url(#clip710)\" d=\"M28.3562 825.86 L28.3562 820.003 L64.0042 820.003 L64.0042 825.86 L28.3562 825.86 M14.479 825.86 L14.479 820.003 L21.895 820.003 L21.895 825.86 L14.479 825.86 Z\" fill=\"#000000\" fill-rule=\"nonzero\" fill-opacity=\"1\" /><path clip-path=\"url(#clip710)\" d=\"M29.4065 785.024 L34.9447 785.024 Q33.6716 787.506 33.035 790.18 Q32.3984 792.853 32.3984 795.718 Q32.3984 800.079 33.7352 802.275 Q35.072 804.439 37.7456 804.439 Q39.7826 804.439 40.9603 802.879 Q42.1061 801.32 43.1565 796.609 L43.6021 794.604 Q44.9389 788.366 47.3897 785.756 Q49.8086 783.114 54.1691 783.114 Q59.1344 783.114 62.0308 787.061 Q64.9272 790.976 64.9272 797.851 Q64.9272 800.715 64.3543 803.834 Q63.8132 806.922 62.6992 810.359 L56.6518 810.359 Q58.3387 807.113 59.198 803.962 Q60.0256 800.811 60.0256 797.723 Q60.0256 793.585 58.6251 791.358 Q57.1929 789.13 54.6147 789.13 Q52.2276 789.13 50.9545 790.753 Q49.6813 792.344 48.5037 797.787 L48.0262 799.824 Q46.8804 805.267 44.5251 807.686 Q42.138 810.105 38.0002 810.105 Q32.9713 810.105 30.2341 806.54 Q27.4968 802.975 27.4968 796.418 Q27.4968 793.172 27.9743 790.307 Q28.4517 787.443 29.4065 785.024 Z\" fill=\"#000000\" fill-rule=\"nonzero\" fill-opacity=\"1\" /><path clip-path=\"url(#clip710)\" d=\"M18.2347 767.995 L28.3562 767.995 L28.3562 755.932 L32.9077 755.932 L32.9077 767.995 L52.2594 767.995 Q56.6199 767.995 57.8613 766.818 Q59.1026 765.608 59.1026 761.948 L59.1026 755.932 L64.0042 755.932 L64.0042 761.948 Q64.0042 768.727 61.4897 771.306 Q58.9434 773.884 52.2594 773.884 L32.9077 773.884 L32.9077 778.18 L28.3562 778.18 L28.3562 773.884 L18.2347 773.884 L18.2347 767.995 Z\" fill=\"#000000\" fill-rule=\"nonzero\" fill-opacity=\"1\" /><path clip-path=\"url(#clip710)\" d=\"M46.0847 732.029 Q46.0847 739.127 47.7079 741.864 Q49.3312 744.601 53.2461 744.601 Q56.3653 744.601 58.2114 742.564 Q60.0256 740.496 60.0256 736.963 Q60.0256 732.093 56.5881 729.165 Q53.1188 726.204 47.3897 726.204 L46.0847 726.204 L46.0847 732.029 M43.6657 720.348 L64.0042 720.348 L64.0042 726.204 L58.5933 726.204 Q61.8398 728.21 63.3994 731.202 Q64.9272 734.193 64.9272 738.522 Q64.9272 743.997 61.8716 747.243 Q58.7843 750.458 53.6281 750.458 Q47.6125 750.458 44.5569 746.447 Q41.5014 742.405 41.5014 734.416 L41.5014 726.204 L40.9285 726.204 Q36.8862 726.204 34.6901 728.878 Q32.4621 731.52 32.4621 736.326 Q32.4621 739.382 33.1941 742.278 Q33.9262 745.174 35.3903 747.848 L29.9795 747.848 Q28.7381 744.633 28.1334 741.61 Q27.4968 738.586 27.4968 735.721 Q27.4968 727.987 31.5072 724.167 Q35.5176 720.348 43.6657 720.348 Z\" fill=\"#000000\" fill-rule=\"nonzero\" fill-opacity=\"1\" /><path clip-path=\"url(#clip710)\" d=\"M42.4881 678.653 L64.0042 678.653 L64.0042 684.509 L42.679 684.509 Q37.6183 684.509 35.1038 686.482 Q32.5894 688.456 32.5894 692.403 Q32.5894 697.145 35.6131 699.882 Q38.6368 702.62 43.8567 702.62 L64.0042 702.62 L64.0042 708.508 L28.3562 708.508 L28.3562 702.62 L33.8944 702.62 Q30.6797 700.519 29.0883 697.686 Q27.4968 694.822 27.4968 691.098 Q27.4968 684.955 31.3163 681.804 Q35.1038 678.653 42.4881 678.653 Z\" fill=\"#000000\" fill-rule=\"nonzero\" fill-opacity=\"1\" /><path clip-path=\"url(#clip710)\" d=\"M29.7248 641.318 L35.1993 641.318 Q33.8307 643.8 33.1623 646.315 Q32.4621 648.798 32.4621 651.344 Q32.4621 657.041 36.0905 660.192 Q39.6872 663.343 46.212 663.343 Q52.7369 663.343 56.3653 660.192 Q59.9619 657.041 59.9619 651.344 Q59.9619 648.798 59.2935 646.315 Q58.5933 643.8 57.2247 641.318 L62.6355 641.318 Q63.7814 643.769 64.3543 646.41 Q64.9272 649.02 64.9272 651.98 Q64.9272 660.033 59.8664 664.775 Q54.8057 669.518 46.212 669.518 Q37.491 669.518 32.4939 664.744 Q27.4968 659.937 27.4968 651.598 Q27.4968 648.893 28.0697 646.315 Q28.6108 643.737 29.7248 641.318 Z\" fill=\"#000000\" fill-rule=\"nonzero\" fill-opacity=\"1\" /><path clip-path=\"url(#clip710)\" d=\"M44.7161 600.641 L47.5806 600.641 L47.5806 627.568 Q53.6281 627.186 56.8109 623.939 Q59.9619 620.661 59.9619 614.836 Q59.9619 611.463 59.1344 608.312 Q58.3069 605.129 56.6518 602.01 L62.1899 602.01 Q63.5267 605.161 64.227 608.471 Q64.9272 611.781 64.9272 615.187 Q64.9272 623.717 59.9619 628.714 Q54.9967 633.679 46.5303 633.679 Q37.7774 633.679 32.6531 628.968 Q27.4968 624.226 27.4968 616.205 Q27.4968 609.012 32.1438 604.842 Q36.7589 600.641 44.7161 600.641 M42.9973 606.497 Q38.1912 606.561 35.3266 609.203 Q32.4621 611.813 32.4621 616.141 Q32.4621 621.043 35.2312 624.003 Q38.0002 626.931 43.0292 627.377 L42.9973 606.497 Z\" fill=\"#000000\" fill-rule=\"nonzero\" fill-opacity=\"1\" /><polyline clip-path=\"url(#clip712)\" style=\"stroke:#009af9; stroke-linecap:round; stroke-linejoin:round; stroke-width:4; stroke-opacity:1; fill:none\" points=\"280.231,1384.24 281.238,1384.13 282.244,1383.88 283.251,1383.77 284.257,1383.61 285.264,1383.46 286.271,1383.3 287.277,1383.15 288.284,1383.03 289.29,1382.87 290.297,1382.72 291.303,1382.56 292.31,1382.44 293.317,1382.32 294.323,1382.1 295.33,1381.89 296.336,1381.73 297.343,1381.61 298.35,1381.39 299.356,1381.26 300.363,1381.09 301.369,1380.87 302.376,1380.74 303.382,1380.61 304.389,1380.43 305.396,1380.34 306.402,1380.24 307.409,1380.11 308.415,1379.88 309.422,1379.7 310.429,1379.47 311.435,1379.37 312.442,1379.24 313.448,1379.15 314.455,1379 315.461,1378.9 316.468,1378.66 317.475,1378.52 318.481,1378.32 319.488,1378.18 320.494,1377.93 321.501,1377.68 322.508,1377.49 323.514,1377.34 324.521,1377.14 325.527,1376.87 326.534,1376.76 327.54,1376.56 328.547,1376.35 329.554,1376.14 330.56,1375.79 331.567,1375.58 332.573,1375.43 333.58,1375.15 334.587,1374.94 335.593,1374.72 336.6,1374.55 337.606,1374.38 338.613,1374.16 339.619,1373.99 340.626,1373.87 341.633,1373.64 342.639,1373.41 343.646,1373.18 344.652,1372.95 345.659,1372.64 346.666,1372.41 347.672,1372.16 348.679,1371.92 349.685,1371.92 350.692,1371.79 351.698,1371.6 352.705,1371.5 353.712,1371.26 354.718,1371.12 355.725,1370.93 356.731,1370.73 357.738,1370.48 358.745,1370.3 359.751,1370.19 360.758,1369.94 361.764,1369.8 362.771,1369.54 363.777,1369.34 364.784,1369.19 365.791,1368.75 366.797,1368.6 367.804,1368.46 368.81,1368.19 369.817,1367.98 370.824,1367.83 371.83,1367.63 372.837,1367.35 373.843,1366.98 374.85,1366.88 375.856,1366.66 376.863,1366.44 377.87,1366.22 378.876,1365.99 379.883,1365.83 380.889,1365.66 381.896,1365.28 382.903,1364.98 383.909,1364.79 384.916,1364.8 385.922,1364.49 386.929,1364.32 387.935,1364.01 388.942,1363.83 389.949,1363.59 390.955,1363.28 391.962,1363.27 392.968,1363.26 393.975,1363.01 394.982,1362.7 395.988,1362.57 396.995,1362.24 398.001,1361.91 399.008,1361.66 400.014,1361.41 401.021,1361.15 402.028,1361.03 403.034,1360.68 404.041,1360.55 405.047,1360.35 406.054,1360.16 407.061,1359.89 408.067,1359.8 409.074,1359.44 410.08,1359.3 411.087,1359.31 412.093,1359.04 413.1,1358.68 414.107,1358.31 415.113,1357.83 416.12,1357.55 417.126,1357.54 418.133,1357.26 419.14,1356.76 420.146,1356.46 421.153,1355.96 422.159,1355.65 423.166,1355.64 424.172,1355.34 425.179,1355.29 426.186,1355.13 427.192,1354.82 428.199,1354.59 429.205,1354.42 430.212,1354.2 431.219,1354.19 432.225,1353.89 433.232,1353.72 434.238,1353.61 435.245,1353.29 436.251,1353.05 437.258,1352.81 438.265,1352.25 439.271,1351.91 440.278,1351.67 441.284,1351.67 442.291,1351.5 443.298,1351.5 444.304,1351.33 445.311,1350.74 446.317,1350.62 447.324,1350.03 448.33,1349.76 449.337,1349.68 450.344,1349.21 451.35,1349.2 452.357,1348.94 453.363,1348.67 454.37,1348.55 455.377,1348.41 456.383,1348.13 457.39,1347.87 458.396,1347.7 459.403,1347.34 460.409,1347.06 461.416,1347 462.423,1346.71 463.429,1346.58 464.436,1346.49 465.442,1346.2 466.449,1345.93 467.456,1345.74 468.462,1345.45 469.469,1344.92 470.475,1344.53 471.482,1344.33 472.488,1343.8 473.495,1343.79 474.502,1343.47 475.508,1343.23 476.515,1342.82 477.521,1342.52 478.528,1342.23 479.535,1341.81 480.541,1341.37 481.548,1341.15 482.554,1341.15 483.561,1340.99 484.567,1340.55 485.574,1340.11 486.581,1339.78 487.587,1339.46 488.594,1339.23 489.6,1338.61 490.607,1338.36 491.614,1337.9 492.62,1337.27 493.627,1336.92 494.633,1336.44 495.64,1336.44 496.646,1335.95 497.653,1335.46 498.66,1335.46 499.666,1335.46 500.673,1335.45 501.679,1335.38 502.686,1335.03 503.693,1334.77 504.699,1334.77 505.706,1334.6 506.712,1334.21 507.719,1333.94 508.725,1333.83 509.732,1333.29 510.739,1332.91 511.745,1332.22 512.752,1331.94 513.758,1331.42 514.765,1331.43 515.772,1331.03 516.778,1330.49 517.785,1330.43 518.791,1330.41 519.798,1330.13 520.804,1330.12 521.811,1329.84 522.818,1329.65 523.824,1329.24 524.831,1329.23 525.837,1328.81 526.844,1328.22 527.851,1327.66 528.857,1327.67 529.864,1327.24 530.87,1326.8 531.877,1326 532.883,1326 533.89,1325.59 534.897,1324.97 535.903,1324.64 536.91,1324.18 537.916,1323.84 538.923,1323.53 539.93,1323.06 540.936,1322.59 541.943,1322.25 542.949,1321.38 543.956,1321.38 544.962,1321.13 545.969,1321.13 546.976,1320.79 547.982,1320.13 548.989,1319.76 549.995,1319.77 551.002,1319.1 552.009,1318.83 553.015,1318.81 554.022,1318.81 555.028,1318.44 556.035,1318.45 557.041,1317.76 558.048,1317.39 559.055,1317.4 560.061,1317.14 561.068,1316.6 562.074,1316.09 563.081,1316.14 564.088,1315.31 565.094,1314.75 566.101,1314.71 567.107,1314.71 568.114,1314.18 569.12,1313.43 570.127,1312.69 571.134,1312.7 572.14,1312.32 573.147,1312.05 574.153,1311.79 575.16,1311.03 576.167,1310.43 577.173,1310.43 578.18,1310.45 579.186,1310.39 580.193,1309.98 581.199,1309.79 582.206,1309.25 583.213,1309.24 584.219,1308.8 585.226,1308.82 586.232,1308.51 587.239,1308.1 588.246,1307.25 589.252,1306.8 590.259,1306.4 591.265,1306.4 592.272,1305.91 593.278,1305.89 594.285,1305.22 595.292,1304.82 596.298,1305.29 597.305,1304.95 598.311,1304.61 599.318,1303.94 600.325,1303.95 601.331,1303.96 602.338,1303.95 603.344,1303.46 604.351,1303 605.357,1302.76 606.364,1302.52 607.371,1302.29 608.377,1302.27 609.384,1301.04 610.39,1301.04 611.397,1300.67 612.404,1300.44 613.41,1300.2 614.417,1300.21 615.423,1299.9 616.43,1300.12 617.436,1300.1 618.443,1299.57 619.45,1299.08 620.456,1298.36 621.463,1297.64 622.469,1296.64 623.476,1296.53 624.483,1296.53 625.489,1296.51 626.496,1296.49 627.502,1295.74 628.509,1294.47 629.515,1293.9 630.522,1293.15 631.529,1293.12 632.535,1292.75 633.542,1291.96 634.548,1291.38 635.555,1291.34 636.562,1290.92 637.568,1290.92 638.575,1290.66 639.581,1290.67 640.588,1289.85 641.594,1289.55 642.601,1288.71 643.608,1288.56 644.614,1288.53 645.621,1288.11 646.627,1287.52 647.634,1287.09 648.641,1286.83 649.647,1286.78 650.654,1286.21 651.66,1285.35 652.667,1285.31 653.673,1285.12 654.68,1285.15 655.687,1285.17 656.693,1284.87 657.7,1283.95 658.706,1283.63 659.713,1282.76 660.72,1282.45 661.726,1282.46 662.733,1282.28 663.739,1281.37 664.746,1281.38 665.752,1281.2 666.759,1281.17 667.766,1280.51 668.772,1280.2 669.779,1280.02 670.785,1280.01 671.792,1279.53 672.799,1279.03 673.805,1277.69 674.812,1277.18 675.818,1276.91 676.825,1275.92 677.831,1275.64 678.838,1274.63 679.845,1274.62 680.851,1274.6 681.858,1273.85 682.864,1273.88 683.871,1273.51 684.878,1272.5 685.884,1272.24 686.891,1271.87 687.897,1271.88 688.904,1271.65 689.91,1271.17 690.917,1271.18 691.924,1269.26 692.93,1269.13 693.937,1268.63 694.943,1268.09 695.95,1267.58 696.957,1267.58 697.963,1266.76 698.97,1265.67 699.976,1264.84 700.983,1263.99 701.989,1263.96 702.996,1263.71 704.003,1263.68 705.009,1262.84 706.016,1262.86 707.022,1261.27 708.029,1260.9 709.036,1260.92 710.042,1260.93 711.049,1260.31 712.055,1260.14 713.062,1259.75 714.068,1258.07 715.075,1257.43 716.082,1256.57 717.088,1256.6 718.095,1255.93 719.101,1256.07 720.108,1256.05 721.115,1256.06 722.121,1255.12 723.128,1254.48 724.134,1254.47 725.141,1253.75 726.147,1253.75 727.154,1253.79 728.161,1253.8 729.167,1253.45 730.174,1253.15 731.18,1253.11 732.187,1252.83 733.194,1252.66 734.2,1252.22 735.207,1252.23 736.213,1251.26 737.22,1250.78 738.226,1250.45 739.233,1249.08 740.24,1248.41 741.246,1248.25 742.253,1246.41 743.259,1246.46 744.266,1246.59 745.273,1245.6 746.279,1245.61 747.286,1245.03 748.292,1244.32 749.299,1242.92 750.305,1242.9 751.312,1241.87 752.319,1241.15 753.325,1240.01 754.332,1240.03 755.338,1239.4 756.345,1239.43 757.352,1238.66 758.358,1237.53 759.365,1237.53 760.371,1236.32 761.378,1236.34 762.384,1235.5 763.391,1235.13 764.398,1235.03 765.404,1234.25 766.411,1234.25 767.417,1234.3 768.424,1233.18 769.431,1233.16 770.437,1232.35 771.444,1232.35 772.45,1232.48 773.457,1231.3 774.463,1230.35 775.47,1229.86 776.477,1229.34 777.483,1228.72 778.49,1228.32 779.496,1227.38 780.503,1227.38 781.51,1227.47 782.516,1226.33 783.523,1226.33 784.529,1226.24 785.536,1226.32 786.542,1226.52 787.549,1226.27 788.556,1225.69 789.562,1225.72 790.569,1224.82 791.575,1224.83 792.582,1223.11 793.589,1222.52 794.595,1222.18 795.602,1221.6 796.608,1221.63 797.615,1221.64 798.621,1221.69 799.628,1221.7 800.635,1221.13 801.641,1219.66 802.648,1219.08 803.654,1219.1 804.661,1219.22 805.668,1219.05 806.674,1218.61 807.681,1217.66 808.687,1218.04 809.694,1216.66 810.7,1214.06 811.707,1213.94 812.714,1213.88 813.72,1211.75 814.727,1211.8 815.733,1212.05 816.74,1211.87 817.747,1212 818.753,1211.4 819.76,1210.29 820.766,1210.19 821.773,1208.96 822.779,1208.97 823.786,1208.39 824.793,1208.18 825.799,1208.21 826.806,1207.78 827.812,1207.87 828.819,1207.1 829.826,1207.19 830.832,1205.61 831.839,1205.65 832.845,1204.99 833.852,1203.43 834.858,1202.32 835.865,1201.24 836.872,1201.49 837.878,1200.7 838.885,1200.69 839.891,1200.55 840.898,1200.29 841.905,1200.25 842.911,1199.12 843.918,1199.13 844.924,1198.78 845.931,1199.05 846.937,1198.92 847.944,1198.94 848.951,1196.62 849.957,1196.63 850.964,1196.62 851.97,1196.1 852.977,1195.38 853.984,1195.39 854.99,1194.17 855.997,1192.83 857.003,1192.21 858.01,1191.28 859.016,1190.05 860.023,1190.04 861.03,1190.05 862.036,1190.05 863.043,1189.51 864.049,1189.63 865.056,1188.36 866.063,1188.18 867.069,1188.19 868.076,1188.1 869.082,1187.15 870.089,1187.11 871.095,1187.1 872.102,1187.02 873.109,1186.9 874.115,1186.46 875.122,1186.26 876.128,1185.49 877.135,1184.22 878.142,1184.21 879.148,1183.37 880.155,1182.97 881.161,1182.07 882.168,1182.02 883.174,1181.43 884.181,1181.4 885.188,1181.26 886.194,1180.03 887.201,1179.96 888.207,1179.85 889.214,1178.38 890.221,1178.42 891.227,1178.41 892.234,1178.43 893.24,1178.34 894.247,1177.79 895.253,1176.84 896.26,1176.86 897.267,1176.85 898.273,1176.16 899.28,1175.33 900.286,1174.3 901.293,1174.32 902.3,1174.56 903.306,1172.64 904.313,1172.75 905.319,1173.08 906.326,1173.07 907.332,1172.91 908.339,1172.55 909.346,1172.53 910.352,1171.51 911.359,1167.58 912.365,1167.66 913.372,1167.63 914.379,1163.71 915.385,1162.67 916.392,1162.92 917.398,1162.95 918.405,1163 919.411,1162.4 920.418,1160.17 921.425,1159.81 922.431,1159.14 923.438,1159.15 924.444,1159.19 925.451,1158.52 926.458,1158.54 927.464,1158.54 928.471,1158.33 929.477,1157.68 930.484,1157.28 931.49,1156.87 932.497,1155.21 933.504,1155.18 934.51,1155.28 935.517,1154.13 936.523,1154.13 937.53,1153.44 938.537,1153.49 939.543,1150.98 940.55,1150.46 941.556,1148.96 942.563,1148.99 943.569,1149.13 944.576,1147.51 945.583,1147.56 946.589,1147.58 947.596,1145.78 948.602,1145.84 949.609,1145.83 950.616,1145.58 951.622,1145.11 952.629,1144.26 953.635,1142.94 954.642,1142.57 955.648,1139.89 956.655,1139.24 957.662,1138.4 958.668,1138.35 959.675,1138.35 960.681,1138.41 961.688,1138.42 962.695,1138.39 963.701,1138.06 964.708,1136.84 965.714,1135.95 966.721,1134.59 967.727,1131.84 968.734,1131.12 969.741,1130.3 970.747,1130.61 971.754,1130.5 972.76,1130.15 973.767,1128.84 974.774,1125.96 975.78,1125.75 976.787,1125.82 977.793,1122.76 978.8,1120.52 979.806,1119.95 980.813,1119.58 981.82,1119.14 982.826,1118.89 983.833,1118.82 984.839,1118.75 985.846,1118.27 986.853,1119 987.859,1118.98 988.866,1115.73 989.872,1115.03 990.879,1115.07 991.885,1114.44 992.892,1114.44 993.899,1113.56 994.905,1113.54 995.912,1113.64 996.918,1113.74 997.925,1113.91 998.932,1113.92 999.938,1113.87 1000.94,1117.17 1001.95,1117.42 1002.96,1115.93 1003.96,1115.96 1004.97,1115.97 1005.98,1115.66 1006.98,1116 1007.99,1115.95 1009,1115.86 1010,1113.67 1011.01,1112.76 1012.02,1112.76 1013.02,1112.73 1014.03,1112.71 1015.04,1111.22 1016.04,1111.12 1017.05,1111.09 1018.06,1108.01 1019.06,1107.5 1020.07,1105.99 1021.08,1103.63 1022.08,1103.48 1023.09,1102.34 1024.1,1101.7 1025.1,1101.46 1026.11,1101.28 1027.12,1101.19 1028.12,1099.96 1029.13,1100.11 1030.14,1100.17 1031.14,1100.32 1032.15,1099.4 1033.16,1094.49 1034.16,1094.59 1035.17,1094.18 1036.18,1091.52 1037.18,1091.1 1038.19,1090.89 1039.19,1090.65 1040.2,1090.63 1041.21,1090.63 1042.21,1090.62 1043.22,1087.83 1044.23,1085.95 1045.23,1085.75 1046.24,1085.8 1047.25,1086.51 1048.25,1086.21 1049.26,1086.12 1050.27,1086.06 1051.27,1085.9 1052.28,1085.78 1053.29,1085.85 1054.29,1085.83 1055.3,1085.99 1056.31,1085.12 1057.31,1085.01 1058.32,1085.07 1059.33,1085.5 1060.33,1083.79 1061.34,1082.16 1062.35,1082.16 1063.35,1082.16 1064.36,1082.13 1065.37,1082.23 1066.37,1081.99 1067.38,1081.99 1068.39,1081.96 1069.39,1082.16 1070.4,1082.37 1071.41,1081.02 1072.41,1077.16 1073.42,1076.04 1074.43,1075.97 1075.43,1076.01 1076.44,1076.05 1077.45,1074.92 1078.45,1074.89 1079.46,1075 1080.46,1074.03 1081.47,1073.91 1082.48,1069.82 1083.48,1069.25 1084.49,1070.37 1085.5,1070.3 1086.5,1070.48 1087.51,1070.08 1088.52,1070.22 1089.52,1068.11 1090.53,1067.59 1091.54,1068.03 1092.54,1066.77 1093.55,1065.04 1094.56,1062.62 1095.56,1062.74 1096.57,1061.51 1097.58,1060.14 1098.58,1056.93 1099.59,1053.92 1100.6,1054.01 1101.6,1054.06 1102.61,1054.03 1103.62,1052.73 1104.62,1051.52 1105.63,1051.63 1106.64,1051.68 1107.64,1051.76 1108.65,1051.77 1109.66,1051.95 1110.66,1051.6 1111.67,1049.36 1112.68,1049.55 1113.68,1049.44 1114.69,1050.38 1115.7,1049.31 1116.7,1049.35 1117.71,1047.28 1118.71,1047.2 1119.72,1047.28 1120.73,1047.17 1121.73,1047 1122.74,1047.03 1123.75,1047.41 1124.75,1047.36 1125.76,1047.41 1126.77,1041.02 1127.77,1040.85 1128.78,1039.43 1129.79,1038.41 1130.79,1037.39 1131.8,1037.25 1132.81,1037.02 1133.81,1036.65 1134.82,1036.44 1135.83,1037.02 1136.83,1036.69 1137.84,1035.84 1138.85,1030.53 1139.85,1030.56 1140.86,1030.36 1141.87,1030.26 1142.87,1030.26 1143.88,1028.99 1144.89,1028.94 1145.89,1028.79 1146.9,1027.71 1147.91,1027.92 1148.91,1025.73 1149.92,1025.71 1150.93,1024.73 1151.93,1023.4 1152.94,1022.92 1153.95,1022.97 1154.95,1023.03 1155.96,1022.89 1156.97,1019.31 1157.97,1019.44 1158.98,1016.47 1159.98,1014.83 1160.99,1013.31 1162,1012.88 1163,1012.83 1164.01,1009.89 1165.02,1009.68 1166.02,1007.93 1167.03,1008.07 1168.04,1009.3 1169.04,1009.18 1170.05,1009.1 1171.06,1008.97 1172.06,1007.44 1173.07,1005.76 1174.08,1005.74 1175.08,1005.74 1176.09,1002.84 1177.1,1002.88 1178.1,1003.03 1179.11,1002.87 1180.12,1002.64 1181.12,1002.57 1182.13,1003.15 1183.14,1002.32 1184.14,1002.3 1185.15,1001.52 1186.16,1001.46 1187.16,1001.21 1188.17,999.966 1189.18,998.919 1190.18,998.928 1191.19,999.029 1192.2,999.167 1193.2,998.01 1194.21,997.978 1195.22,996.786 1196.22,996.655 1197.23,996.581 1198.24,996.581 1199.24,996.479 1200.25,996.614 1201.25,996.339 1202.26,996.18 1203.27,996.255 1204.27,994.236 1205.28,988.168 1206.29,984.137 1207.29,984.112 1208.3,984.28 1209.31,984.048 1210.31,983.866 1211.32,983.733 1212.33,983.471 1213.33,981.302 1214.34,981.017 1215.35,978.471 1216.35,977.443 1217.36,977.21 1218.37,977.179 1219.37,977.281 1220.38,977.372 1221.39,977.296 1222.39,977.555 1223.4,977.616 1224.41,974.085 1225.41,974.08 1226.42,970.619 1227.43,970.912 1228.43,969.744 1229.44,969.744 1230.45,969.792 1231.45,970.054 1232.46,970.65 1233.47,970.687 1234.47,969.928 1235.48,968.777 1236.49,969.024 1237.49,966.664 1238.5,966.446 1239.5,966.457 1240.51,965.903 1241.52,965.833 1242.52,965.545 1243.53,965.566 1244.54,965.459 1245.54,962.441 1246.55,962.901 1247.56,961.567 1248.56,961.54 1249.57,961.703 1250.58,960.478 1251.58,954.992 1252.59,954.062 1253.6,954.27 1254.6,953.242 1255.61,953.247 1256.62,953.309 1257.62,952.644 1258.63,947.302 1259.64,946.006 1260.64,945.994 1261.65,945.122 1262.66,941.319 1263.66,941.491 1264.67,940.875 1265.68,938.476 1266.68,936.161 1267.69,936.034 1268.7,935.338 1269.7,935.169 1270.71,932.633 1271.72,932.124 1272.72,932.657 1273.73,932.866 1274.74,931.398 1275.74,931.663 1276.75,932.154 1277.76,928.525 1278.76,927.733 1279.77,927.552 1280.77,926.969 1281.78,918.812 1282.79,919.025 1283.79,916.334 1284.8,914.991 1285.81,914.643 1286.81,915.208 1287.82,903.132 1288.83,903.523 1289.83,897.406 1290.84,897.371 1291.85,897.645 1292.85,897.743 1293.86,897.778 1294.87,897.533 1295.87,897.336 1296.88,896.872 1297.89,894.986 1298.89,894.518 1299.9,892.465 1300.91,891.455 1301.91,884.81 1302.92,883.822 1303.93,884.117 1304.93,884.117 1305.94,883.852 1306.95,884.81 1307.95,883.038 1308.96,883.378 1309.97,882.645 1310.97,882.14 1311.98,882.237 1312.99,879.422 1313.99,877.501 1315,877.312 1316.01,877.592 1317.01,877.297 1318.02,875.499 1319.03,874.797 1320.03,874.431 1321.04,874.179 1322.04,874.362 1323.05,874.362 1324.06,874.797 1325.06,874.767 1326.07,874.163 1327.08,874.324 1328.08,874.729 1329.09,872.437 1330.1,870.769 1331.1,871.982 1332.11,870.087 1333.12,868.335 1334.12,868.468 1335.13,868.476 1336.14,868.648 1337.14,867.929 1338.15,868.288 1339.16,868.413 1340.16,868.421 1341.17,867.036 1342.18,866.832 1343.18,866.832 1344.19,859.321 1345.2,853.407 1346.2,853.563 1347.21,852.772 1348.22,852.83 1349.22,852.591 1350.23,852.483 1351.24,850.777 1352.24,850.919 1353.25,842.753 1354.26,842.129 1355.26,842.163 1356.27,841.598 1357.28,840.551 1358.28,840.8 1359.29,840.705 1360.29,840.232 1361.3,836.672 1362.31,836.48 1363.31,835.397 1364.32,835.458 1365.33,835.878 1366.33,834.538 1367.34,832.769 1368.35,832.839 1369.35,832.733 1370.36,831.432 1371.37,831.459 1372.37,831.406 1373.38,829.153 1374.39,828.142 1375.39,827.693 1376.4,825.458 1377.41,825.512 1378.41,824.86 1379.42,824.851 1380.43,822.458 1381.43,820.542 1382.44,814.638 1383.45,812.154 1384.45,808.877 1385.46,809.421 1386.47,809.402 1387.47,809.545 1388.48,807.94 1389.49,804.23 1390.49,805.314 1391.5,802.491 1392.51,798.311 1393.51,797.896 1394.52,797.53 1395.53,797.391 1396.53,797.767 1397.54,797.975 1398.55,797.51 1399.55,793.715 1400.56,790.209 1401.56,790.422 1402.57,790.158 1403.58,789.418 1404.58,789.184 1405.59,787.39 1406.6,788.227 1407.6,788.309 1408.61,788.319 1409.62,788.35 1410.62,788.798 1411.63,788.808 1412.64,788.074 1413.64,788.074 1414.65,787.932 1415.66,787.779 1416.66,786.859 1417.67,787.329 1418.68,787.39 1419.68,787.39 1420.69,787.288 1421.7,785.525 1422.7,778.563 1423.71,764.07 1424.72,761.337 1425.72,758.593 1426.73,757.934 1427.74,757.397 1428.74,757.084 1429.75,756.725 1430.76,756.826 1431.76,757.33 1432.77,754.158 1433.78,754.384 1434.78,754.97 1435.79,753.343 1436.8,753.728 1437.8,753.433 1438.81,750.966 1439.82,750.51 1440.82,750.487 1441.83,752.401 1442.83,752.901 1443.84,752.367 1444.85,751.741 1445.85,750.727 1446.86,750.041 1447.87,756.669 1448.87,754.846 1449.88,754.88 1450.89,754.88 1451.89,743.864 1452.9,743.888 1453.91,743.165 1454.91,743.188 1455.92,743.316 1456.93,743.445 1457.93,738.073 1458.94,738.534 1459.95,738.108 1460.95,734.081 1461.96,734.081 1462.97,733.601 1463.97,736.767 1464.98,737.373 1465.99,729.327 1466.99,728.975 1468,728.707 1469.01,723.138 1470.01,717.506 1471.02,717.393 1472.03,717.719 1473.03,709.876 1474.04,709.414 1475.05,709.889 1476.05,710.389 1477.06,708.474 1478.07,707.881 1479.07,705.941 1480.08,705.383 1481.08,705.383 1482.09,705.474 1483.1,705.629 1484.1,705.357 1485.11,703.18 1486.12,703.194 1487.12,703.337 1488.13,703.651 1489.14,699.595 1490.14,699.027 1491.15,699.621 1492.16,699.185 1493.16,699.463 1494.17,698.868 1495.18,698.352 1496.18,698.1 1497.19,698.378 1498.2,698.365 1499.2,697.662 1500.21,698.02 1501.22,696.093 1502.22,695.092 1503.23,695.253 1504.24,694.999 1505.24,694.678 1506.25,695.092 1507.26,694.932 1508.26,695.092 1509.27,700.61 1510.28,699.172 1511.28,699.713 1512.29,699.251 1513.3,699.357 1514.3,699.436 1515.31,698.471 1516.32,697.251 1517.32,695.106 1518.33,695.226 1519.34,693.995 1520.34,694.035 1521.35,694.223 1522.35,694.116 1523.36,694.985 1524.37,693.874 1525.37,694.223 1526.38,693.995 1527.39,692.37 1528.39,692.37 1529.4,684.685 1530.41,685.069 1531.41,685.069 1532.42,685.467 1533.43,686.234 1534.43,673.341 1535.44,670.683 1536.45,670.712 1537.45,670.298 1538.46,670.726 1539.47,666.956 1540.47,668.538 1541.48,668.021 1542.49,667.69 1543.49,667.359 1544.5,666.956 1545.51,667.446 1546.51,664.732 1547.52,664.021 1548.53,657.433 1549.53,658.141 1550.54,657.876 1551.55,658.333 1552.55,658.421 1553.56,658.392 1554.57,650.084 1555.57,645.117 1556.58,645.422 1557.59,645.27 1558.59,645.574 1559.6,638.307 1560.61,638.199 1561.61,635.694 1562.62,635.444 1563.62,634.396 1564.63,634.318 1565.64,634.459 1566.64,634.678 1567.65,633.691 1568.66,623.862 1569.66,609.246 1570.67,608.228 1571.68,608.546 1572.68,609.363 1573.69,598.8 1574.7,598.715 1575.7,598.339 1576.71,598.698 1577.72,600.982 1578.72,600.063 1579.73,593.832 1580.74,593.295 1581.74,592.949 1582.75,593.036 1583.76,593.347 1584.76,593.867 1585.77,593.503 1586.78,594.558 1587.78,592.654 1588.79,587.787 1589.8,586.522 1590.8,586.241 1591.81,582.953 1592.82,584.281 1593.82,587.735 1594.83,587.647 1595.84,587.278 1596.84,587.823 1597.85,587.524 1598.86,587.542 1599.86,587.173 1600.87,582.384 1601.87,581.744 1602.88,578.815 1603.89,577.918 1604.89,577.739 1605.9,577.325 1606.91,577.631 1607.91,579.388 1608.92,579.71 1609.93,580.193 1610.93,580.139 1611.94,580.657 1612.95,578.618 1613.95,576.209 1614.96,575.649 1615.97,576.209 1616.97,576.623 1617.98,576.371 1618.99,578.654 1619.99,578.726 1621,576.263 1622.01,576.821 1623.01,573.84 1624.02,574.275 1625.03,572.205 1626.03,570.948 1627.04,571.276 1628.05,570.308 1629.05,557.959 1630.06,557.206 1631.07,552.451 1632.07,552.813 1633.08,554.048 1634.09,553.839 1635.09,553.63 1636.1,553.022 1637.11,551.937 1638.11,551.784 1639.12,549.853 1640.13,548.894 1641.13,550.944 1642.14,550.791 1643.14,549.987 1644.15,549.297 1645.16,549.891 1646.16,551.421 1647.17,550.906 1648.18,542.434 1649.18,542.18 1650.19,542.336 1651.2,542.551 1652.2,543.018 1653.21,542.59 1654.22,542.551 1655.22,536.905 1656.23,536.964 1657.24,527.577 1658.24,528.502 1659.25,529.325 1660.26,528.984 1661.26,529.305 1662.27,529.626 1663.28,528.603 1664.28,526.629 1665.29,526.568 1666.3,527.153 1667.3,525.376 1668.31,525.092 1669.32,525.7 1670.32,525.578 1671.33,526.367 1672.34,528.381 1673.34,529.165 1674.35,528.301 1675.36,529.526 1676.36,529.747 1677.37,530.588 1678.38,528.884 1679.38,528.019 1680.39,527.798 1681.4,527.073 1682.4,524.302 1683.41,523.571 1684.41,521.044 1685.42,521.392 1686.43,521.82 1687.43,513.13 1688.44,511.818 1689.45,509.812 1690.45,510.795 1691.46,509.917 1692.47,510.544 1693.47,511.276 1694.48,510.126 1695.49,504.017 1696.49,504.801 1697.5,501.124 1698.51,500.248 1699.51,500.612 1700.52,502.892 1701.53,504.229 1702.53,501.359 1703.54,503.232 1704.55,503.699 1705.55,506.576 1706.56,505.858 1707.57,505.71 1708.57,505.71 1709.58,503.38 1710.59,503.741 1711.59,503.529 1712.6,501.273 1713.61,494.959 1714.61,494.786 1715.62,494.743 1716.63,497.289 1717.63,497.848 1718.64,496.987 1719.65,497.052 1720.65,497.955 1721.66,484.553 1722.66,489.063 1723.67,488.164 1724.68,484.487 1725.68,480.356 1726.69,480.401 1727.7,480.579 1728.7,472.418 1729.71,467.816 1730.72,462.405 1731.72,460.782 1732.73,459.642 1733.74,459.712 1734.74,459.502 1735.75,459.502 1736.76,458.523 1737.76,458.15 1738.77,452.441 1739.78,451.281 1740.78,451.068 1741.79,448.978 1742.8,448.431 1743.8,447.31 1744.81,445.755 1745.82,446.234 1746.82,445.803 1747.83,446.21 1748.84,446.617 1749.84,445.611 1750.85,445.132 1751.86,445.252 1752.86,441.593 1753.87,440.238 1754.88,440.166 1755.88,441.376 1756.89,446.951 1757.9,449.026 1758.9,448.669 1759.91,447.787 1760.92,448.192 1761.92,447.142 1762.93,446.473 1763.93,446.521 1764.94,446.951 1765.95,445.587 1766.95,445.084 1767.96,444.964 1768.97,444.147 1769.97,438.637 1770.98,440.36 1771.99,439.705 1772.99,440.384 1774,441.134 1775.01,441.569 1776.01,441.158 1777.02,442.124 1778.03,442.149 1779.03,438.904 1780.04,434.121 1781.05,434.268 1782.05,437.299 1783.06,438.199 1784.07,438.637 1785.07,439.972 1786.08,438.029 1787.09,437.81 1788.09,437.859 1789.1,437.713 1790.11,438.977 1791.11,438.613 1792.12,437.737 1793.13,438.053 1794.13,437.055 1795.14,436.567 1796.15,437.469 1797.15,438.053 1798.16,438.297 1799.17,438.637 1800.17,438.759 1801.18,437.615 1802.19,436.25 1803.19,429.167 1804.2,419.261 1805.2,418.705 1806.21,419.109 1807.22,419.387 1808.22,415.509 1809.23,413.979 1810.24,413.826 1811.24,413.059 1812.25,412.343 1813.26,413.443 1814.26,413.366 1815.27,412.112 1816.28,412.676 1817.28,412.906 1818.29,412.804 1819.3,412.573 1820.3,413.571 1821.31,413.392 1822.32,413.213 1823.32,413.417 1824.33,414.515 1825.34,416.144 1826.34,416.119 1827.35,416.576 1828.36,417.135 1829.36,415.254 1830.37,415.305 1831.38,415.305 1832.38,416.779 1833.39,415.865 1834.4,415.865 1835.4,412.932 1836.41,414.515 1837.42,414.872 1838.42,415.941 1839.43,415.763 1840.44,415.228 1841.44,416.652 1842.45,417.54 1843.45,418.553 1844.46,419.766 1845.47,419.842 1846.47,420.9 1847.48,419.16 1848.49,418.705 1849.49,418.983 1850.5,419.842 1851.51,421.077 1852.51,408.9 1853.52,409.544 1854.53,410.444 1855.53,411.677 1856.54,411.856 1857.55,412.906 1858.55,413.085 1859.56,413.647 1860.57,413.647 1861.57,412.88 1862.58,412.369 1863.59,411.907 1864.59,410.316 1865.6,411.138 1866.61,408.126 1867.61,406.497 1868.62,399.586 1869.63,399.953 1870.63,397.666 1871.64,395.924 1872.65,395.606 1873.65,386.344 1874.66,385.886 1875.67,372.978 1876.67,370.208 1877.68,369.986 1878.69,369.263 1879.69,368.651 1880.7,368.484 1881.71,368.874 1882.71,368.149 1883.72,368.484 1884.72,368.316 1885.73,362.713 1886.74,362.403 1887.74,361.811 1888.75,362.008 1889.76,361.388 1890.76,355.225 1891.77,353.423 1892.78,353.48 1893.78,353.308 1894.79,353.194 1895.8,353.767 1896.8,354.482 1897.81,352.276 1898.82,355.853 1899.82,354.568 1900.83,354.568 1901.84,356.139 1902.84,355.882 1903.85,354.854 1904.86,354.74 1905.86,355.254 1906.87,356.424 1907.88,355.996 1908.88,354.74 1909.89,355.482 1910.9,352.993 1911.9,344.524 1912.91,336.601 1913.92,336.453 1914.92,336.039 1915.93,336.276 1916.94,335.506 1917.94,334.172 1918.95,334.854 1919.96,333.904 1920.96,334.943 1921.97,334.201 1922.98,335.447 1923.98,336.216 1924.99,338.754 1925.99,338.843 1927,339.843 1928.01,327.691 1929.01,322.772 1930.02,323.681 1931.03,314.435 1932.03,300.983 1933.04,300.604 1934.05,302.462 1935.05,301.739 1936.06,298.931 1937.07,299.563 1938.07,300.951 1939.08,300.573 1940.09,298.899 1941.09,296.68 1942.1,296.458 1943.11,295.632 1944.11,296.871 1945.12,298.298 1946.13,298.013 1947.13,295.791 1948.14,296.68 1949.15,301.896 1950.15,300.068 1951.16,300.415 1952.17,300.857 1953.17,301.518 1954.18,302.839 1955.19,305.002 1956.19,304.908 1957.2,304.908 1958.21,304.157 1959.21,302.87 1960.22,302.776 1961.23,301.329 1962.23,303.028 1963.24,302.745 1964.24,303.09 1965.25,302.713 1966.26,303.624 1967.26,303.31 1968.27,303.028 1969.28,303.184 1970.28,302.242 1971.29,301.896 1972.3,301.833 1973.3,300.762 1974.31,299.025 1975.32,299.531 1976.32,300.794 1977.33,302.902 1978.34,299.215 1979.34,294.102 1980.35,287.945 1981.36,287.525 1982.36,287.493 1983.37,287.235 1984.38,286.298 1985.38,287.073 1986.39,287.106 1987.4,289.265 1988.4,288.074 1989.41,287.59 1990.42,285.521 1991.42,286.298 1992.43,286.136 1993.44,281.459 1994.44,279.433 1995.45,279.204 1996.46,279.302 1997.46,276.48 1998.47,276.283 1999.48,274.965 2000.48,275.525 2001.49,275.888 2002.5,273.512 2003.5,269.83 2004.51,268.23 2005.51,267.963 2006.52,266.292 2007.53,267.429 2008.53,267.563 2009.54,256.263 2010.55,257.42 2011.55,257.725 2012.56,257.827 2013.57,251.784 2014.57,252.264 2015.58,253.463 2016.59,254.079 2017.59,253.805 2018.6,251.097 2019.61,251.166 2020.61,252.161 2021.62,252.23 2022.63,252.71 2023.63,252.778 2024.64,249.549 2025.65,249.549 2026.65,249.515 2027.66,247.064 2028.67,247.133 2029.67,247.202 2030.68,247.755 2031.69,247.548 2032.69,248.204 2033.7,249.342 2034.71,250.719 2035.71,242.375 2036.72,246.302 2037.73,246.371 2038.73,246.371 2039.74,245.227 2040.75,244.602 2041.75,244.498 2042.76,244.984 2043.77,244.741 2044.77,245.678 2045.78,245.955 2046.78,244.568 2047.79,245.713 2048.8,244.88 2049.8,246.094 2050.81,241.363 2051.82,240.174 2052.82,238.176 2053.83,235.783 2054.84,236.84 2055.84,236.1 2056.85,236.629 2057.86,236.945 2058.86,235.501 2059.87,235.466 2060.88,236.1 2061.88,235.713 2062.89,233.841 2063.9,234.371 2064.9,233.841 2065.91,235.219 2066.92,236.382 2067.92,240.139 2068.93,239.228 2069.94,239.228 2070.94,240.174 2071.95,234.159 2072.96,232.885 2073.96,225.542 2074.97,224.537 2075.98,224.142 2076.98,224.681 2077.99,224.573 2079,213.297 2080,214.467 2081.01,213.334 2082.02,212.858 2083.02,213.224 2084.03,206.193 2085.03,206.415 2086.04,206.156 2087.05,205.229 2088.05,204.97 2089.06,205.044 2090.07,204.562 2091.07,204.153 2092.08,204.599 2093.09,203.967 2094.09,197.655 2095.1,197.88 2096.11,195.248 2097.11,196.904 2098.12,194.267 2099.13,195.963 2100.13,191.733 2101.14,192.301 2102.15,192.149 2103.15,193.285 2104.16,192.717 2105.17,191.733 2106.17,185.179 2107.18,181.143 2108.19,176.539 2109.19,176.5 2110.2,183.721 2111.21,183.721 2112.21,184.335 2113.22,184.949 2114.23,184.757 2115.23,185.676 2116.24,186.135 2117.25,171.586 2118.25,171.939 2119.26,172.095 2120.27,175.528 2121.27,175.061 2122.28,174.399 2123.29,174.516 2124.29,174.671 2125.3,174.983 2126.3,175.022 2127.31,171.939 2128.32,170.254 2129.32,170.372 2130.33,169.155 2131.34,163.47 2132.34,159.133 2133.35,158.094 2134.36,159.931 2135.36,161.206 2136.37,162.001 2137.38,153.398 2138.38,155.048 2139.39,153.277 2140.4,157.214 2141.4,157.654 2142.41,157.534 2143.42,151.664 2144.42,150.046 2145.43,151.381 2146.44,149.438 2147.44,151.057 2148.45,151.26 2149.46,152.108 2150.46,153.559 2151.47,165.094 2152.48,165.687 2153.48,164.5 2154.49,164.342 2155.5,163.787 2156.5,161.365 2157.51,168.762 2158.52,170.489 2159.52,168.368 2160.53,169.469 2161.54,168.093 2162.54,171.821 2163.55,171.586 2164.56,173.346 2165.56,171.508 2166.57,171.077 2167.57,168.526 2168.58,168.211 2169.59,169.115 2170.59,170.372 2171.6,161.922 2172.61,159.971 2173.61,159.971 2174.62,159.852 2175.63,159.891 2176.63,156.332 2177.64,158.654 2178.65,158.014 2179.65,158.774 2180.66,158.734 2181.67,161.723 2182.67,160.768 2183.68,161.325 2184.69,160.688 2185.69,155.49 2186.7,156.132 2187.71,155.811 2188.71,158.934 2189.72,155.971 2190.73,154.203 2191.73,159.852 2192.74,145.739 2193.75,143.37 2194.75,135.796 2195.76,134.553 2196.77,136.706 2197.77,134.138 2198.78,132.808 2199.79,132.642 2200.79,127.797 2201.8,127.923 2202.81,128.635 2203.81,131.017 2204.82,126.16 2205.82,124.562 2206.83,123.466 2207.84,122.198 2208.84,120.675 2209.85,121.014 2210.86,121.691 2211.86,118.595 2212.87,117.872 2213.88,118.425 2214.88,118.85 2215.89,119.19 2216.9,119.275 2217.9,119.869 2218.91,118.255 2219.92,118.297 2220.92,117.829 2221.93,116.679 2222.94,112.53 2223.94,118.467 2224.95,116.21 2225.96,115.399 2226.96,115.014 2227.97,114.373 2228.98,114.972 2229.98,115.142 2230.99,115.698 2232,114.715 2233,116.85 2234.01,120.081 2235.02,122.579 2236.02,122.494 2237.03,119.742 2238.04,122.748 2239.04,122.156 2240.05,124.014 2241.06,125.488 2242.06,122.875 2243.07,127.378 2244.08,114.416 2245.08,115.142 2246.09,115.313 2247.09,114.886 2248.1,115.655 2249.11,108.528 2250.11,105.5 2251.12,108.14 2252.13,108.312 2253.13,111.156 2254.14,111.672 2255.15,109.606 2256.15,111.199 2257.16,109.951 2258.17,109.348 2259.17,109.908 2260.18,109.391 2261.19,108.312 2262.19,109.348 2263.2,111.242 2264.21,104.762 2265.21,100.931 2266.22,98.5688 2267.23,100.188 2268.23,98.8317 2269.24,99.7072 2270.25,99.6634 2271.25,98.3497 2272.26,93.952 2273.27,91.9635 2274.27,90.6346 2275.28,91.6537 2276.29,90.8562 2277.29,87.0332 2278.3,88.1913 2279.31,86.7657 2280.31,86.1857 2281.32,86.1857 2282.33,89.8359 2283.33,88.1023 2284.34,91.3437 2285.35,93.2015 2286.35,92.2732 2287.36,92.5386 2288.36,91.6094 2289.37,92.4059 2290.38,93.2015 2291.38,89.4363 2292.39,87.6571 \"/>\n",
       "</svg>\n"
      ],
      "text/html": [
       "<?xml version=\"1.0\" encoding=\"utf-8\"?>\n",
       "<svg xmlns=\"http://www.w3.org/2000/svg\" xmlns:xlink=\"http://www.w3.org/1999/xlink\" width=\"600\" height=\"400\" viewBox=\"0 0 2400 1600\">\n",
       "<defs>\n",
       "  <clipPath id=\"clip760\">\n",
       "    <rect x=\"0\" y=\"0\" width=\"2400\" height=\"1600\"/>\n",
       "  </clipPath>\n",
       "</defs>\n",
       "<path clip-path=\"url(#clip760)\" d=\"M0 1600 L2400 1600 L2400 0 L0 0  Z\" fill=\"#ffffff\" fill-rule=\"evenodd\" fill-opacity=\"1\"/>\n",
       "<defs>\n",
       "  <clipPath id=\"clip761\">\n",
       "    <rect x=\"480\" y=\"0\" width=\"1681\" height=\"1600\"/>\n",
       "  </clipPath>\n",
       "</defs>\n",
       "<path clip-path=\"url(#clip760)\" d=\"M219.866 1423.18 L2352.76 1423.18 L2352.76 47.2441 L219.866 47.2441  Z\" fill=\"#ffffff\" fill-rule=\"evenodd\" fill-opacity=\"1\"/>\n",
       "<defs>\n",
       "  <clipPath id=\"clip762\">\n",
       "    <rect x=\"219\" y=\"47\" width=\"2134\" height=\"1377\"/>\n",
       "  </clipPath>\n",
       "</defs>\n",
       "<polyline clip-path=\"url(#clip762)\" style=\"stroke:#000000; stroke-linecap:round; stroke-linejoin:round; stroke-width:2; stroke-opacity:0.1; fill:none\" points=\"279.224,1423.18 279.224,47.2441 \"/>\n",
       "<polyline clip-path=\"url(#clip762)\" style=\"stroke:#000000; stroke-linecap:round; stroke-linejoin:round; stroke-width:2; stroke-opacity:0.1; fill:none\" points=\"782.516,1423.18 782.516,47.2441 \"/>\n",
       "<polyline clip-path=\"url(#clip762)\" style=\"stroke:#000000; stroke-linecap:round; stroke-linejoin:round; stroke-width:2; stroke-opacity:0.1; fill:none\" points=\"1285.81,1423.18 1285.81,47.2441 \"/>\n",
       "<polyline clip-path=\"url(#clip762)\" style=\"stroke:#000000; stroke-linecap:round; stroke-linejoin:round; stroke-width:2; stroke-opacity:0.1; fill:none\" points=\"1789.1,1423.18 1789.1,47.2441 \"/>\n",
       "<polyline clip-path=\"url(#clip762)\" style=\"stroke:#000000; stroke-linecap:round; stroke-linejoin:round; stroke-width:2; stroke-opacity:0.1; fill:none\" points=\"2292.39,1423.18 2292.39,47.2441 \"/>\n",
       "<polyline clip-path=\"url(#clip760)\" style=\"stroke:#000000; stroke-linecap:round; stroke-linejoin:round; stroke-width:4; stroke-opacity:1; fill:none\" points=\"219.866,1423.18 2352.76,1423.18 \"/>\n",
       "<polyline clip-path=\"url(#clip760)\" style=\"stroke:#000000; stroke-linecap:round; stroke-linejoin:round; stroke-width:4; stroke-opacity:1; fill:none\" points=\"279.224,1423.18 279.224,1404.28 \"/>\n",
       "<polyline clip-path=\"url(#clip760)\" style=\"stroke:#000000; stroke-linecap:round; stroke-linejoin:round; stroke-width:4; stroke-opacity:1; fill:none\" points=\"782.516,1423.18 782.516,1404.28 \"/>\n",
       "<polyline clip-path=\"url(#clip760)\" style=\"stroke:#000000; stroke-linecap:round; stroke-linejoin:round; stroke-width:4; stroke-opacity:1; fill:none\" points=\"1285.81,1423.18 1285.81,1404.28 \"/>\n",
       "<polyline clip-path=\"url(#clip760)\" style=\"stroke:#000000; stroke-linecap:round; stroke-linejoin:round; stroke-width:4; stroke-opacity:1; fill:none\" points=\"1789.1,1423.18 1789.1,1404.28 \"/>\n",
       "<polyline clip-path=\"url(#clip760)\" style=\"stroke:#000000; stroke-linecap:round; stroke-linejoin:round; stroke-width:4; stroke-opacity:1; fill:none\" points=\"2292.39,1423.18 2292.39,1404.28 \"/>\n",
       "<path clip-path=\"url(#clip760)\" d=\"M279.224 1454.1 Q275.613 1454.1 273.785 1457.66 Q271.979 1461.2 271.979 1468.33 Q271.979 1475.44 273.785 1479.01 Q275.613 1482.55 279.224 1482.55 Q282.859 1482.55 284.664 1479.01 Q286.493 1475.44 286.493 1468.33 Q286.493 1461.2 284.664 1457.66 Q282.859 1454.1 279.224 1454.1 M279.224 1450.39 Q285.035 1450.39 288.09 1455 Q291.169 1459.58 291.169 1468.33 Q291.169 1477.06 288.09 1481.67 Q285.035 1486.25 279.224 1486.25 Q273.414 1486.25 270.336 1481.67 Q267.28 1477.06 267.28 1468.33 Q267.28 1459.58 270.336 1455 Q273.414 1450.39 279.224 1450.39 Z\" fill=\"#000000\" fill-rule=\"nonzero\" fill-opacity=\"1\" /><path clip-path=\"url(#clip760)\" d=\"M742.134 1451.02 L760.491 1451.02 L760.491 1454.96 L746.417 1454.96 L746.417 1463.43 Q747.435 1463.08 748.454 1462.92 Q749.472 1462.73 750.491 1462.73 Q756.278 1462.73 759.657 1465.9 Q763.037 1469.08 763.037 1474.49 Q763.037 1480.07 759.565 1483.17 Q756.093 1486.25 749.773 1486.25 Q747.597 1486.25 745.329 1485.88 Q743.083 1485.51 740.676 1484.77 L740.676 1480.07 Q742.759 1481.2 744.982 1481.76 Q747.204 1482.32 749.681 1482.32 Q753.685 1482.32 756.023 1480.21 Q758.361 1478.1 758.361 1474.49 Q758.361 1470.88 756.023 1468.77 Q753.685 1466.67 749.681 1466.67 Q747.806 1466.67 745.931 1467.08 Q744.079 1467.5 742.134 1468.38 L742.134 1451.02 Z\" fill=\"#000000\" fill-rule=\"nonzero\" fill-opacity=\"1\" /><path clip-path=\"url(#clip760)\" d=\"M782.25 1454.1 Q778.639 1454.1 776.81 1457.66 Q775.005 1461.2 775.005 1468.33 Q775.005 1475.44 776.81 1479.01 Q778.639 1482.55 782.25 1482.55 Q785.884 1482.55 787.69 1479.01 Q789.518 1475.44 789.518 1468.33 Q789.518 1461.2 787.69 1457.66 Q785.884 1454.1 782.25 1454.1 M782.25 1450.39 Q788.06 1450.39 791.116 1455 Q794.194 1459.58 794.194 1468.33 Q794.194 1477.06 791.116 1481.67 Q788.06 1486.25 782.25 1486.25 Q776.44 1486.25 773.361 1481.67 Q770.306 1477.06 770.306 1468.33 Q770.306 1459.58 773.361 1455 Q776.44 1450.39 782.25 1450.39 Z\" fill=\"#000000\" fill-rule=\"nonzero\" fill-opacity=\"1\" /><path clip-path=\"url(#clip760)\" d=\"M812.412 1454.1 Q808.801 1454.1 806.972 1457.66 Q805.166 1461.2 805.166 1468.33 Q805.166 1475.44 806.972 1479.01 Q808.801 1482.55 812.412 1482.55 Q816.046 1482.55 817.852 1479.01 Q819.68 1475.44 819.68 1468.33 Q819.68 1461.2 817.852 1457.66 Q816.046 1454.1 812.412 1454.1 M812.412 1450.39 Q818.222 1450.39 821.278 1455 Q824.356 1459.58 824.356 1468.33 Q824.356 1477.06 821.278 1481.67 Q818.222 1486.25 812.412 1486.25 Q806.602 1486.25 803.523 1481.67 Q800.467 1477.06 800.467 1468.33 Q800.467 1459.58 803.523 1455 Q806.602 1450.39 812.412 1450.39 Z\" fill=\"#000000\" fill-rule=\"nonzero\" fill-opacity=\"1\" /><path clip-path=\"url(#clip760)\" d=\"M1230.33 1481.64 L1237.97 1481.64 L1237.97 1455.28 L1229.66 1456.95 L1229.66 1452.69 L1237.93 1451.02 L1242.6 1451.02 L1242.6 1481.64 L1250.24 1481.64 L1250.24 1485.58 L1230.33 1485.58 L1230.33 1481.64 Z\" fill=\"#000000\" fill-rule=\"nonzero\" fill-opacity=\"1\" /><path clip-path=\"url(#clip760)\" d=\"M1269.69 1454.1 Q1266.07 1454.1 1264.25 1457.66 Q1262.44 1461.2 1262.44 1468.33 Q1262.44 1475.44 1264.25 1479.01 Q1266.07 1482.55 1269.69 1482.55 Q1273.32 1482.55 1275.12 1479.01 Q1276.95 1475.44 1276.95 1468.33 Q1276.95 1461.2 1275.12 1457.66 Q1273.32 1454.1 1269.69 1454.1 M1269.69 1450.39 Q1275.5 1450.39 1278.55 1455 Q1281.63 1459.58 1281.63 1468.33 Q1281.63 1477.06 1278.55 1481.67 Q1275.5 1486.25 1269.69 1486.25 Q1263.88 1486.25 1260.8 1481.67 Q1257.74 1477.06 1257.74 1468.33 Q1257.74 1459.58 1260.8 1455 Q1263.88 1450.39 1269.69 1450.39 Z\" fill=\"#000000\" fill-rule=\"nonzero\" fill-opacity=\"1\" /><path clip-path=\"url(#clip760)\" d=\"M1299.85 1454.1 Q1296.24 1454.1 1294.41 1457.66 Q1292.6 1461.2 1292.6 1468.33 Q1292.6 1475.44 1294.41 1479.01 Q1296.24 1482.55 1299.85 1482.55 Q1303.48 1482.55 1305.29 1479.01 Q1307.12 1475.44 1307.12 1468.33 Q1307.12 1461.2 1305.29 1457.66 Q1303.48 1454.1 1299.85 1454.1 M1299.85 1450.39 Q1305.66 1450.39 1308.71 1455 Q1311.79 1459.58 1311.79 1468.33 Q1311.79 1477.06 1308.71 1481.67 Q1305.66 1486.25 1299.85 1486.25 Q1294.04 1486.25 1290.96 1481.67 Q1287.9 1477.06 1287.9 1468.33 Q1287.9 1459.58 1290.96 1455 Q1294.04 1450.39 1299.85 1450.39 Z\" fill=\"#000000\" fill-rule=\"nonzero\" fill-opacity=\"1\" /><path clip-path=\"url(#clip760)\" d=\"M1330.01 1454.1 Q1326.4 1454.1 1324.57 1457.66 Q1322.76 1461.2 1322.76 1468.33 Q1322.76 1475.44 1324.57 1479.01 Q1326.4 1482.55 1330.01 1482.55 Q1333.64 1482.55 1335.45 1479.01 Q1337.28 1475.44 1337.28 1468.33 Q1337.28 1461.2 1335.45 1457.66 Q1333.64 1454.1 1330.01 1454.1 M1330.01 1450.39 Q1335.82 1450.39 1338.87 1455 Q1341.95 1459.58 1341.95 1468.33 Q1341.95 1477.06 1338.87 1481.67 Q1335.82 1486.25 1330.01 1486.25 Q1324.2 1486.25 1321.12 1481.67 Q1318.06 1477.06 1318.06 1468.33 Q1318.06 1459.58 1321.12 1455 Q1324.2 1450.39 1330.01 1450.39 Z\" fill=\"#000000\" fill-rule=\"nonzero\" fill-opacity=\"1\" /><path clip-path=\"url(#clip760)\" d=\"M1733.63 1481.64 L1741.26 1481.64 L1741.26 1455.28 L1732.95 1456.95 L1732.95 1452.69 L1741.22 1451.02 L1745.89 1451.02 L1745.89 1481.64 L1753.53 1481.64 L1753.53 1485.58 L1733.63 1485.58 L1733.63 1481.64 Z\" fill=\"#000000\" fill-rule=\"nonzero\" fill-opacity=\"1\" /><path clip-path=\"url(#clip760)\" d=\"M1763.02 1451.02 L1781.38 1451.02 L1781.38 1454.96 L1767.31 1454.96 L1767.31 1463.43 Q1768.32 1463.08 1769.34 1462.92 Q1770.36 1462.73 1771.38 1462.73 Q1777.17 1462.73 1780.55 1465.9 Q1783.93 1469.08 1783.93 1474.49 Q1783.93 1480.07 1780.45 1483.17 Q1776.98 1486.25 1770.66 1486.25 Q1768.49 1486.25 1766.22 1485.88 Q1763.97 1485.51 1761.56 1484.77 L1761.56 1480.07 Q1763.65 1481.2 1765.87 1481.76 Q1768.09 1482.32 1770.57 1482.32 Q1774.57 1482.32 1776.91 1480.21 Q1779.25 1478.1 1779.25 1474.49 Q1779.25 1470.88 1776.91 1468.77 Q1774.57 1466.67 1770.57 1466.67 Q1768.69 1466.67 1766.82 1467.08 Q1764.97 1467.5 1763.02 1468.38 L1763.02 1451.02 Z\" fill=\"#000000\" fill-rule=\"nonzero\" fill-opacity=\"1\" /><path clip-path=\"url(#clip760)\" d=\"M1803.14 1454.1 Q1799.53 1454.1 1797.7 1457.66 Q1795.89 1461.2 1795.89 1468.33 Q1795.89 1475.44 1797.7 1479.01 Q1799.53 1482.55 1803.14 1482.55 Q1806.77 1482.55 1808.58 1479.01 Q1810.41 1475.44 1810.41 1468.33 Q1810.41 1461.2 1808.58 1457.66 Q1806.77 1454.1 1803.14 1454.1 M1803.14 1450.39 Q1808.95 1450.39 1812 1455 Q1815.08 1459.58 1815.08 1468.33 Q1815.08 1477.06 1812 1481.67 Q1808.95 1486.25 1803.14 1486.25 Q1797.33 1486.25 1794.25 1481.67 Q1791.19 1477.06 1791.19 1468.33 Q1791.19 1459.58 1794.25 1455 Q1797.33 1450.39 1803.14 1450.39 Z\" fill=\"#000000\" fill-rule=\"nonzero\" fill-opacity=\"1\" /><path clip-path=\"url(#clip760)\" d=\"M1833.3 1454.1 Q1829.69 1454.1 1827.86 1457.66 Q1826.06 1461.2 1826.06 1468.33 Q1826.06 1475.44 1827.86 1479.01 Q1829.69 1482.55 1833.3 1482.55 Q1836.93 1482.55 1838.74 1479.01 Q1840.57 1475.44 1840.57 1468.33 Q1840.57 1461.2 1838.74 1457.66 Q1836.93 1454.1 1833.3 1454.1 M1833.3 1450.39 Q1839.11 1450.39 1842.17 1455 Q1845.24 1459.58 1845.24 1468.33 Q1845.24 1477.06 1842.17 1481.67 Q1839.11 1486.25 1833.3 1486.25 Q1827.49 1486.25 1824.41 1481.67 Q1821.36 1477.06 1821.36 1468.33 Q1821.36 1459.58 1824.41 1455 Q1827.49 1450.39 1833.3 1450.39 Z\" fill=\"#000000\" fill-rule=\"nonzero\" fill-opacity=\"1\" /><path clip-path=\"url(#clip760)\" d=\"M2241 1481.64 L2257.32 1481.64 L2257.32 1485.58 L2235.38 1485.58 L2235.38 1481.64 Q2238.04 1478.89 2242.62 1474.26 Q2247.23 1469.61 2248.41 1468.27 Q2250.66 1465.74 2251.53 1464.01 Q2252.44 1462.25 2252.44 1460.56 Q2252.44 1457.8 2250.49 1456.07 Q2248.57 1454.33 2245.47 1454.33 Q2243.27 1454.33 2240.82 1455.09 Q2238.39 1455.86 2235.61 1457.41 L2235.61 1452.69 Q2238.43 1451.55 2240.89 1450.97 Q2243.34 1450.39 2245.38 1450.39 Q2250.75 1450.39 2253.94 1453.08 Q2257.14 1455.77 2257.14 1460.26 Q2257.14 1462.39 2256.33 1464.31 Q2255.54 1466.2 2253.43 1468.8 Q2252.85 1469.47 2249.75 1472.69 Q2246.65 1475.88 2241 1481.64 Z\" fill=\"#000000\" fill-rule=\"nonzero\" fill-opacity=\"1\" /><path clip-path=\"url(#clip760)\" d=\"M2277.14 1454.1 Q2273.53 1454.1 2271.7 1457.66 Q2269.89 1461.2 2269.89 1468.33 Q2269.89 1475.44 2271.7 1479.01 Q2273.53 1482.55 2277.14 1482.55 Q2280.77 1482.55 2282.58 1479.01 Q2284.41 1475.44 2284.41 1468.33 Q2284.41 1461.2 2282.58 1457.66 Q2280.77 1454.1 2277.14 1454.1 M2277.14 1450.39 Q2282.95 1450.39 2286 1455 Q2289.08 1459.58 2289.08 1468.33 Q2289.08 1477.06 2286 1481.67 Q2282.95 1486.25 2277.14 1486.25 Q2271.33 1486.25 2268.25 1481.67 Q2265.19 1477.06 2265.19 1468.33 Q2265.19 1459.58 2268.25 1455 Q2271.33 1450.39 2277.14 1450.39 Z\" fill=\"#000000\" fill-rule=\"nonzero\" fill-opacity=\"1\" /><path clip-path=\"url(#clip760)\" d=\"M2307.3 1454.1 Q2303.69 1454.1 2301.86 1457.66 Q2300.05 1461.2 2300.05 1468.33 Q2300.05 1475.44 2301.86 1479.01 Q2303.69 1482.55 2307.3 1482.55 Q2310.93 1482.55 2312.74 1479.01 Q2314.57 1475.44 2314.57 1468.33 Q2314.57 1461.2 2312.74 1457.66 Q2310.93 1454.1 2307.3 1454.1 M2307.3 1450.39 Q2313.11 1450.39 2316.16 1455 Q2319.24 1459.58 2319.24 1468.33 Q2319.24 1477.06 2316.16 1481.67 Q2313.11 1486.25 2307.3 1486.25 Q2301.49 1486.25 2298.41 1481.67 Q2295.35 1477.06 2295.35 1468.33 Q2295.35 1459.58 2298.41 1455 Q2301.49 1450.39 2307.3 1450.39 Z\" fill=\"#000000\" fill-rule=\"nonzero\" fill-opacity=\"1\" /><path clip-path=\"url(#clip760)\" d=\"M2337.46 1454.1 Q2333.85 1454.1 2332.02 1457.66 Q2330.21 1461.2 2330.21 1468.33 Q2330.21 1475.44 2332.02 1479.01 Q2333.85 1482.55 2337.46 1482.55 Q2341.09 1482.55 2342.9 1479.01 Q2344.73 1475.44 2344.73 1468.33 Q2344.73 1461.2 2342.9 1457.66 Q2341.09 1454.1 2337.46 1454.1 M2337.46 1450.39 Q2343.27 1450.39 2346.33 1455 Q2349.4 1459.58 2349.4 1468.33 Q2349.4 1477.06 2346.33 1481.67 Q2343.27 1486.25 2337.46 1486.25 Q2331.65 1486.25 2328.57 1481.67 Q2325.52 1477.06 2325.52 1468.33 Q2325.52 1459.58 2328.57 1455 Q2331.65 1450.39 2337.46 1450.39 Z\" fill=\"#000000\" fill-rule=\"nonzero\" fill-opacity=\"1\" /><path clip-path=\"url(#clip760)\" d=\"M935.577 1520.52 L944.234 1520.52 L965.304 1560.28 L965.304 1520.52 L971.543 1520.52 L971.543 1568.04 L962.885 1568.04 L941.815 1528.29 L941.815 1568.04 L935.577 1568.04 L935.577 1520.52 Z\" fill=\"#000000\" fill-rule=\"nonzero\" fill-opacity=\"1\" /><path clip-path=\"url(#clip760)\" d=\"M997.897 1536.5 Q993.186 1536.5 990.449 1540.19 Q987.712 1543.85 987.712 1550.25 Q987.712 1556.65 990.417 1560.34 Q993.154 1564 997.897 1564 Q1002.58 1564 1005.31 1560.31 Q1008.05 1556.62 1008.05 1550.25 Q1008.05 1543.92 1005.31 1540.23 Q1002.58 1536.5 997.897 1536.5 M997.897 1531.54 Q1005.54 1531.54 1009.9 1536.5 Q1014.26 1541.47 1014.26 1550.25 Q1014.26 1559 1009.9 1564 Q1005.54 1568.97 997.897 1568.97 Q990.226 1568.97 985.866 1564 Q981.537 1559 981.537 1550.25 Q981.537 1541.47 985.866 1536.5 Q990.226 1531.54 997.897 1531.54 Z\" fill=\"#000000\" fill-rule=\"nonzero\" fill-opacity=\"1\" /><path clip-path=\"url(#clip760)\" d=\"M1051.72 1539.24 Q1053.92 1535.29 1056.97 1533.41 Q1060.03 1531.54 1064.16 1531.54 Q1069.73 1531.54 1072.76 1535.45 Q1075.78 1539.33 1075.78 1546.53 L1075.78 1568.04 L1069.89 1568.04 L1069.89 1546.72 Q1069.89 1541.59 1068.08 1539.11 Q1066.26 1536.63 1062.54 1536.63 Q1057.99 1536.63 1055.35 1539.65 Q1052.71 1542.68 1052.71 1547.9 L1052.71 1568.04 L1046.82 1568.04 L1046.82 1546.72 Q1046.82 1541.56 1045 1539.11 Q1043.19 1536.63 1039.4 1536.63 Q1034.91 1536.63 1032.27 1539.68 Q1029.63 1542.71 1029.63 1547.9 L1029.63 1568.04 L1023.74 1568.04 L1023.74 1532.4 L1029.63 1532.4 L1029.63 1537.93 Q1031.64 1534.66 1034.44 1533.1 Q1037.24 1531.54 1041.09 1531.54 Q1044.97 1531.54 1047.68 1533.51 Q1050.41 1535.48 1051.72 1539.24 Z\" fill=\"#000000\" fill-rule=\"nonzero\" fill-opacity=\"1\" /><path clip-path=\"url(#clip760)\" d=\"M1113.05 1550.25 Q1113.05 1543.79 1110.38 1540.13 Q1107.74 1536.44 1103.09 1536.44 Q1098.44 1536.44 1095.77 1540.13 Q1093.13 1543.79 1093.13 1550.25 Q1093.13 1556.71 1095.77 1560.4 Q1098.44 1564.07 1103.09 1564.07 Q1107.74 1564.07 1110.38 1560.4 Q1113.05 1556.71 1113.05 1550.25 M1093.13 1537.81 Q1094.97 1534.62 1097.77 1533.1 Q1100.61 1531.54 1104.52 1531.54 Q1111.02 1531.54 1115.06 1536.69 Q1119.13 1541.85 1119.13 1550.25 Q1119.13 1558.65 1115.06 1563.81 Q1111.02 1568.97 1104.52 1568.97 Q1100.61 1568.97 1097.77 1567.44 Q1094.97 1565.88 1093.13 1562.7 L1093.13 1568.04 L1087.24 1568.04 L1087.24 1518.52 L1093.13 1518.52 L1093.13 1537.81 Z\" fill=\"#000000\" fill-rule=\"nonzero\" fill-opacity=\"1\" /><path clip-path=\"url(#clip760)\" d=\"M1149.5 1537.87 Q1148.51 1537.3 1147.33 1537.04 Q1146.19 1536.76 1144.79 1536.76 Q1139.82 1536.76 1137.15 1540 Q1134.5 1543.22 1134.5 1549.27 L1134.5 1568.04 L1128.62 1568.04 L1128.62 1532.4 L1134.5 1532.4 L1134.5 1537.93 Q1136.35 1534.69 1139.31 1533.13 Q1142.27 1531.54 1146.5 1531.54 Q1147.11 1531.54 1147.84 1531.63 Q1148.57 1531.7 1149.46 1531.85 L1149.5 1537.87 Z\" fill=\"#000000\" fill-rule=\"nonzero\" fill-opacity=\"1\" /><path clip-path=\"url(#clip760)\" d=\"M1184.7 1548.76 L1184.7 1551.62 L1157.77 1551.62 Q1158.15 1557.67 1161.4 1560.85 Q1164.68 1564 1170.5 1564 Q1173.88 1564 1177.03 1563.17 Q1180.21 1562.35 1183.33 1560.69 L1183.33 1566.23 Q1180.18 1567.57 1176.87 1568.27 Q1173.56 1568.97 1170.15 1568.97 Q1161.62 1568.97 1156.63 1564 Q1151.66 1559.04 1151.66 1550.57 Q1151.66 1541.82 1156.37 1536.69 Q1161.11 1531.54 1169.13 1531.54 Q1176.33 1531.54 1180.5 1536.18 Q1184.7 1540.8 1184.7 1548.76 M1178.84 1547.04 Q1178.78 1542.23 1176.14 1539.37 Q1173.53 1536.5 1169.2 1536.5 Q1164.3 1536.5 1161.34 1539.27 Q1158.41 1542.04 1157.96 1547.07 L1178.84 1547.04 Z\" fill=\"#000000\" fill-rule=\"nonzero\" fill-opacity=\"1\" /><path clip-path=\"url(#clip760)\" d=\"M1238.49 1537.81 L1238.49 1518.52 L1244.35 1518.52 L1244.35 1568.04 L1238.49 1568.04 L1238.49 1562.7 Q1236.64 1565.88 1233.81 1567.44 Q1231.01 1568.97 1227.06 1568.97 Q1220.6 1568.97 1216.53 1563.81 Q1212.48 1558.65 1212.48 1550.25 Q1212.48 1541.85 1216.53 1536.69 Q1220.6 1531.54 1227.06 1531.54 Q1231.01 1531.54 1233.81 1533.1 Q1236.64 1534.62 1238.49 1537.81 M1218.53 1550.25 Q1218.53 1556.71 1221.17 1560.4 Q1223.85 1564.07 1228.49 1564.07 Q1233.14 1564.07 1235.82 1560.4 Q1238.49 1556.71 1238.49 1550.25 Q1238.49 1543.79 1235.82 1540.13 Q1233.14 1536.44 1228.49 1536.44 Q1223.85 1536.44 1221.17 1540.13 Q1218.53 1543.79 1218.53 1550.25 Z\" fill=\"#000000\" fill-rule=\"nonzero\" fill-opacity=\"1\" /><path clip-path=\"url(#clip760)\" d=\"M1286.9 1548.76 L1286.9 1551.62 L1259.97 1551.62 Q1260.35 1557.67 1263.6 1560.85 Q1266.88 1564 1272.7 1564 Q1276.08 1564 1279.23 1563.17 Q1282.41 1562.35 1285.53 1560.69 L1285.53 1566.23 Q1282.38 1567.57 1279.07 1568.27 Q1275.76 1568.97 1272.35 1568.97 Q1263.82 1568.97 1258.83 1564 Q1253.86 1559.04 1253.86 1550.57 Q1253.86 1541.82 1258.57 1536.69 Q1263.31 1531.54 1271.34 1531.54 Q1278.53 1531.54 1282.7 1536.18 Q1286.9 1540.8 1286.9 1548.76 M1281.04 1547.04 Q1280.98 1542.23 1278.34 1539.37 Q1275.73 1536.5 1271.4 1536.5 Q1266.5 1536.5 1263.54 1539.27 Q1260.61 1542.04 1260.16 1547.07 L1281.04 1547.04 Z\" fill=\"#000000\" fill-rule=\"nonzero\" fill-opacity=\"1\" /><path clip-path=\"url(#clip760)\" d=\"M1344.99 1539.24 Q1347.18 1535.29 1350.24 1533.41 Q1353.29 1531.54 1357.43 1531.54 Q1363 1531.54 1366.03 1535.45 Q1369.05 1539.33 1369.05 1546.53 L1369.05 1568.04 L1363.16 1568.04 L1363.16 1546.72 Q1363.16 1541.59 1361.35 1539.11 Q1359.53 1536.63 1355.81 1536.63 Q1351.26 1536.63 1348.62 1539.65 Q1345.97 1542.68 1345.97 1547.9 L1345.97 1568.04 L1340.09 1568.04 L1340.09 1546.72 Q1340.09 1541.56 1338.27 1539.11 Q1336.46 1536.63 1332.67 1536.63 Q1328.18 1536.63 1325.54 1539.68 Q1322.9 1542.71 1322.9 1547.9 L1322.9 1568.04 L1317.01 1568.04 L1317.01 1532.4 L1322.9 1532.4 L1322.9 1537.93 Q1324.9 1534.66 1327.7 1533.1 Q1330.51 1531.54 1334.36 1531.54 Q1338.24 1531.54 1340.94 1533.51 Q1343.68 1535.48 1344.99 1539.24 Z\" fill=\"#000000\" fill-rule=\"nonzero\" fill-opacity=\"1\" /><path clip-path=\"url(#clip760)\" d=\"M1380.13 1553.98 L1380.13 1532.4 L1385.98 1532.4 L1385.98 1553.75 Q1385.98 1558.81 1387.96 1561.36 Q1389.93 1563.87 1393.88 1563.87 Q1398.62 1563.87 1401.36 1560.85 Q1404.12 1557.83 1404.12 1552.61 L1404.12 1532.4 L1409.98 1532.4 L1409.98 1568.04 L1404.12 1568.04 L1404.12 1562.57 Q1401.99 1565.82 1399.16 1567.41 Q1396.36 1568.97 1392.63 1568.97 Q1386.49 1568.97 1383.31 1565.15 Q1380.13 1561.33 1380.13 1553.98 M1394.86 1531.54 L1394.86 1531.54 Z\" fill=\"#000000\" fill-rule=\"nonzero\" fill-opacity=\"1\" /><path clip-path=\"url(#clip760)\" d=\"M1427.84 1522.27 L1427.84 1532.4 L1439.9 1532.4 L1439.9 1536.95 L1427.84 1536.95 L1427.84 1556.3 Q1427.84 1560.66 1429.01 1561.9 Q1430.22 1563.14 1433.88 1563.14 L1439.9 1563.14 L1439.9 1568.04 L1433.88 1568.04 Q1427.1 1568.04 1424.53 1565.53 Q1421.95 1562.98 1421.95 1556.3 L1421.95 1536.95 L1417.65 1536.95 L1417.65 1532.4 L1421.95 1532.4 L1421.95 1522.27 L1427.84 1522.27 Z\" fill=\"#000000\" fill-rule=\"nonzero\" fill-opacity=\"1\" /><path clip-path=\"url(#clip760)\" d=\"M1463.8 1550.12 Q1456.71 1550.12 1453.97 1551.75 Q1451.23 1553.37 1451.23 1557.29 Q1451.23 1560.4 1453.27 1562.25 Q1455.34 1564.07 1458.87 1564.07 Q1463.74 1564.07 1466.67 1560.63 Q1469.63 1557.16 1469.63 1551.43 L1469.63 1550.12 L1463.8 1550.12 M1475.48 1547.71 L1475.48 1568.04 L1469.63 1568.04 L1469.63 1562.63 Q1467.62 1565.88 1464.63 1567.44 Q1461.64 1568.97 1457.31 1568.97 Q1451.84 1568.97 1448.59 1565.91 Q1445.37 1562.82 1445.37 1557.67 Q1445.37 1551.65 1449.38 1548.6 Q1453.43 1545.54 1461.42 1545.54 L1469.63 1545.54 L1469.63 1544.97 Q1469.63 1540.93 1466.95 1538.73 Q1464.31 1536.5 1459.51 1536.5 Q1456.45 1536.5 1453.55 1537.23 Q1450.66 1537.97 1447.98 1539.43 L1447.98 1534.02 Q1451.2 1532.78 1454.22 1532.17 Q1457.25 1531.54 1460.11 1531.54 Q1467.85 1531.54 1471.66 1535.55 Q1475.48 1539.56 1475.48 1547.71 Z\" fill=\"#000000\" fill-rule=\"nonzero\" fill-opacity=\"1\" /><path clip-path=\"url(#clip760)\" d=\"M1493.34 1522.27 L1493.34 1532.4 L1505.4 1532.4 L1505.4 1536.95 L1493.34 1536.95 L1493.34 1556.3 Q1493.34 1560.66 1494.52 1561.9 Q1495.73 1563.14 1499.39 1563.14 L1505.4 1563.14 L1505.4 1568.04 L1499.39 1568.04 Q1492.61 1568.04 1490.03 1565.53 Q1487.45 1562.98 1487.45 1556.3 L1487.45 1536.95 L1483.15 1536.95 L1483.15 1532.4 L1487.45 1532.4 L1487.45 1522.27 L1493.34 1522.27 Z\" fill=\"#000000\" fill-rule=\"nonzero\" fill-opacity=\"1\" /><path clip-path=\"url(#clip760)\" d=\"M1513.11 1532.4 L1518.96 1532.4 L1518.96 1568.04 L1513.11 1568.04 L1513.11 1532.4 M1513.11 1518.52 L1518.96 1518.52 L1518.96 1525.93 L1513.11 1525.93 L1513.11 1518.52 Z\" fill=\"#000000\" fill-rule=\"nonzero\" fill-opacity=\"1\" /><path clip-path=\"url(#clip760)\" d=\"M1545.03 1536.5 Q1540.32 1536.5 1537.58 1540.19 Q1534.84 1543.85 1534.84 1550.25 Q1534.84 1556.65 1537.55 1560.34 Q1540.29 1564 1545.03 1564 Q1549.71 1564 1552.45 1560.31 Q1555.18 1556.62 1555.18 1550.25 Q1555.18 1543.92 1552.45 1540.23 Q1549.71 1536.5 1545.03 1536.5 M1545.03 1531.54 Q1552.67 1531.54 1557.03 1536.5 Q1561.39 1541.47 1561.39 1550.25 Q1561.39 1559 1557.03 1564 Q1552.67 1568.97 1545.03 1568.97 Q1537.36 1568.97 1533 1564 Q1528.67 1559 1528.67 1550.25 Q1528.67 1541.47 1533 1536.5 Q1537.36 1531.54 1545.03 1531.54 Z\" fill=\"#000000\" fill-rule=\"nonzero\" fill-opacity=\"1\" /><path clip-path=\"url(#clip760)\" d=\"M1600.73 1546.53 L1600.73 1568.04 L1594.87 1568.04 L1594.87 1546.72 Q1594.87 1541.66 1592.9 1539.14 Q1590.93 1536.63 1586.98 1536.63 Q1582.24 1536.63 1579.5 1539.65 Q1576.76 1542.68 1576.76 1547.9 L1576.76 1568.04 L1570.87 1568.04 L1570.87 1532.4 L1576.76 1532.4 L1576.76 1537.93 Q1578.86 1534.72 1581.7 1533.13 Q1584.56 1531.54 1588.28 1531.54 Q1594.43 1531.54 1597.58 1535.36 Q1600.73 1539.14 1600.73 1546.53 Z\" fill=\"#000000\" fill-rule=\"nonzero\" fill-opacity=\"1\" /><path clip-path=\"url(#clip760)\" d=\"M1635.14 1533.45 L1635.14 1538.98 Q1632.65 1537.71 1629.98 1537.07 Q1627.31 1536.44 1624.44 1536.44 Q1620.08 1536.44 1617.88 1537.77 Q1615.72 1539.11 1615.72 1541.79 Q1615.72 1543.82 1617.28 1545 Q1618.84 1546.15 1623.55 1547.2 L1625.56 1547.64 Q1631.79 1548.98 1634.4 1551.43 Q1637.05 1553.85 1637.05 1558.21 Q1637.05 1563.17 1633.1 1566.07 Q1629.18 1568.97 1622.31 1568.97 Q1619.44 1568.97 1616.33 1568.39 Q1613.24 1567.85 1609.8 1566.74 L1609.8 1560.69 Q1613.05 1562.38 1616.2 1563.24 Q1619.35 1564.07 1622.44 1564.07 Q1626.57 1564.07 1628.8 1562.66 Q1631.03 1561.23 1631.03 1558.65 Q1631.03 1556.27 1629.41 1554.99 Q1627.82 1553.72 1622.37 1552.54 L1620.34 1552.07 Q1614.89 1550.92 1612.47 1548.56 Q1610.06 1546.18 1610.06 1542.04 Q1610.06 1537.01 1613.62 1534.27 Q1617.18 1531.54 1623.74 1531.54 Q1626.99 1531.54 1629.85 1532.01 Q1632.72 1532.49 1635.14 1533.45 Z\" fill=\"#000000\" fill-rule=\"nonzero\" fill-opacity=\"1\" /><polyline clip-path=\"url(#clip762)\" style=\"stroke:#000000; stroke-linecap:round; stroke-linejoin:round; stroke-width:2; stroke-opacity:0.1; fill:none\" points=\"219.866,1239.44 2352.76,1239.44 \"/>\n",
       "<polyline clip-path=\"url(#clip762)\" style=\"stroke:#000000; stroke-linecap:round; stroke-linejoin:round; stroke-width:2; stroke-opacity:0.1; fill:none\" points=\"219.866,1048.09 2352.76,1048.09 \"/>\n",
       "<polyline clip-path=\"url(#clip762)\" style=\"stroke:#000000; stroke-linecap:round; stroke-linejoin:round; stroke-width:2; stroke-opacity:0.1; fill:none\" points=\"219.866,856.753 2352.76,856.753 \"/>\n",
       "<polyline clip-path=\"url(#clip762)\" style=\"stroke:#000000; stroke-linecap:round; stroke-linejoin:round; stroke-width:2; stroke-opacity:0.1; fill:none\" points=\"219.866,665.412 2352.76,665.412 \"/>\n",
       "<polyline clip-path=\"url(#clip762)\" style=\"stroke:#000000; stroke-linecap:round; stroke-linejoin:round; stroke-width:2; stroke-opacity:0.1; fill:none\" points=\"219.866,474.071 2352.76,474.071 \"/>\n",
       "<polyline clip-path=\"url(#clip762)\" style=\"stroke:#000000; stroke-linecap:round; stroke-linejoin:round; stroke-width:2; stroke-opacity:0.1; fill:none\" points=\"219.866,282.729 2352.76,282.729 \"/>\n",
       "<polyline clip-path=\"url(#clip762)\" style=\"stroke:#000000; stroke-linecap:round; stroke-linejoin:round; stroke-width:2; stroke-opacity:0.1; fill:none\" points=\"219.866,91.388 2352.76,91.388 \"/>\n",
       "<polyline clip-path=\"url(#clip760)\" style=\"stroke:#000000; stroke-linecap:round; stroke-linejoin:round; stroke-width:4; stroke-opacity:1; fill:none\" points=\"219.866,1423.18 219.866,47.2441 \"/>\n",
       "<polyline clip-path=\"url(#clip760)\" style=\"stroke:#000000; stroke-linecap:round; stroke-linejoin:round; stroke-width:4; stroke-opacity:1; fill:none\" points=\"219.866,1239.44 238.764,1239.44 \"/>\n",
       "<polyline clip-path=\"url(#clip760)\" style=\"stroke:#000000; stroke-linecap:round; stroke-linejoin:round; stroke-width:4; stroke-opacity:1; fill:none\" points=\"219.866,1048.09 238.764,1048.09 \"/>\n",
       "<polyline clip-path=\"url(#clip760)\" style=\"stroke:#000000; stroke-linecap:round; stroke-linejoin:round; stroke-width:4; stroke-opacity:1; fill:none\" points=\"219.866,856.753 238.764,856.753 \"/>\n",
       "<polyline clip-path=\"url(#clip760)\" style=\"stroke:#000000; stroke-linecap:round; stroke-linejoin:round; stroke-width:4; stroke-opacity:1; fill:none\" points=\"219.866,665.412 238.764,665.412 \"/>\n",
       "<polyline clip-path=\"url(#clip760)\" style=\"stroke:#000000; stroke-linecap:round; stroke-linejoin:round; stroke-width:4; stroke-opacity:1; fill:none\" points=\"219.866,474.071 238.764,474.071 \"/>\n",
       "<polyline clip-path=\"url(#clip760)\" style=\"stroke:#000000; stroke-linecap:round; stroke-linejoin:round; stroke-width:4; stroke-opacity:1; fill:none\" points=\"219.866,282.729 238.764,282.729 \"/>\n",
       "<polyline clip-path=\"url(#clip760)\" style=\"stroke:#000000; stroke-linecap:round; stroke-linejoin:round; stroke-width:4; stroke-opacity:1; fill:none\" points=\"219.866,91.388 238.764,91.388 \"/>\n",
       "<path clip-path=\"url(#clip760)\" d=\"M127.917 1225.23 Q124.306 1225.23 122.478 1228.8 Q120.672 1232.34 120.672 1239.47 Q120.672 1246.58 122.478 1250.14 Q124.306 1253.68 127.917 1253.68 Q131.552 1253.68 133.357 1250.14 Q135.186 1246.58 135.186 1239.47 Q135.186 1232.34 133.357 1228.8 Q131.552 1225.23 127.917 1225.23 M127.917 1221.53 Q133.728 1221.53 136.783 1226.14 Q139.862 1230.72 139.862 1239.47 Q139.862 1248.2 136.783 1252.8 Q133.728 1257.39 127.917 1257.39 Q122.107 1257.39 119.029 1252.8 Q115.973 1248.2 115.973 1239.47 Q115.973 1230.72 119.029 1226.14 Q122.107 1221.53 127.917 1221.53 Z\" fill=\"#000000\" fill-rule=\"nonzero\" fill-opacity=\"1\" /><path clip-path=\"url(#clip760)\" d=\"M148.079 1250.84 L152.964 1250.84 L152.964 1256.72 L148.079 1256.72 L148.079 1250.84 Z\" fill=\"#000000\" fill-rule=\"nonzero\" fill-opacity=\"1\" /><path clip-path=\"url(#clip760)\" d=\"M163.959 1252.78 L171.598 1252.78 L171.598 1226.42 L163.288 1228.08 L163.288 1223.82 L171.552 1222.16 L176.227 1222.16 L176.227 1252.78 L183.866 1252.78 L183.866 1256.72 L163.959 1256.72 L163.959 1252.78 Z\" fill=\"#000000\" fill-rule=\"nonzero\" fill-opacity=\"1\" /><path clip-path=\"url(#clip760)\" d=\"M128.288 1033.89 Q124.677 1033.89 122.848 1037.46 Q121.043 1041 121.043 1048.13 Q121.043 1055.24 122.848 1058.8 Q124.677 1062.34 128.288 1062.34 Q131.922 1062.34 133.728 1058.8 Q135.556 1055.24 135.556 1048.13 Q135.556 1041 133.728 1037.46 Q131.922 1033.89 128.288 1033.89 M128.288 1030.19 Q134.098 1030.19 137.154 1034.8 Q140.232 1039.38 140.232 1048.13 Q140.232 1056.86 137.154 1061.46 Q134.098 1066.05 128.288 1066.05 Q122.478 1066.05 119.399 1061.46 Q116.343 1056.86 116.343 1048.13 Q116.343 1039.38 119.399 1034.8 Q122.478 1030.19 128.288 1030.19 Z\" fill=\"#000000\" fill-rule=\"nonzero\" fill-opacity=\"1\" /><path clip-path=\"url(#clip760)\" d=\"M148.45 1059.5 L153.334 1059.5 L153.334 1065.37 L148.45 1065.37 L148.45 1059.5 Z\" fill=\"#000000\" fill-rule=\"nonzero\" fill-opacity=\"1\" /><path clip-path=\"url(#clip760)\" d=\"M167.547 1061.44 L183.866 1061.44 L183.866 1065.37 L161.922 1065.37 L161.922 1061.44 Q164.584 1058.68 169.167 1054.06 Q173.774 1049.4 174.954 1048.06 Q177.2 1045.54 178.079 1043.8 Q178.982 1042.04 178.982 1040.35 Q178.982 1037.6 177.038 1035.86 Q175.116 1034.12 172.014 1034.12 Q169.815 1034.12 167.362 1034.89 Q164.931 1035.65 162.153 1037.2 L162.153 1032.48 Q164.977 1031.35 167.431 1030.77 Q169.885 1030.19 171.922 1030.19 Q177.292 1030.19 180.487 1032.87 Q183.681 1035.56 183.681 1040.05 Q183.681 1042.18 182.871 1044.1 Q182.084 1046 179.977 1048.59 Q179.399 1049.26 176.297 1052.48 Q173.195 1055.68 167.547 1061.44 Z\" fill=\"#000000\" fill-rule=\"nonzero\" fill-opacity=\"1\" /><path clip-path=\"url(#clip760)\" d=\"M127.339 842.552 Q123.728 842.552 121.899 846.117 Q120.093 849.658 120.093 856.788 Q120.093 863.894 121.899 867.459 Q123.728 871.001 127.339 871.001 Q130.973 871.001 132.779 867.459 Q134.607 863.894 134.607 856.788 Q134.607 849.658 132.779 846.117 Q130.973 842.552 127.339 842.552 M127.339 838.848 Q133.149 838.848 136.204 843.455 Q139.283 848.038 139.283 856.788 Q139.283 865.515 136.204 870.121 Q133.149 874.705 127.339 874.705 Q121.529 874.705 118.45 870.121 Q115.394 865.515 115.394 856.788 Q115.394 848.038 118.45 843.455 Q121.529 838.848 127.339 838.848 Z\" fill=\"#000000\" fill-rule=\"nonzero\" fill-opacity=\"1\" /><path clip-path=\"url(#clip760)\" d=\"M147.501 868.154 L152.385 868.154 L152.385 874.033 L147.501 874.033 L147.501 868.154 Z\" fill=\"#000000\" fill-rule=\"nonzero\" fill-opacity=\"1\" /><path clip-path=\"url(#clip760)\" d=\"M176.737 855.399 Q180.093 856.117 181.968 858.385 Q183.866 860.654 183.866 863.987 Q183.866 869.103 180.348 871.904 Q176.829 874.705 170.348 874.705 Q168.172 874.705 165.857 874.265 Q163.565 873.848 161.112 872.992 L161.112 868.478 Q163.056 869.612 165.371 870.191 Q167.686 870.769 170.209 870.769 Q174.607 870.769 176.899 869.033 Q179.214 867.297 179.214 863.987 Q179.214 860.932 177.061 859.219 Q174.931 857.482 171.112 857.482 L167.084 857.482 L167.084 853.64 L171.297 853.64 Q174.746 853.64 176.575 852.274 Q178.403 850.885 178.403 848.293 Q178.403 845.631 176.505 844.219 Q174.63 842.783 171.112 842.783 Q169.19 842.783 166.991 843.2 Q164.792 843.617 162.153 844.496 L162.153 840.33 Q164.815 839.589 167.13 839.219 Q169.468 838.848 171.528 838.848 Q176.852 838.848 179.954 841.279 Q183.056 843.686 183.056 847.807 Q183.056 850.677 181.413 852.668 Q179.769 854.635 176.737 855.399 Z\" fill=\"#000000\" fill-rule=\"nonzero\" fill-opacity=\"1\" /><path clip-path=\"url(#clip760)\" d=\"M126.205 651.211 Q122.593 651.211 120.765 654.775 Q118.959 658.317 118.959 665.447 Q118.959 672.553 120.765 676.118 Q122.593 679.66 126.205 679.66 Q129.839 679.66 131.644 676.118 Q133.473 672.553 133.473 665.447 Q133.473 658.317 131.644 654.775 Q129.839 651.211 126.205 651.211 M126.205 647.507 Q132.015 647.507 135.07 652.113 Q138.149 656.697 138.149 665.447 Q138.149 674.174 135.07 678.78 Q132.015 683.363 126.205 683.363 Q120.394 683.363 117.316 678.78 Q114.26 674.174 114.26 665.447 Q114.26 656.697 117.316 652.113 Q120.394 647.507 126.205 647.507 Z\" fill=\"#000000\" fill-rule=\"nonzero\" fill-opacity=\"1\" /><path clip-path=\"url(#clip760)\" d=\"M146.366 676.812 L151.251 676.812 L151.251 682.692 L146.366 682.692 L146.366 676.812 Z\" fill=\"#000000\" fill-rule=\"nonzero\" fill-opacity=\"1\" /><path clip-path=\"url(#clip760)\" d=\"M174.283 652.206 L162.477 670.655 L174.283 670.655 L174.283 652.206 M173.056 648.132 L178.936 648.132 L178.936 670.655 L183.866 670.655 L183.866 674.544 L178.936 674.544 L178.936 682.692 L174.283 682.692 L174.283 674.544 L158.681 674.544 L158.681 670.03 L173.056 648.132 Z\" fill=\"#000000\" fill-rule=\"nonzero\" fill-opacity=\"1\" /><path clip-path=\"url(#clip760)\" d=\"M127.686 459.869 Q124.075 459.869 122.246 463.434 Q120.441 466.976 120.441 474.105 Q120.441 481.212 122.246 484.777 Q124.075 488.318 127.686 488.318 Q131.32 488.318 133.126 484.777 Q134.954 481.212 134.954 474.105 Q134.954 466.976 133.126 463.434 Q131.32 459.869 127.686 459.869 M127.686 456.166 Q133.496 456.166 136.552 460.772 Q139.63 465.355 139.63 474.105 Q139.63 482.832 136.552 487.439 Q133.496 492.022 127.686 492.022 Q121.876 492.022 118.797 487.439 Q115.742 482.832 115.742 474.105 Q115.742 465.355 118.797 460.772 Q121.876 456.166 127.686 456.166 Z\" fill=\"#000000\" fill-rule=\"nonzero\" fill-opacity=\"1\" /><path clip-path=\"url(#clip760)\" d=\"M147.848 485.471 L152.732 485.471 L152.732 491.351 L147.848 491.351 L147.848 485.471 Z\" fill=\"#000000\" fill-rule=\"nonzero\" fill-opacity=\"1\" /><path clip-path=\"url(#clip760)\" d=\"M162.964 456.791 L181.32 456.791 L181.32 460.726 L167.246 460.726 L167.246 469.198 Q168.264 468.851 169.283 468.689 Q170.302 468.504 171.32 468.504 Q177.107 468.504 180.487 471.675 Q183.866 474.846 183.866 480.263 Q183.866 485.841 180.394 488.943 Q176.922 492.022 170.602 492.022 Q168.427 492.022 166.158 491.652 Q163.913 491.281 161.505 490.54 L161.505 485.841 Q163.589 486.976 165.811 487.531 Q168.033 488.087 170.51 488.087 Q174.514 488.087 176.852 485.98 Q179.19 483.874 179.19 480.263 Q179.19 476.652 176.852 474.545 Q174.514 472.439 170.51 472.439 Q168.635 472.439 166.76 472.855 Q164.908 473.272 162.964 474.152 L162.964 456.791 Z\" fill=\"#000000\" fill-rule=\"nonzero\" fill-opacity=\"1\" /><path clip-path=\"url(#clip760)\" d=\"M126.529 268.528 Q122.918 268.528 121.089 272.093 Q119.283 275.634 119.283 282.764 Q119.283 289.87 121.089 293.435 Q122.918 296.977 126.529 296.977 Q130.163 296.977 131.968 293.435 Q133.797 289.87 133.797 282.764 Q133.797 275.634 131.968 272.093 Q130.163 268.528 126.529 268.528 M126.529 264.824 Q132.339 264.824 135.394 269.431 Q138.473 274.014 138.473 282.764 Q138.473 291.491 135.394 296.097 Q132.339 300.681 126.529 300.681 Q120.718 300.681 117.64 296.097 Q114.584 291.491 114.584 282.764 Q114.584 274.014 117.64 269.431 Q120.718 264.824 126.529 264.824 Z\" fill=\"#000000\" fill-rule=\"nonzero\" fill-opacity=\"1\" /><path clip-path=\"url(#clip760)\" d=\"M146.691 294.13 L151.575 294.13 L151.575 300.009 L146.691 300.009 L146.691 294.13 Z\" fill=\"#000000\" fill-rule=\"nonzero\" fill-opacity=\"1\" /><path clip-path=\"url(#clip760)\" d=\"M172.339 280.866 Q169.19 280.866 167.339 283.019 Q165.51 285.171 165.51 288.921 Q165.51 292.648 167.339 294.824 Q169.19 296.977 172.339 296.977 Q175.487 296.977 177.315 294.824 Q179.167 292.648 179.167 288.921 Q179.167 285.171 177.315 283.019 Q175.487 280.866 172.339 280.866 M181.621 266.213 L181.621 270.472 Q179.862 269.639 178.056 269.199 Q176.274 268.759 174.514 268.759 Q169.885 268.759 167.431 271.884 Q165.001 275.009 164.653 281.329 Q166.019 279.315 168.079 278.25 Q170.139 277.162 172.616 277.162 Q177.825 277.162 180.834 280.333 Q183.866 283.482 183.866 288.921 Q183.866 294.245 180.718 297.463 Q177.57 300.681 172.339 300.681 Q166.343 300.681 163.172 296.097 Q160.001 291.491 160.001 282.764 Q160.001 274.57 163.89 269.709 Q167.778 264.824 174.329 264.824 Q176.089 264.824 177.871 265.172 Q179.676 265.519 181.621 266.213 Z\" fill=\"#000000\" fill-rule=\"nonzero\" fill-opacity=\"1\" /><path clip-path=\"url(#clip760)\" d=\"M127.593 77.1866 Q123.982 77.1866 122.154 80.7514 Q120.348 84.2931 120.348 91.4227 Q120.348 98.5291 122.154 102.094 Q123.982 105.636 127.593 105.636 Q131.228 105.636 133.033 102.094 Q134.862 98.5291 134.862 91.4227 Q134.862 84.2931 133.033 80.7514 Q131.228 77.1866 127.593 77.1866 M127.593 73.483 Q133.404 73.483 136.459 78.0894 Q139.538 82.6727 139.538 91.4227 Q139.538 100.149 136.459 104.756 Q133.404 109.339 127.593 109.339 Q121.783 109.339 118.705 104.756 Q115.649 100.149 115.649 91.4227 Q115.649 82.6727 118.705 78.0894 Q121.783 73.483 127.593 73.483 Z\" fill=\"#000000\" fill-rule=\"nonzero\" fill-opacity=\"1\" /><path clip-path=\"url(#clip760)\" d=\"M147.755 102.788 L152.64 102.788 L152.64 108.668 L147.755 108.668 L147.755 102.788 Z\" fill=\"#000000\" fill-rule=\"nonzero\" fill-opacity=\"1\" /><path clip-path=\"url(#clip760)\" d=\"M161.644 74.108 L183.866 74.108 L183.866 76.0987 L171.32 108.668 L166.436 108.668 L178.241 78.0431 L161.644 78.0431 L161.644 74.108 Z\" fill=\"#000000\" fill-rule=\"nonzero\" fill-opacity=\"1\" /><path clip-path=\"url(#clip760)\" d=\"M33.7671 843.779 L14.479 843.779 L14.479 837.923 L64.0042 837.923 L64.0042 843.779 L58.657 843.779 Q61.8398 845.625 63.3994 848.458 Q64.9272 851.259 64.9272 855.206 Q64.9272 861.667 59.771 865.741 Q54.6147 869.783 46.212 869.783 Q37.8093 869.783 32.6531 865.741 Q27.4968 861.667 27.4968 855.206 Q27.4968 851.259 29.0564 848.458 Q30.5842 845.625 33.7671 843.779 M46.212 863.736 Q52.6732 863.736 56.3653 861.094 Q60.0256 858.42 60.0256 853.773 Q60.0256 849.126 56.3653 846.453 Q52.6732 843.779 46.212 843.779 Q39.7508 843.779 36.0905 846.453 Q32.3984 849.126 32.3984 853.773 Q32.3984 858.42 36.0905 861.094 Q39.7508 863.736 46.212 863.736 Z\" fill=\"#000000\" fill-rule=\"nonzero\" fill-opacity=\"1\" /><path clip-path=\"url(#clip760)\" d=\"M28.3562 825.86 L28.3562 820.003 L64.0042 820.003 L64.0042 825.86 L28.3562 825.86 M14.479 825.86 L14.479 820.003 L21.895 820.003 L21.895 825.86 L14.479 825.86 Z\" fill=\"#000000\" fill-rule=\"nonzero\" fill-opacity=\"1\" /><path clip-path=\"url(#clip760)\" d=\"M29.4065 785.024 L34.9447 785.024 Q33.6716 787.506 33.035 790.18 Q32.3984 792.853 32.3984 795.718 Q32.3984 800.079 33.7352 802.275 Q35.072 804.439 37.7456 804.439 Q39.7826 804.439 40.9603 802.879 Q42.1061 801.32 43.1565 796.609 L43.6021 794.604 Q44.9389 788.366 47.3897 785.756 Q49.8086 783.114 54.1691 783.114 Q59.1344 783.114 62.0308 787.061 Q64.9272 790.976 64.9272 797.851 Q64.9272 800.715 64.3543 803.834 Q63.8132 806.922 62.6992 810.359 L56.6518 810.359 Q58.3387 807.113 59.198 803.962 Q60.0256 800.811 60.0256 797.723 Q60.0256 793.585 58.6251 791.358 Q57.1929 789.13 54.6147 789.13 Q52.2276 789.13 50.9545 790.753 Q49.6813 792.344 48.5037 797.787 L48.0262 799.824 Q46.8804 805.267 44.5251 807.686 Q42.138 810.105 38.0002 810.105 Q32.9713 810.105 30.2341 806.54 Q27.4968 802.975 27.4968 796.418 Q27.4968 793.172 27.9743 790.307 Q28.4517 787.443 29.4065 785.024 Z\" fill=\"#000000\" fill-rule=\"nonzero\" fill-opacity=\"1\" /><path clip-path=\"url(#clip760)\" d=\"M18.2347 767.995 L28.3562 767.995 L28.3562 755.932 L32.9077 755.932 L32.9077 767.995 L52.2594 767.995 Q56.6199 767.995 57.8613 766.818 Q59.1026 765.608 59.1026 761.948 L59.1026 755.932 L64.0042 755.932 L64.0042 761.948 Q64.0042 768.727 61.4897 771.306 Q58.9434 773.884 52.2594 773.884 L32.9077 773.884 L32.9077 778.18 L28.3562 778.18 L28.3562 773.884 L18.2347 773.884 L18.2347 767.995 Z\" fill=\"#000000\" fill-rule=\"nonzero\" fill-opacity=\"1\" /><path clip-path=\"url(#clip760)\" d=\"M46.0847 732.029 Q46.0847 739.127 47.7079 741.864 Q49.3312 744.601 53.2461 744.601 Q56.3653 744.601 58.2114 742.564 Q60.0256 740.496 60.0256 736.963 Q60.0256 732.093 56.5881 729.165 Q53.1188 726.204 47.3897 726.204 L46.0847 726.204 L46.0847 732.029 M43.6657 720.348 L64.0042 720.348 L64.0042 726.204 L58.5933 726.204 Q61.8398 728.21 63.3994 731.202 Q64.9272 734.193 64.9272 738.522 Q64.9272 743.997 61.8716 747.243 Q58.7843 750.458 53.6281 750.458 Q47.6125 750.458 44.5569 746.447 Q41.5014 742.405 41.5014 734.416 L41.5014 726.204 L40.9285 726.204 Q36.8862 726.204 34.6901 728.878 Q32.4621 731.52 32.4621 736.326 Q32.4621 739.382 33.1941 742.278 Q33.9262 745.174 35.3903 747.848 L29.9795 747.848 Q28.7381 744.633 28.1334 741.61 Q27.4968 738.586 27.4968 735.721 Q27.4968 727.987 31.5072 724.167 Q35.5176 720.348 43.6657 720.348 Z\" fill=\"#000000\" fill-rule=\"nonzero\" fill-opacity=\"1\" /><path clip-path=\"url(#clip760)\" d=\"M42.4881 678.653 L64.0042 678.653 L64.0042 684.509 L42.679 684.509 Q37.6183 684.509 35.1038 686.482 Q32.5894 688.456 32.5894 692.403 Q32.5894 697.145 35.6131 699.882 Q38.6368 702.62 43.8567 702.62 L64.0042 702.62 L64.0042 708.508 L28.3562 708.508 L28.3562 702.62 L33.8944 702.62 Q30.6797 700.519 29.0883 697.686 Q27.4968 694.822 27.4968 691.098 Q27.4968 684.955 31.3163 681.804 Q35.1038 678.653 42.4881 678.653 Z\" fill=\"#000000\" fill-rule=\"nonzero\" fill-opacity=\"1\" /><path clip-path=\"url(#clip760)\" d=\"M29.7248 641.318 L35.1993 641.318 Q33.8307 643.8 33.1623 646.315 Q32.4621 648.798 32.4621 651.344 Q32.4621 657.041 36.0905 660.192 Q39.6872 663.343 46.212 663.343 Q52.7369 663.343 56.3653 660.192 Q59.9619 657.041 59.9619 651.344 Q59.9619 648.798 59.2935 646.315 Q58.5933 643.8 57.2247 641.318 L62.6355 641.318 Q63.7814 643.769 64.3543 646.41 Q64.9272 649.02 64.9272 651.98 Q64.9272 660.033 59.8664 664.775 Q54.8057 669.518 46.212 669.518 Q37.491 669.518 32.4939 664.744 Q27.4968 659.937 27.4968 651.598 Q27.4968 648.893 28.0697 646.315 Q28.6108 643.737 29.7248 641.318 Z\" fill=\"#000000\" fill-rule=\"nonzero\" fill-opacity=\"1\" /><path clip-path=\"url(#clip760)\" d=\"M44.7161 600.641 L47.5806 600.641 L47.5806 627.568 Q53.6281 627.186 56.8109 623.939 Q59.9619 620.661 59.9619 614.836 Q59.9619 611.463 59.1344 608.312 Q58.3069 605.129 56.6518 602.01 L62.1899 602.01 Q63.5267 605.161 64.227 608.471 Q64.9272 611.781 64.9272 615.187 Q64.9272 623.717 59.9619 628.714 Q54.9967 633.679 46.5303 633.679 Q37.7774 633.679 32.6531 628.968 Q27.4968 624.226 27.4968 616.205 Q27.4968 609.012 32.1438 604.842 Q36.7589 600.641 44.7161 600.641 M42.9973 606.497 Q38.1912 606.561 35.3266 609.203 Q32.4621 611.813 32.4621 616.141 Q32.4621 621.043 35.2312 624.003 Q38.0002 626.931 43.0292 627.377 L42.9973 606.497 Z\" fill=\"#000000\" fill-rule=\"nonzero\" fill-opacity=\"1\" /><polyline clip-path=\"url(#clip762)\" style=\"stroke:#009af9; stroke-linecap:round; stroke-linejoin:round; stroke-width:4; stroke-opacity:1; fill:none\" points=\"280.231,1384.24 281.238,1384.13 282.244,1383.88 283.251,1383.77 284.257,1383.61 285.264,1383.46 286.271,1383.3 287.277,1383.15 288.284,1383.03 289.29,1382.87 290.297,1382.72 291.303,1382.56 292.31,1382.44 293.317,1382.32 294.323,1382.1 295.33,1381.89 296.336,1381.73 297.343,1381.61 298.35,1381.39 299.356,1381.26 300.363,1381.09 301.369,1380.87 302.376,1380.74 303.382,1380.61 304.389,1380.43 305.396,1380.34 306.402,1380.24 307.409,1380.11 308.415,1379.88 309.422,1379.7 310.429,1379.47 311.435,1379.37 312.442,1379.24 313.448,1379.15 314.455,1379 315.461,1378.9 316.468,1378.66 317.475,1378.52 318.481,1378.32 319.488,1378.18 320.494,1377.93 321.501,1377.68 322.508,1377.49 323.514,1377.34 324.521,1377.14 325.527,1376.87 326.534,1376.76 327.54,1376.56 328.547,1376.35 329.554,1376.14 330.56,1375.79 331.567,1375.58 332.573,1375.43 333.58,1375.15 334.587,1374.94 335.593,1374.72 336.6,1374.55 337.606,1374.38 338.613,1374.16 339.619,1373.99 340.626,1373.87 341.633,1373.64 342.639,1373.41 343.646,1373.18 344.652,1372.95 345.659,1372.64 346.666,1372.41 347.672,1372.16 348.679,1371.92 349.685,1371.92 350.692,1371.79 351.698,1371.6 352.705,1371.5 353.712,1371.26 354.718,1371.12 355.725,1370.93 356.731,1370.73 357.738,1370.48 358.745,1370.3 359.751,1370.19 360.758,1369.94 361.764,1369.8 362.771,1369.54 363.777,1369.34 364.784,1369.19 365.791,1368.75 366.797,1368.6 367.804,1368.46 368.81,1368.19 369.817,1367.98 370.824,1367.83 371.83,1367.63 372.837,1367.35 373.843,1366.98 374.85,1366.88 375.856,1366.66 376.863,1366.44 377.87,1366.22 378.876,1365.99 379.883,1365.83 380.889,1365.66 381.896,1365.28 382.903,1364.98 383.909,1364.79 384.916,1364.8 385.922,1364.49 386.929,1364.32 387.935,1364.01 388.942,1363.83 389.949,1363.59 390.955,1363.28 391.962,1363.27 392.968,1363.26 393.975,1363.01 394.982,1362.7 395.988,1362.57 396.995,1362.24 398.001,1361.91 399.008,1361.66 400.014,1361.41 401.021,1361.15 402.028,1361.03 403.034,1360.68 404.041,1360.55 405.047,1360.35 406.054,1360.16 407.061,1359.89 408.067,1359.8 409.074,1359.44 410.08,1359.3 411.087,1359.31 412.093,1359.04 413.1,1358.68 414.107,1358.31 415.113,1357.83 416.12,1357.55 417.126,1357.54 418.133,1357.26 419.14,1356.76 420.146,1356.46 421.153,1355.96 422.159,1355.65 423.166,1355.64 424.172,1355.34 425.179,1355.29 426.186,1355.13 427.192,1354.82 428.199,1354.59 429.205,1354.42 430.212,1354.2 431.219,1354.19 432.225,1353.89 433.232,1353.72 434.238,1353.61 435.245,1353.29 436.251,1353.05 437.258,1352.81 438.265,1352.25 439.271,1351.91 440.278,1351.67 441.284,1351.67 442.291,1351.5 443.298,1351.5 444.304,1351.33 445.311,1350.74 446.317,1350.62 447.324,1350.03 448.33,1349.76 449.337,1349.68 450.344,1349.21 451.35,1349.2 452.357,1348.94 453.363,1348.67 454.37,1348.55 455.377,1348.41 456.383,1348.13 457.39,1347.87 458.396,1347.7 459.403,1347.34 460.409,1347.06 461.416,1347 462.423,1346.71 463.429,1346.58 464.436,1346.49 465.442,1346.2 466.449,1345.93 467.456,1345.74 468.462,1345.45 469.469,1344.92 470.475,1344.53 471.482,1344.33 472.488,1343.8 473.495,1343.79 474.502,1343.47 475.508,1343.23 476.515,1342.82 477.521,1342.52 478.528,1342.23 479.535,1341.81 480.541,1341.37 481.548,1341.15 482.554,1341.15 483.561,1340.99 484.567,1340.55 485.574,1340.11 486.581,1339.78 487.587,1339.46 488.594,1339.23 489.6,1338.61 490.607,1338.36 491.614,1337.9 492.62,1337.27 493.627,1336.92 494.633,1336.44 495.64,1336.44 496.646,1335.95 497.653,1335.46 498.66,1335.46 499.666,1335.46 500.673,1335.45 501.679,1335.38 502.686,1335.03 503.693,1334.77 504.699,1334.77 505.706,1334.6 506.712,1334.21 507.719,1333.94 508.725,1333.83 509.732,1333.29 510.739,1332.91 511.745,1332.22 512.752,1331.94 513.758,1331.42 514.765,1331.43 515.772,1331.03 516.778,1330.49 517.785,1330.43 518.791,1330.41 519.798,1330.13 520.804,1330.12 521.811,1329.84 522.818,1329.65 523.824,1329.24 524.831,1329.23 525.837,1328.81 526.844,1328.22 527.851,1327.66 528.857,1327.67 529.864,1327.24 530.87,1326.8 531.877,1326 532.883,1326 533.89,1325.59 534.897,1324.97 535.903,1324.64 536.91,1324.18 537.916,1323.84 538.923,1323.53 539.93,1323.06 540.936,1322.59 541.943,1322.25 542.949,1321.38 543.956,1321.38 544.962,1321.13 545.969,1321.13 546.976,1320.79 547.982,1320.13 548.989,1319.76 549.995,1319.77 551.002,1319.1 552.009,1318.83 553.015,1318.81 554.022,1318.81 555.028,1318.44 556.035,1318.45 557.041,1317.76 558.048,1317.39 559.055,1317.4 560.061,1317.14 561.068,1316.6 562.074,1316.09 563.081,1316.14 564.088,1315.31 565.094,1314.75 566.101,1314.71 567.107,1314.71 568.114,1314.18 569.12,1313.43 570.127,1312.69 571.134,1312.7 572.14,1312.32 573.147,1312.05 574.153,1311.79 575.16,1311.03 576.167,1310.43 577.173,1310.43 578.18,1310.45 579.186,1310.39 580.193,1309.98 581.199,1309.79 582.206,1309.25 583.213,1309.24 584.219,1308.8 585.226,1308.82 586.232,1308.51 587.239,1308.1 588.246,1307.25 589.252,1306.8 590.259,1306.4 591.265,1306.4 592.272,1305.91 593.278,1305.89 594.285,1305.22 595.292,1304.82 596.298,1305.29 597.305,1304.95 598.311,1304.61 599.318,1303.94 600.325,1303.95 601.331,1303.96 602.338,1303.95 603.344,1303.46 604.351,1303 605.357,1302.76 606.364,1302.52 607.371,1302.29 608.377,1302.27 609.384,1301.04 610.39,1301.04 611.397,1300.67 612.404,1300.44 613.41,1300.2 614.417,1300.21 615.423,1299.9 616.43,1300.12 617.436,1300.1 618.443,1299.57 619.45,1299.08 620.456,1298.36 621.463,1297.64 622.469,1296.64 623.476,1296.53 624.483,1296.53 625.489,1296.51 626.496,1296.49 627.502,1295.74 628.509,1294.47 629.515,1293.9 630.522,1293.15 631.529,1293.12 632.535,1292.75 633.542,1291.96 634.548,1291.38 635.555,1291.34 636.562,1290.92 637.568,1290.92 638.575,1290.66 639.581,1290.67 640.588,1289.85 641.594,1289.55 642.601,1288.71 643.608,1288.56 644.614,1288.53 645.621,1288.11 646.627,1287.52 647.634,1287.09 648.641,1286.83 649.647,1286.78 650.654,1286.21 651.66,1285.35 652.667,1285.31 653.673,1285.12 654.68,1285.15 655.687,1285.17 656.693,1284.87 657.7,1283.95 658.706,1283.63 659.713,1282.76 660.72,1282.45 661.726,1282.46 662.733,1282.28 663.739,1281.37 664.746,1281.38 665.752,1281.2 666.759,1281.17 667.766,1280.51 668.772,1280.2 669.779,1280.02 670.785,1280.01 671.792,1279.53 672.799,1279.03 673.805,1277.69 674.812,1277.18 675.818,1276.91 676.825,1275.92 677.831,1275.64 678.838,1274.63 679.845,1274.62 680.851,1274.6 681.858,1273.85 682.864,1273.88 683.871,1273.51 684.878,1272.5 685.884,1272.24 686.891,1271.87 687.897,1271.88 688.904,1271.65 689.91,1271.17 690.917,1271.18 691.924,1269.26 692.93,1269.13 693.937,1268.63 694.943,1268.09 695.95,1267.58 696.957,1267.58 697.963,1266.76 698.97,1265.67 699.976,1264.84 700.983,1263.99 701.989,1263.96 702.996,1263.71 704.003,1263.68 705.009,1262.84 706.016,1262.86 707.022,1261.27 708.029,1260.9 709.036,1260.92 710.042,1260.93 711.049,1260.31 712.055,1260.14 713.062,1259.75 714.068,1258.07 715.075,1257.43 716.082,1256.57 717.088,1256.6 718.095,1255.93 719.101,1256.07 720.108,1256.05 721.115,1256.06 722.121,1255.12 723.128,1254.48 724.134,1254.47 725.141,1253.75 726.147,1253.75 727.154,1253.79 728.161,1253.8 729.167,1253.45 730.174,1253.15 731.18,1253.11 732.187,1252.83 733.194,1252.66 734.2,1252.22 735.207,1252.23 736.213,1251.26 737.22,1250.78 738.226,1250.45 739.233,1249.08 740.24,1248.41 741.246,1248.25 742.253,1246.41 743.259,1246.46 744.266,1246.59 745.273,1245.6 746.279,1245.61 747.286,1245.03 748.292,1244.32 749.299,1242.92 750.305,1242.9 751.312,1241.87 752.319,1241.15 753.325,1240.01 754.332,1240.03 755.338,1239.4 756.345,1239.43 757.352,1238.66 758.358,1237.53 759.365,1237.53 760.371,1236.32 761.378,1236.34 762.384,1235.5 763.391,1235.13 764.398,1235.03 765.404,1234.25 766.411,1234.25 767.417,1234.3 768.424,1233.18 769.431,1233.16 770.437,1232.35 771.444,1232.35 772.45,1232.48 773.457,1231.3 774.463,1230.35 775.47,1229.86 776.477,1229.34 777.483,1228.72 778.49,1228.32 779.496,1227.38 780.503,1227.38 781.51,1227.47 782.516,1226.33 783.523,1226.33 784.529,1226.24 785.536,1226.32 786.542,1226.52 787.549,1226.27 788.556,1225.69 789.562,1225.72 790.569,1224.82 791.575,1224.83 792.582,1223.11 793.589,1222.52 794.595,1222.18 795.602,1221.6 796.608,1221.63 797.615,1221.64 798.621,1221.69 799.628,1221.7 800.635,1221.13 801.641,1219.66 802.648,1219.08 803.654,1219.1 804.661,1219.22 805.668,1219.05 806.674,1218.61 807.681,1217.66 808.687,1218.04 809.694,1216.66 810.7,1214.06 811.707,1213.94 812.714,1213.88 813.72,1211.75 814.727,1211.8 815.733,1212.05 816.74,1211.87 817.747,1212 818.753,1211.4 819.76,1210.29 820.766,1210.19 821.773,1208.96 822.779,1208.97 823.786,1208.39 824.793,1208.18 825.799,1208.21 826.806,1207.78 827.812,1207.87 828.819,1207.1 829.826,1207.19 830.832,1205.61 831.839,1205.65 832.845,1204.99 833.852,1203.43 834.858,1202.32 835.865,1201.24 836.872,1201.49 837.878,1200.7 838.885,1200.69 839.891,1200.55 840.898,1200.29 841.905,1200.25 842.911,1199.12 843.918,1199.13 844.924,1198.78 845.931,1199.05 846.937,1198.92 847.944,1198.94 848.951,1196.62 849.957,1196.63 850.964,1196.62 851.97,1196.1 852.977,1195.38 853.984,1195.39 854.99,1194.17 855.997,1192.83 857.003,1192.21 858.01,1191.28 859.016,1190.05 860.023,1190.04 861.03,1190.05 862.036,1190.05 863.043,1189.51 864.049,1189.63 865.056,1188.36 866.063,1188.18 867.069,1188.19 868.076,1188.1 869.082,1187.15 870.089,1187.11 871.095,1187.1 872.102,1187.02 873.109,1186.9 874.115,1186.46 875.122,1186.26 876.128,1185.49 877.135,1184.22 878.142,1184.21 879.148,1183.37 880.155,1182.97 881.161,1182.07 882.168,1182.02 883.174,1181.43 884.181,1181.4 885.188,1181.26 886.194,1180.03 887.201,1179.96 888.207,1179.85 889.214,1178.38 890.221,1178.42 891.227,1178.41 892.234,1178.43 893.24,1178.34 894.247,1177.79 895.253,1176.84 896.26,1176.86 897.267,1176.85 898.273,1176.16 899.28,1175.33 900.286,1174.3 901.293,1174.32 902.3,1174.56 903.306,1172.64 904.313,1172.75 905.319,1173.08 906.326,1173.07 907.332,1172.91 908.339,1172.55 909.346,1172.53 910.352,1171.51 911.359,1167.58 912.365,1167.66 913.372,1167.63 914.379,1163.71 915.385,1162.67 916.392,1162.92 917.398,1162.95 918.405,1163 919.411,1162.4 920.418,1160.17 921.425,1159.81 922.431,1159.14 923.438,1159.15 924.444,1159.19 925.451,1158.52 926.458,1158.54 927.464,1158.54 928.471,1158.33 929.477,1157.68 930.484,1157.28 931.49,1156.87 932.497,1155.21 933.504,1155.18 934.51,1155.28 935.517,1154.13 936.523,1154.13 937.53,1153.44 938.537,1153.49 939.543,1150.98 940.55,1150.46 941.556,1148.96 942.563,1148.99 943.569,1149.13 944.576,1147.51 945.583,1147.56 946.589,1147.58 947.596,1145.78 948.602,1145.84 949.609,1145.83 950.616,1145.58 951.622,1145.11 952.629,1144.26 953.635,1142.94 954.642,1142.57 955.648,1139.89 956.655,1139.24 957.662,1138.4 958.668,1138.35 959.675,1138.35 960.681,1138.41 961.688,1138.42 962.695,1138.39 963.701,1138.06 964.708,1136.84 965.714,1135.95 966.721,1134.59 967.727,1131.84 968.734,1131.12 969.741,1130.3 970.747,1130.61 971.754,1130.5 972.76,1130.15 973.767,1128.84 974.774,1125.96 975.78,1125.75 976.787,1125.82 977.793,1122.76 978.8,1120.52 979.806,1119.95 980.813,1119.58 981.82,1119.14 982.826,1118.89 983.833,1118.82 984.839,1118.75 985.846,1118.27 986.853,1119 987.859,1118.98 988.866,1115.73 989.872,1115.03 990.879,1115.07 991.885,1114.44 992.892,1114.44 993.899,1113.56 994.905,1113.54 995.912,1113.64 996.918,1113.74 997.925,1113.91 998.932,1113.92 999.938,1113.87 1000.94,1117.17 1001.95,1117.42 1002.96,1115.93 1003.96,1115.96 1004.97,1115.97 1005.98,1115.66 1006.98,1116 1007.99,1115.95 1009,1115.86 1010,1113.67 1011.01,1112.76 1012.02,1112.76 1013.02,1112.73 1014.03,1112.71 1015.04,1111.22 1016.04,1111.12 1017.05,1111.09 1018.06,1108.01 1019.06,1107.5 1020.07,1105.99 1021.08,1103.63 1022.08,1103.48 1023.09,1102.34 1024.1,1101.7 1025.1,1101.46 1026.11,1101.28 1027.12,1101.19 1028.12,1099.96 1029.13,1100.11 1030.14,1100.17 1031.14,1100.32 1032.15,1099.4 1033.16,1094.49 1034.16,1094.59 1035.17,1094.18 1036.18,1091.52 1037.18,1091.1 1038.19,1090.89 1039.19,1090.65 1040.2,1090.63 1041.21,1090.63 1042.21,1090.62 1043.22,1087.83 1044.23,1085.95 1045.23,1085.75 1046.24,1085.8 1047.25,1086.51 1048.25,1086.21 1049.26,1086.12 1050.27,1086.06 1051.27,1085.9 1052.28,1085.78 1053.29,1085.85 1054.29,1085.83 1055.3,1085.99 1056.31,1085.12 1057.31,1085.01 1058.32,1085.07 1059.33,1085.5 1060.33,1083.79 1061.34,1082.16 1062.35,1082.16 1063.35,1082.16 1064.36,1082.13 1065.37,1082.23 1066.37,1081.99 1067.38,1081.99 1068.39,1081.96 1069.39,1082.16 1070.4,1082.37 1071.41,1081.02 1072.41,1077.16 1073.42,1076.04 1074.43,1075.97 1075.43,1076.01 1076.44,1076.05 1077.45,1074.92 1078.45,1074.89 1079.46,1075 1080.46,1074.03 1081.47,1073.91 1082.48,1069.82 1083.48,1069.25 1084.49,1070.37 1085.5,1070.3 1086.5,1070.48 1087.51,1070.08 1088.52,1070.22 1089.52,1068.11 1090.53,1067.59 1091.54,1068.03 1092.54,1066.77 1093.55,1065.04 1094.56,1062.62 1095.56,1062.74 1096.57,1061.51 1097.58,1060.14 1098.58,1056.93 1099.59,1053.92 1100.6,1054.01 1101.6,1054.06 1102.61,1054.03 1103.62,1052.73 1104.62,1051.52 1105.63,1051.63 1106.64,1051.68 1107.64,1051.76 1108.65,1051.77 1109.66,1051.95 1110.66,1051.6 1111.67,1049.36 1112.68,1049.55 1113.68,1049.44 1114.69,1050.38 1115.7,1049.31 1116.7,1049.35 1117.71,1047.28 1118.71,1047.2 1119.72,1047.28 1120.73,1047.17 1121.73,1047 1122.74,1047.03 1123.75,1047.41 1124.75,1047.36 1125.76,1047.41 1126.77,1041.02 1127.77,1040.85 1128.78,1039.43 1129.79,1038.41 1130.79,1037.39 1131.8,1037.25 1132.81,1037.02 1133.81,1036.65 1134.82,1036.44 1135.83,1037.02 1136.83,1036.69 1137.84,1035.84 1138.85,1030.53 1139.85,1030.56 1140.86,1030.36 1141.87,1030.26 1142.87,1030.26 1143.88,1028.99 1144.89,1028.94 1145.89,1028.79 1146.9,1027.71 1147.91,1027.92 1148.91,1025.73 1149.92,1025.71 1150.93,1024.73 1151.93,1023.4 1152.94,1022.92 1153.95,1022.97 1154.95,1023.03 1155.96,1022.89 1156.97,1019.31 1157.97,1019.44 1158.98,1016.47 1159.98,1014.83 1160.99,1013.31 1162,1012.88 1163,1012.83 1164.01,1009.89 1165.02,1009.68 1166.02,1007.93 1167.03,1008.07 1168.04,1009.3 1169.04,1009.18 1170.05,1009.1 1171.06,1008.97 1172.06,1007.44 1173.07,1005.76 1174.08,1005.74 1175.08,1005.74 1176.09,1002.84 1177.1,1002.88 1178.1,1003.03 1179.11,1002.87 1180.12,1002.64 1181.12,1002.57 1182.13,1003.15 1183.14,1002.32 1184.14,1002.3 1185.15,1001.52 1186.16,1001.46 1187.16,1001.21 1188.17,999.966 1189.18,998.919 1190.18,998.928 1191.19,999.029 1192.2,999.167 1193.2,998.01 1194.21,997.978 1195.22,996.786 1196.22,996.655 1197.23,996.581 1198.24,996.581 1199.24,996.479 1200.25,996.614 1201.25,996.339 1202.26,996.18 1203.27,996.255 1204.27,994.236 1205.28,988.168 1206.29,984.137 1207.29,984.112 1208.3,984.28 1209.31,984.048 1210.31,983.866 1211.32,983.733 1212.33,983.471 1213.33,981.302 1214.34,981.017 1215.35,978.471 1216.35,977.443 1217.36,977.21 1218.37,977.179 1219.37,977.281 1220.38,977.372 1221.39,977.296 1222.39,977.555 1223.4,977.616 1224.41,974.085 1225.41,974.08 1226.42,970.619 1227.43,970.912 1228.43,969.744 1229.44,969.744 1230.45,969.792 1231.45,970.054 1232.46,970.65 1233.47,970.687 1234.47,969.928 1235.48,968.777 1236.49,969.024 1237.49,966.664 1238.5,966.446 1239.5,966.457 1240.51,965.903 1241.52,965.833 1242.52,965.545 1243.53,965.566 1244.54,965.459 1245.54,962.441 1246.55,962.901 1247.56,961.567 1248.56,961.54 1249.57,961.703 1250.58,960.478 1251.58,954.992 1252.59,954.062 1253.6,954.27 1254.6,953.242 1255.61,953.247 1256.62,953.309 1257.62,952.644 1258.63,947.302 1259.64,946.006 1260.64,945.994 1261.65,945.122 1262.66,941.319 1263.66,941.491 1264.67,940.875 1265.68,938.476 1266.68,936.161 1267.69,936.034 1268.7,935.338 1269.7,935.169 1270.71,932.633 1271.72,932.124 1272.72,932.657 1273.73,932.866 1274.74,931.398 1275.74,931.663 1276.75,932.154 1277.76,928.525 1278.76,927.733 1279.77,927.552 1280.77,926.969 1281.78,918.812 1282.79,919.025 1283.79,916.334 1284.8,914.991 1285.81,914.643 1286.81,915.208 1287.82,903.132 1288.83,903.523 1289.83,897.406 1290.84,897.371 1291.85,897.645 1292.85,897.743 1293.86,897.778 1294.87,897.533 1295.87,897.336 1296.88,896.872 1297.89,894.986 1298.89,894.518 1299.9,892.465 1300.91,891.455 1301.91,884.81 1302.92,883.822 1303.93,884.117 1304.93,884.117 1305.94,883.852 1306.95,884.81 1307.95,883.038 1308.96,883.378 1309.97,882.645 1310.97,882.14 1311.98,882.237 1312.99,879.422 1313.99,877.501 1315,877.312 1316.01,877.592 1317.01,877.297 1318.02,875.499 1319.03,874.797 1320.03,874.431 1321.04,874.179 1322.04,874.362 1323.05,874.362 1324.06,874.797 1325.06,874.767 1326.07,874.163 1327.08,874.324 1328.08,874.729 1329.09,872.437 1330.1,870.769 1331.1,871.982 1332.11,870.087 1333.12,868.335 1334.12,868.468 1335.13,868.476 1336.14,868.648 1337.14,867.929 1338.15,868.288 1339.16,868.413 1340.16,868.421 1341.17,867.036 1342.18,866.832 1343.18,866.832 1344.19,859.321 1345.2,853.407 1346.2,853.563 1347.21,852.772 1348.22,852.83 1349.22,852.591 1350.23,852.483 1351.24,850.777 1352.24,850.919 1353.25,842.753 1354.26,842.129 1355.26,842.163 1356.27,841.598 1357.28,840.551 1358.28,840.8 1359.29,840.705 1360.29,840.232 1361.3,836.672 1362.31,836.48 1363.31,835.397 1364.32,835.458 1365.33,835.878 1366.33,834.538 1367.34,832.769 1368.35,832.839 1369.35,832.733 1370.36,831.432 1371.37,831.459 1372.37,831.406 1373.38,829.153 1374.39,828.142 1375.39,827.693 1376.4,825.458 1377.41,825.512 1378.41,824.86 1379.42,824.851 1380.43,822.458 1381.43,820.542 1382.44,814.638 1383.45,812.154 1384.45,808.877 1385.46,809.421 1386.47,809.402 1387.47,809.545 1388.48,807.94 1389.49,804.23 1390.49,805.314 1391.5,802.491 1392.51,798.311 1393.51,797.896 1394.52,797.53 1395.53,797.391 1396.53,797.767 1397.54,797.975 1398.55,797.51 1399.55,793.715 1400.56,790.209 1401.56,790.422 1402.57,790.158 1403.58,789.418 1404.58,789.184 1405.59,787.39 1406.6,788.227 1407.6,788.309 1408.61,788.319 1409.62,788.35 1410.62,788.798 1411.63,788.808 1412.64,788.074 1413.64,788.074 1414.65,787.932 1415.66,787.779 1416.66,786.859 1417.67,787.329 1418.68,787.39 1419.68,787.39 1420.69,787.288 1421.7,785.525 1422.7,778.563 1423.71,764.07 1424.72,761.337 1425.72,758.593 1426.73,757.934 1427.74,757.397 1428.74,757.084 1429.75,756.725 1430.76,756.826 1431.76,757.33 1432.77,754.158 1433.78,754.384 1434.78,754.97 1435.79,753.343 1436.8,753.728 1437.8,753.433 1438.81,750.966 1439.82,750.51 1440.82,750.487 1441.83,752.401 1442.83,752.901 1443.84,752.367 1444.85,751.741 1445.85,750.727 1446.86,750.041 1447.87,756.669 1448.87,754.846 1449.88,754.88 1450.89,754.88 1451.89,743.864 1452.9,743.888 1453.91,743.165 1454.91,743.188 1455.92,743.316 1456.93,743.445 1457.93,738.073 1458.94,738.534 1459.95,738.108 1460.95,734.081 1461.96,734.081 1462.97,733.601 1463.97,736.767 1464.98,737.373 1465.99,729.327 1466.99,728.975 1468,728.707 1469.01,723.138 1470.01,717.506 1471.02,717.393 1472.03,717.719 1473.03,709.876 1474.04,709.414 1475.05,709.889 1476.05,710.389 1477.06,708.474 1478.07,707.881 1479.07,705.941 1480.08,705.383 1481.08,705.383 1482.09,705.474 1483.1,705.629 1484.1,705.357 1485.11,703.18 1486.12,703.194 1487.12,703.337 1488.13,703.651 1489.14,699.595 1490.14,699.027 1491.15,699.621 1492.16,699.185 1493.16,699.463 1494.17,698.868 1495.18,698.352 1496.18,698.1 1497.19,698.378 1498.2,698.365 1499.2,697.662 1500.21,698.02 1501.22,696.093 1502.22,695.092 1503.23,695.253 1504.24,694.999 1505.24,694.678 1506.25,695.092 1507.26,694.932 1508.26,695.092 1509.27,700.61 1510.28,699.172 1511.28,699.713 1512.29,699.251 1513.3,699.357 1514.3,699.436 1515.31,698.471 1516.32,697.251 1517.32,695.106 1518.33,695.226 1519.34,693.995 1520.34,694.035 1521.35,694.223 1522.35,694.116 1523.36,694.985 1524.37,693.874 1525.37,694.223 1526.38,693.995 1527.39,692.37 1528.39,692.37 1529.4,684.685 1530.41,685.069 1531.41,685.069 1532.42,685.467 1533.43,686.234 1534.43,673.341 1535.44,670.683 1536.45,670.712 1537.45,670.298 1538.46,670.726 1539.47,666.956 1540.47,668.538 1541.48,668.021 1542.49,667.69 1543.49,667.359 1544.5,666.956 1545.51,667.446 1546.51,664.732 1547.52,664.021 1548.53,657.433 1549.53,658.141 1550.54,657.876 1551.55,658.333 1552.55,658.421 1553.56,658.392 1554.57,650.084 1555.57,645.117 1556.58,645.422 1557.59,645.27 1558.59,645.574 1559.6,638.307 1560.61,638.199 1561.61,635.694 1562.62,635.444 1563.62,634.396 1564.63,634.318 1565.64,634.459 1566.64,634.678 1567.65,633.691 1568.66,623.862 1569.66,609.246 1570.67,608.228 1571.68,608.546 1572.68,609.363 1573.69,598.8 1574.7,598.715 1575.7,598.339 1576.71,598.698 1577.72,600.982 1578.72,600.063 1579.73,593.832 1580.74,593.295 1581.74,592.949 1582.75,593.036 1583.76,593.347 1584.76,593.867 1585.77,593.503 1586.78,594.558 1587.78,592.654 1588.79,587.787 1589.8,586.522 1590.8,586.241 1591.81,582.953 1592.82,584.281 1593.82,587.735 1594.83,587.647 1595.84,587.278 1596.84,587.823 1597.85,587.524 1598.86,587.542 1599.86,587.173 1600.87,582.384 1601.87,581.744 1602.88,578.815 1603.89,577.918 1604.89,577.739 1605.9,577.325 1606.91,577.631 1607.91,579.388 1608.92,579.71 1609.93,580.193 1610.93,580.139 1611.94,580.657 1612.95,578.618 1613.95,576.209 1614.96,575.649 1615.97,576.209 1616.97,576.623 1617.98,576.371 1618.99,578.654 1619.99,578.726 1621,576.263 1622.01,576.821 1623.01,573.84 1624.02,574.275 1625.03,572.205 1626.03,570.948 1627.04,571.276 1628.05,570.308 1629.05,557.959 1630.06,557.206 1631.07,552.451 1632.07,552.813 1633.08,554.048 1634.09,553.839 1635.09,553.63 1636.1,553.022 1637.11,551.937 1638.11,551.784 1639.12,549.853 1640.13,548.894 1641.13,550.944 1642.14,550.791 1643.14,549.987 1644.15,549.297 1645.16,549.891 1646.16,551.421 1647.17,550.906 1648.18,542.434 1649.18,542.18 1650.19,542.336 1651.2,542.551 1652.2,543.018 1653.21,542.59 1654.22,542.551 1655.22,536.905 1656.23,536.964 1657.24,527.577 1658.24,528.502 1659.25,529.325 1660.26,528.984 1661.26,529.305 1662.27,529.626 1663.28,528.603 1664.28,526.629 1665.29,526.568 1666.3,527.153 1667.3,525.376 1668.31,525.092 1669.32,525.7 1670.32,525.578 1671.33,526.367 1672.34,528.381 1673.34,529.165 1674.35,528.301 1675.36,529.526 1676.36,529.747 1677.37,530.588 1678.38,528.884 1679.38,528.019 1680.39,527.798 1681.4,527.073 1682.4,524.302 1683.41,523.571 1684.41,521.044 1685.42,521.392 1686.43,521.82 1687.43,513.13 1688.44,511.818 1689.45,509.812 1690.45,510.795 1691.46,509.917 1692.47,510.544 1693.47,511.276 1694.48,510.126 1695.49,504.017 1696.49,504.801 1697.5,501.124 1698.51,500.248 1699.51,500.612 1700.52,502.892 1701.53,504.229 1702.53,501.359 1703.54,503.232 1704.55,503.699 1705.55,506.576 1706.56,505.858 1707.57,505.71 1708.57,505.71 1709.58,503.38 1710.59,503.741 1711.59,503.529 1712.6,501.273 1713.61,494.959 1714.61,494.786 1715.62,494.743 1716.63,497.289 1717.63,497.848 1718.64,496.987 1719.65,497.052 1720.65,497.955 1721.66,484.553 1722.66,489.063 1723.67,488.164 1724.68,484.487 1725.68,480.356 1726.69,480.401 1727.7,480.579 1728.7,472.418 1729.71,467.816 1730.72,462.405 1731.72,460.782 1732.73,459.642 1733.74,459.712 1734.74,459.502 1735.75,459.502 1736.76,458.523 1737.76,458.15 1738.77,452.441 1739.78,451.281 1740.78,451.068 1741.79,448.978 1742.8,448.431 1743.8,447.31 1744.81,445.755 1745.82,446.234 1746.82,445.803 1747.83,446.21 1748.84,446.617 1749.84,445.611 1750.85,445.132 1751.86,445.252 1752.86,441.593 1753.87,440.238 1754.88,440.166 1755.88,441.376 1756.89,446.951 1757.9,449.026 1758.9,448.669 1759.91,447.787 1760.92,448.192 1761.92,447.142 1762.93,446.473 1763.93,446.521 1764.94,446.951 1765.95,445.587 1766.95,445.084 1767.96,444.964 1768.97,444.147 1769.97,438.637 1770.98,440.36 1771.99,439.705 1772.99,440.384 1774,441.134 1775.01,441.569 1776.01,441.158 1777.02,442.124 1778.03,442.149 1779.03,438.904 1780.04,434.121 1781.05,434.268 1782.05,437.299 1783.06,438.199 1784.07,438.637 1785.07,439.972 1786.08,438.029 1787.09,437.81 1788.09,437.859 1789.1,437.713 1790.11,438.977 1791.11,438.613 1792.12,437.737 1793.13,438.053 1794.13,437.055 1795.14,436.567 1796.15,437.469 1797.15,438.053 1798.16,438.297 1799.17,438.637 1800.17,438.759 1801.18,437.615 1802.19,436.25 1803.19,429.167 1804.2,419.261 1805.2,418.705 1806.21,419.109 1807.22,419.387 1808.22,415.509 1809.23,413.979 1810.24,413.826 1811.24,413.059 1812.25,412.343 1813.26,413.443 1814.26,413.366 1815.27,412.112 1816.28,412.676 1817.28,412.906 1818.29,412.804 1819.3,412.573 1820.3,413.571 1821.31,413.392 1822.32,413.213 1823.32,413.417 1824.33,414.515 1825.34,416.144 1826.34,416.119 1827.35,416.576 1828.36,417.135 1829.36,415.254 1830.37,415.305 1831.38,415.305 1832.38,416.779 1833.39,415.865 1834.4,415.865 1835.4,412.932 1836.41,414.515 1837.42,414.872 1838.42,415.941 1839.43,415.763 1840.44,415.228 1841.44,416.652 1842.45,417.54 1843.45,418.553 1844.46,419.766 1845.47,419.842 1846.47,420.9 1847.48,419.16 1848.49,418.705 1849.49,418.983 1850.5,419.842 1851.51,421.077 1852.51,408.9 1853.52,409.544 1854.53,410.444 1855.53,411.677 1856.54,411.856 1857.55,412.906 1858.55,413.085 1859.56,413.647 1860.57,413.647 1861.57,412.88 1862.58,412.369 1863.59,411.907 1864.59,410.316 1865.6,411.138 1866.61,408.126 1867.61,406.497 1868.62,399.586 1869.63,399.953 1870.63,397.666 1871.64,395.924 1872.65,395.606 1873.65,386.344 1874.66,385.886 1875.67,372.978 1876.67,370.208 1877.68,369.986 1878.69,369.263 1879.69,368.651 1880.7,368.484 1881.71,368.874 1882.71,368.149 1883.72,368.484 1884.72,368.316 1885.73,362.713 1886.74,362.403 1887.74,361.811 1888.75,362.008 1889.76,361.388 1890.76,355.225 1891.77,353.423 1892.78,353.48 1893.78,353.308 1894.79,353.194 1895.8,353.767 1896.8,354.482 1897.81,352.276 1898.82,355.853 1899.82,354.568 1900.83,354.568 1901.84,356.139 1902.84,355.882 1903.85,354.854 1904.86,354.74 1905.86,355.254 1906.87,356.424 1907.88,355.996 1908.88,354.74 1909.89,355.482 1910.9,352.993 1911.9,344.524 1912.91,336.601 1913.92,336.453 1914.92,336.039 1915.93,336.276 1916.94,335.506 1917.94,334.172 1918.95,334.854 1919.96,333.904 1920.96,334.943 1921.97,334.201 1922.98,335.447 1923.98,336.216 1924.99,338.754 1925.99,338.843 1927,339.843 1928.01,327.691 1929.01,322.772 1930.02,323.681 1931.03,314.435 1932.03,300.983 1933.04,300.604 1934.05,302.462 1935.05,301.739 1936.06,298.931 1937.07,299.563 1938.07,300.951 1939.08,300.573 1940.09,298.899 1941.09,296.68 1942.1,296.458 1943.11,295.632 1944.11,296.871 1945.12,298.298 1946.13,298.013 1947.13,295.791 1948.14,296.68 1949.15,301.896 1950.15,300.068 1951.16,300.415 1952.17,300.857 1953.17,301.518 1954.18,302.839 1955.19,305.002 1956.19,304.908 1957.2,304.908 1958.21,304.157 1959.21,302.87 1960.22,302.776 1961.23,301.329 1962.23,303.028 1963.24,302.745 1964.24,303.09 1965.25,302.713 1966.26,303.624 1967.26,303.31 1968.27,303.028 1969.28,303.184 1970.28,302.242 1971.29,301.896 1972.3,301.833 1973.3,300.762 1974.31,299.025 1975.32,299.531 1976.32,300.794 1977.33,302.902 1978.34,299.215 1979.34,294.102 1980.35,287.945 1981.36,287.525 1982.36,287.493 1983.37,287.235 1984.38,286.298 1985.38,287.073 1986.39,287.106 1987.4,289.265 1988.4,288.074 1989.41,287.59 1990.42,285.521 1991.42,286.298 1992.43,286.136 1993.44,281.459 1994.44,279.433 1995.45,279.204 1996.46,279.302 1997.46,276.48 1998.47,276.283 1999.48,274.965 2000.48,275.525 2001.49,275.888 2002.5,273.512 2003.5,269.83 2004.51,268.23 2005.51,267.963 2006.52,266.292 2007.53,267.429 2008.53,267.563 2009.54,256.263 2010.55,257.42 2011.55,257.725 2012.56,257.827 2013.57,251.784 2014.57,252.264 2015.58,253.463 2016.59,254.079 2017.59,253.805 2018.6,251.097 2019.61,251.166 2020.61,252.161 2021.62,252.23 2022.63,252.71 2023.63,252.778 2024.64,249.549 2025.65,249.549 2026.65,249.515 2027.66,247.064 2028.67,247.133 2029.67,247.202 2030.68,247.755 2031.69,247.548 2032.69,248.204 2033.7,249.342 2034.71,250.719 2035.71,242.375 2036.72,246.302 2037.73,246.371 2038.73,246.371 2039.74,245.227 2040.75,244.602 2041.75,244.498 2042.76,244.984 2043.77,244.741 2044.77,245.678 2045.78,245.955 2046.78,244.568 2047.79,245.713 2048.8,244.88 2049.8,246.094 2050.81,241.363 2051.82,240.174 2052.82,238.176 2053.83,235.783 2054.84,236.84 2055.84,236.1 2056.85,236.629 2057.86,236.945 2058.86,235.501 2059.87,235.466 2060.88,236.1 2061.88,235.713 2062.89,233.841 2063.9,234.371 2064.9,233.841 2065.91,235.219 2066.92,236.382 2067.92,240.139 2068.93,239.228 2069.94,239.228 2070.94,240.174 2071.95,234.159 2072.96,232.885 2073.96,225.542 2074.97,224.537 2075.98,224.142 2076.98,224.681 2077.99,224.573 2079,213.297 2080,214.467 2081.01,213.334 2082.02,212.858 2083.02,213.224 2084.03,206.193 2085.03,206.415 2086.04,206.156 2087.05,205.229 2088.05,204.97 2089.06,205.044 2090.07,204.562 2091.07,204.153 2092.08,204.599 2093.09,203.967 2094.09,197.655 2095.1,197.88 2096.11,195.248 2097.11,196.904 2098.12,194.267 2099.13,195.963 2100.13,191.733 2101.14,192.301 2102.15,192.149 2103.15,193.285 2104.16,192.717 2105.17,191.733 2106.17,185.179 2107.18,181.143 2108.19,176.539 2109.19,176.5 2110.2,183.721 2111.21,183.721 2112.21,184.335 2113.22,184.949 2114.23,184.757 2115.23,185.676 2116.24,186.135 2117.25,171.586 2118.25,171.939 2119.26,172.095 2120.27,175.528 2121.27,175.061 2122.28,174.399 2123.29,174.516 2124.29,174.671 2125.3,174.983 2126.3,175.022 2127.31,171.939 2128.32,170.254 2129.32,170.372 2130.33,169.155 2131.34,163.47 2132.34,159.133 2133.35,158.094 2134.36,159.931 2135.36,161.206 2136.37,162.001 2137.38,153.398 2138.38,155.048 2139.39,153.277 2140.4,157.214 2141.4,157.654 2142.41,157.534 2143.42,151.664 2144.42,150.046 2145.43,151.381 2146.44,149.438 2147.44,151.057 2148.45,151.26 2149.46,152.108 2150.46,153.559 2151.47,165.094 2152.48,165.687 2153.48,164.5 2154.49,164.342 2155.5,163.787 2156.5,161.365 2157.51,168.762 2158.52,170.489 2159.52,168.368 2160.53,169.469 2161.54,168.093 2162.54,171.821 2163.55,171.586 2164.56,173.346 2165.56,171.508 2166.57,171.077 2167.57,168.526 2168.58,168.211 2169.59,169.115 2170.59,170.372 2171.6,161.922 2172.61,159.971 2173.61,159.971 2174.62,159.852 2175.63,159.891 2176.63,156.332 2177.64,158.654 2178.65,158.014 2179.65,158.774 2180.66,158.734 2181.67,161.723 2182.67,160.768 2183.68,161.325 2184.69,160.688 2185.69,155.49 2186.7,156.132 2187.71,155.811 2188.71,158.934 2189.72,155.971 2190.73,154.203 2191.73,159.852 2192.74,145.739 2193.75,143.37 2194.75,135.796 2195.76,134.553 2196.77,136.706 2197.77,134.138 2198.78,132.808 2199.79,132.642 2200.79,127.797 2201.8,127.923 2202.81,128.635 2203.81,131.017 2204.82,126.16 2205.82,124.562 2206.83,123.466 2207.84,122.198 2208.84,120.675 2209.85,121.014 2210.86,121.691 2211.86,118.595 2212.87,117.872 2213.88,118.425 2214.88,118.85 2215.89,119.19 2216.9,119.275 2217.9,119.869 2218.91,118.255 2219.92,118.297 2220.92,117.829 2221.93,116.679 2222.94,112.53 2223.94,118.467 2224.95,116.21 2225.96,115.399 2226.96,115.014 2227.97,114.373 2228.98,114.972 2229.98,115.142 2230.99,115.698 2232,114.715 2233,116.85 2234.01,120.081 2235.02,122.579 2236.02,122.494 2237.03,119.742 2238.04,122.748 2239.04,122.156 2240.05,124.014 2241.06,125.488 2242.06,122.875 2243.07,127.378 2244.08,114.416 2245.08,115.142 2246.09,115.313 2247.09,114.886 2248.1,115.655 2249.11,108.528 2250.11,105.5 2251.12,108.14 2252.13,108.312 2253.13,111.156 2254.14,111.672 2255.15,109.606 2256.15,111.199 2257.16,109.951 2258.17,109.348 2259.17,109.908 2260.18,109.391 2261.19,108.312 2262.19,109.348 2263.2,111.242 2264.21,104.762 2265.21,100.931 2266.22,98.5688 2267.23,100.188 2268.23,98.8317 2269.24,99.7072 2270.25,99.6634 2271.25,98.3497 2272.26,93.952 2273.27,91.9635 2274.27,90.6346 2275.28,91.6537 2276.29,90.8562 2277.29,87.0332 2278.3,88.1913 2279.31,86.7657 2280.31,86.1857 2281.32,86.1857 2282.33,89.8359 2283.33,88.1023 2284.34,91.3437 2285.35,93.2015 2286.35,92.2732 2287.36,92.5386 2288.36,91.6094 2289.37,92.4059 2290.38,93.2015 2291.38,89.4363 2292.39,87.6571 \"/>\n",
       "</svg>\n"
      ]
     },
     "metadata": {},
     "output_type": "display_data"
    }
   ],
   "source": [
    "function distance3(sol1,sol2, n, k)\n",
    "    \"\"\"\n",
    "    Distance entropique\n",
    "    \"\"\"\n",
    "    X=zeros(Int, n, k)\n",
    "    Y=zeros(Int, n, k)\n",
    "    for i in 1:n\n",
    "        X[i, sol1[i]]=1\n",
    "        Y[i, sol2[i]]=1\n",
    "    end\n",
    "    M=transpose(X)*Y\n",
    "    M2=transpose(M)*M\n",
    "    T= [sum([M2[c1, c2] for c2 in 1:k]) for c1 in 1:k]\n",
    "    res=0\n",
    "    for c1 in 1:k\n",
    "        for c2 in 1:k\n",
    "            if M2[c1, c2]!=0\n",
    "                m1=M2[c1, c2]/T[c1]\n",
    "                res+=M2[c1, c2]^2\n",
    "            end\n",
    "        end\n",
    "    end\n",
    "    return 6*k^2/res\n",
    "end\n",
    "\n",
    "sol_tabou\n",
    "sol_taboubis=zeros(Int,n)\n",
    "for i in 1:n\n",
    "    sol_taboubis[i]=k+1-sol_tabou[i]\n",
    "end\n",
    "\n",
    "plot([distance3(sol_tabou,mutation(sol_taboubis,1, n, k), n, k) for i in 1:2*n], label=\"\",xlabel=\"Nombre de mutations\", ylabel=\"distance\", legend=false)"
   ]
  }
 ],
 "metadata": {
  "kernelspec": {
   "display_name": "Julia 1.9.3",
   "language": "julia",
   "name": "julia-1.9"
  },
  "language_info": {
   "file_extension": ".jl",
   "mimetype": "application/julia",
   "name": "julia",
   "version": "1.9.3"
  }
 },
 "nbformat": 4,
 "nbformat_minor": 4
}
